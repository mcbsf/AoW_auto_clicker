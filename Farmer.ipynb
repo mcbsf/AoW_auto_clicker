{
 "cells": [
  {
   "cell_type": "code",
   "execution_count": 1,
   "id": "10b28a17",
   "metadata": {},
   "outputs": [],
   "source": [
    "from pymouse import PyMouse\n",
    "from pykeyboard import PyKeyboard\n",
    "import time\n",
    "import random\n",
    "\n",
    "from IPython.display import clear_output"
   ]
  },
  {
   "cell_type": "code",
   "execution_count": 2,
   "id": "ac32b9c3",
   "metadata": {},
   "outputs": [],
   "source": [
    "m = PyMouse()\n",
    "k = PyKeyboard()\n",
    "\n",
    "cbs = coord_by_step = None"
   ]
  },
  {
   "cell_type": "code",
   "execution_count": 35,
   "id": "1b263e27",
   "metadata": {},
   "outputs": [],
   "source": [
    "#\"challenge_X, challenge_Y = 1253 ,  1832\\n\",\n",
    "    #\"fight_worse_X, fight_worse_Y = 1352 ,  1716\\n\",\n",
    "    #\"beggin_battle_X, beggin_battle_Y = 1254 ,  1807\\n\",\n",
    "    #\"next_battle_X, next_battle_Y = 1251 ,  1740\"\n",
    "#    1623 2147\n",
    "\n",
    "\n",
    "coordinates_screens_computer = {\n",
    "    'work': {\n",
    "        1: {\n",
    "            'start': {\n",
    "                'X': int(1680*0.7),\n",
    "                'Y': int(910*0.7) + 15,\n",
    "            },\n",
    "            'next_battle': {\n",
    "                'X': int(1723*0.7),\n",
    "                'Y': int(714*0.7) + 15,\n",
    "            },\n",
    "            'next_farm':{\n",
    "                'X': int(1194),\n",
    "                'Y': int(546) + 10,\n",
    "            },\n",
    "            'add1': {\n",
    "                'X': int(1870*0.7),\n",
    "                'Y': int(284*0.7) ,\n",
    "            },\n",
    "            'add2': {\n",
    "                'X': int(1305),#1307 167\n",
    "                'Y': int(165),\n",
    "            },\n",
    "            'headHuntHard': {\n",
    "                'X': int(1245),\n",
    "                'Y': int(685)#600,\n",
    "            },\n",
    "            'headHuntEasy': {\n",
    "                'X': int(1240),\n",
    "                'Y': int(498)#450,\n",
    "            }\n",
    "        },          \n",
    "    }\n",
    "}"
   ]
  },
  {
   "cell_type": "code",
   "execution_count": 25,
   "id": "6442706e",
   "metadata": {},
   "outputs": [],
   "source": [
    "def get_step_coord(coord_by_step, step, X_factor = 1, Y_factor = 1):\n",
    "    #advertising will have lower random values to hit the \"X\"\n",
    "    if(step != \"add1\" and step != \"add2\"):\n",
    "        answer =  int(coord_by_step[step]['X']*X_factor) + random.randint(0,10) - 5, int(coord_by_step[step]['Y']*Y_factor) + random.randint(0,5) - 2\n",
    "    \n",
    "    elif(step == \"add1\" or step == \"add2\"):\n",
    "        answer = int(coord_by_step[step]['X']*X_factor) + random.randint(0,3) - 1, int(coord_by_step[step]['Y']*Y_factor) + random.randint(0,3) - 1\n",
    "    else:\n",
    "        raise Exception(\"WTF MAN, WAKE UP!!!\")\n",
    "        \n",
    "    return answer"
   ]
  },
  {
   "cell_type": "code",
   "execution_count": 26,
   "id": "f247df7c",
   "metadata": {},
   "outputs": [],
   "source": [
    "def farm(\n",
    "    rounds = 10,\n",
    "    start_time = 2,\n",
    "    computer='home',\n",
    "    screens=1\n",
    "):\n",
    "    cbs = coord_by_step = coordinates_screens_computer[computer][screens]\n",
    "    \n",
    "    #START\n",
    "    X, Y = get_step_coord(cbs, 'start')\n",
    "    m.click(X, Y, 1) \n",
    "    time.sleep(random.uniform(0,1))\n",
    "    print(\"ROUND 1\")\n",
    "    for i in range(0, rounds):\n",
    "        \n",
    "        #BATTLE\n",
    "        print('     Force battle and beggining')\n",
    "        \n",
    "\n",
    "        for j in range(0,3): \n",
    "            X, Y = get_step_coord(cbs, 'start')   \n",
    "            m.click(X, Y, 1) \n",
    "            time.sleep(start_time*1.2+ random.uniform(0,1))\n",
    "        time.sleep(start_time*8 + random.uniform(0,2))\n",
    "\n",
    "\n",
    "        print('     Close adv. and Next battle')\n",
    "        #CLOSE AD\n",
    "        X, Y = get_step_coord(cbs, 'add2')\n",
    "        m.click(X, Y, 1) \n",
    "        time.sleep(start_time *0.7+ random.uniform(0,1))\n",
    "\n",
    "        #Next Lose case\n",
    "        X, Y = get_step_coord(cbs, 'next_farm')\n",
    "        m.click(X, Y-50, 1) \n",
    "        time.sleep(start_time *0.5+ random.uniform(0,1))\n",
    "        \n",
    "        #Next\n",
    "        m.click(X, Y, 1) \n",
    "        time.sleep(start_time *0.5+ random.uniform(0,1))\n",
    "        clear_output(wait=False)\n",
    "        print(\"ROUND \"+str(i+2))"
   ]
  },
  {
   "cell_type": "code",
   "execution_count": 44,
   "id": "12e69192",
   "metadata": {},
   "outputs": [],
   "source": [
    "def headHunt(\n",
    "    rounds = 10,\n",
    "    start_time = 2,\n",
    "    computer='work',\n",
    "    screens=1,\n",
    "    headhunt_type='easy'\n",
    "):\n",
    "    hunt_parser = {\n",
    "        'easy': 'headHuntEasy',\n",
    "        'hard': 'headHuntHard'\n",
    "    }\n",
    "    hunt_level = hunt_parser[headhunt_type]\n",
    "\n",
    "    cbs = coord_by_step = coordinates_screens_computer[computer][screens]\n",
    "    \n",
    "    ##START\n",
    "    X, Y = get_step_coord(cbs, 'start')\n",
    "    m.click(X, Y, 1) \n",
    "    time.sleep(random.uniform(0,1))\n",
    "    for i in range(0, rounds):\n",
    "            \n",
    "        print(\"ROUND \", int(i+1))\n",
    "        #BATTLE\n",
    "        print('     Headhunt start')    \n",
    "        X, Y = get_step_coord(cbs, hunt_level)   \n",
    "        m.click(X, Y, 1) \n",
    "        time.sleep(start_time*2 + random.uniform(0,2))\n",
    "\n",
    "        #BATTLE\n",
    "        print('     Hunt beggining')\n",
    "        X, Y = get_step_coord(cbs, 'start')   \n",
    "        m.click(X, Y, 1) \n",
    "        time.sleep(start_time*5 + random.uniform(0,2))\n",
    "\n",
    "        print('     Close adv. and Next battle')\n",
    "        #CLOSE AD\n",
    "        X, Y = get_step_coord(cbs, 'add2')\n",
    "        m.click(X, Y, 1) \n",
    "        time.sleep(start_time *0.7+ random.uniform(0,1))\n",
    "\n",
    "        #Next\n",
    "        X, Y = get_step_coord(cbs, 'next_battle')\n",
    "        m.click(X, Y, 1) \n",
    "        time.sleep(start_time *0.7+ random.uniform(0,1))\n",
    "        clear_output(wait=False)"
   ]
  },
  {
   "cell_type": "code",
   "execution_count": 116,
   "id": "60fb0c3c",
   "metadata": {},
   "outputs": [],
   "source": []
  },
  {
   "cell_type": "code",
   "execution_count": 59,
   "id": "99add5bd",
   "metadata": {},
   "outputs": [
    {
     "name": "stdout",
     "output_type": "stream",
     "text": [
      "1253 373\n"
     ]
    }
   ],
   "source": [
    "#(challenge_X, challenge_Y) = m.position() #OPEN TROOP\n",
    "#print(challenge_X, challenge_Y)"
   ]
  },
  {
   "cell_type": "code",
   "execution_count": 67,
   "id": "bd3fb51c",
   "metadata": {},
   "outputs": [
    {
     "name": "stdout",
     "output_type": "stream",
     "text": [
      "1269 343\n"
     ]
    }
   ],
   "source": [
    "#(challenge_X, challenge_Y) = m.position() #TROOP ADV\n",
    "#print(challenge_X, challenge_Y)"
   ]
  },
  {
   "cell_type": "code",
   "execution_count": 93,
   "id": "92379628",
   "metadata": {},
   "outputs": [
    {
     "name": "stdout",
     "output_type": "stream",
     "text": [
      "1258 566\n"
     ]
    }
   ],
   "source": [
    "#(challenge_X, challenge_Y) = m.position() #HERO OPEN\n",
    "#print(challenge_X, challenge_Y)"
   ]
  },
  {
   "cell_type": "code",
   "execution_count": 60,
   "id": "c061be31",
   "metadata": {},
   "outputs": [
    {
     "name": "stdout",
     "output_type": "stream",
     "text": [
      "1265 539\n"
     ]
    }
   ],
   "source": [
    "#(challenge_X, challenge_Y) = m.position() #HERO ADV\n",
    "#print(challenge_X, challenge_Y)"
   ]
  },
  {
   "cell_type": "code",
   "execution_count": 61,
   "id": "cc79dc37",
   "metadata": {},
   "outputs": [
    {
     "name": "stdout",
     "output_type": "stream",
     "text": [
      "1003 104\n"
     ]
    }
   ],
   "source": [
    "#(challenge_X, challenge_Y) = m.position() #CLOSE ADV\n",
    "#print(challenge_X, challenge_Y)"
   ]
  },
  {
   "cell_type": "code",
   "execution_count": 65,
   "id": "6ac11c35",
   "metadata": {},
   "outputs": [
    {
     "name": "stdout",
     "output_type": "stream",
     "text": [
      "1162 615\n"
     ]
    }
   ],
   "source": [
    "#(challenge_X, challenge_Y) = m.position() #CLAIM TROOP\n",
    "#print(challenge_X, challenge_Y)"
   ]
  },
  {
   "cell_type": "code",
   "execution_count": 58,
   "id": "a2051415",
   "metadata": {},
   "outputs": [
    {
     "name": "stdout",
     "output_type": "stream",
     "text": [
      "1272 214\n"
     ]
    }
   ],
   "source": [
    "#(sale_X, sale_Y) = m.position() #CLOSE SALE\n",
    "#print(sale_X, sale_Y)"
   ]
  },
  {
   "cell_type": "code",
   "execution_count": 12,
   "id": "30c8c54f",
   "metadata": {},
   "outputs": [
    {
     "name": "stdout",
     "output_type": "stream",
     "text": [
      "1281 498\n"
     ]
    }
   ],
   "source": [
    "#(sale_X, sale_Y) = m.position() #HEADHUNT EASY\n",
    "#print(sale_X, sale_Y)"
   ]
  },
  {
   "cell_type": "code",
   "execution_count": 66,
   "id": "57b56d02",
   "metadata": {},
   "outputs": [],
   "source": [
    "#m.click(1162, 615, 1)\n",
    "#m.click(1163, 615, 1)"
   ]
  },
  {
   "cell_type": "code",
   "execution_count": 11,
   "id": "b908fa64",
   "metadata": {},
   "outputs": [
    {
     "name": "stdout",
     "output_type": "stream",
     "text": [
      "1277 685\n"
     ]
    }
   ],
   "source": [
    "#(sale_X, sale_Y) = m.position() #HEADHUNT HARD\n",
    "#print(sale_X, sale_Y)"
   ]
  },
  {
   "cell_type": "code",
   "execution_count": 81,
   "id": "dbd3b00f",
   "metadata": {},
   "outputs": [
    {
     "name": "stdout",
     "output_type": "stream",
     "text": [
      "1194 546\n"
     ]
    }
   ],
   "source": [
    "#(sale_X, sale_Y) = m.position() #NEXT FARM\n",
    "#print(sale_X, sale_Y)"
   ]
  },
  {
   "cell_type": "code",
   "execution_count": 34,
   "id": "f224f74b",
   "metadata": {},
   "outputs": [
    {
     "name": "stdout",
     "output_type": "stream",
     "text": [
      "1307 167\n"
     ]
    }
   ],
   "source": [
    "#(challenge_X, challenge_Y) = m.position() #ADD2\n",
    "#print(challenge_X, challenge_Y)"
   ]
  }
 ],
 "metadata": {
  "kernelspec": {
   "display_name": "Python 3 (ipykernel)",
   "language": "python",
   "name": "python3"
  },
  "language_info": {
   "codemirror_mode": {
    "name": "ipython",
    "version": 3
   },
   "file_extension": ".py",
   "mimetype": "text/x-python",
   "name": "python",
   "nbconvert_exporter": "python",
   "pygments_lexer": "ipython3",
   "version": "3.8.10"
  }
 },
 "nbformat": 4,
 "nbformat_minor": 5
}
