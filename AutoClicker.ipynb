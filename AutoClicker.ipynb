{
 "cells": [
  {
   "cell_type": "code",
   "execution_count": 1,
   "metadata": {},
   "outputs": [],
   "source": [
    "from pymouse import PyMouse\n",
    "from pykeyboard import PyKeyboard\n",
    "import time\n",
    "import random"
   ]
  },
  {
   "cell_type": "code",
   "execution_count": 2,
   "metadata": {},
   "outputs": [],
   "source": [
    "m = PyMouse()\n",
    "k = PyKeyboard()"
   ]
  },
  {
   "cell_type": "code",
   "execution_count": 4,
   "metadata": {},
   "outputs": [],
   "source": [
    "x_dim, y_dim = m.screen_size()"
   ]
  },
  {
   "cell_type": "code",
   "execution_count": 5,
   "metadata": {},
   "outputs": [
    {
     "name": "stdout",
     "output_type": "stream",
     "text": [
      "1600 1920\n"
     ]
    }
   ],
   "source": [
    "print(x_dim, y_dim)"
   ]
  },
  {
   "cell_type": "code",
   "execution_count": null,
   "metadata": {},
   "outputs": [],
   "source": []
  },
  {
   "cell_type": "code",
   "execution_count": 26,
   "metadata": {},
   "outputs": [
    {
     "data": {
      "text/plain": [
       "(766, 233)"
      ]
     },
     "execution_count": 26,
     "metadata": {},
     "output_type": "execute_result"
    }
   ],
   "source": [
    "m.position() #START"
   ]
  },
  {
   "cell_type": "code",
   "execution_count": 6,
   "metadata": {},
   "outputs": [
    {
     "data": {
      "text/plain": [
       "(1314, 1678)"
      ]
     },
     "execution_count": 6,
     "metadata": {},
     "output_type": "execute_result"
    }
   ],
   "source": [
    "m.position() #NEXT"
   ]
  },
  {
   "cell_type": "code",
   "execution_count": 17,
   "metadata": {},
   "outputs": [
    {
     "data": {
      "text/plain": [
       "(1407, 1340)"
      ]
     },
     "execution_count": 17,
     "metadata": {},
     "output_type": "execute_result"
    }
   ],
   "source": [
    "m.position() #AD1"
   ]
  },
  {
   "cell_type": "code",
   "execution_count": 37,
   "metadata": {},
   "outputs": [
    {
     "data": {
      "text/plain": [
       "(1407, 1341)"
      ]
     },
     "execution_count": 37,
     "metadata": {},
     "output_type": "execute_result"
    }
   ],
   "source": [
    "m.position() #AD2"
   ]
  },
  {
   "cell_type": "code",
   "execution_count": 40,
   "metadata": {},
   "outputs": [
    {
     "data": {
      "text/plain": [
       "(1252, 1805)"
      ]
     },
     "execution_count": 40,
     "metadata": {},
     "output_type": "execute_result"
    }
   ],
   "source": [
    "m.position() #AD2"
   ]
  },
  {
   "cell_type": "markdown",
   "metadata": {},
   "source": [
    "## BATTLE ARENA WORKBOOK\n"
   ]
  },
  {
   "cell_type": "code",
   "execution_count": 50,
   "metadata": {},
   "outputs": [],
   "source": [
    "(challenge_X, challenge_Y) = m.position() #CHALLENGE\n",
    "print(challenge_X, challenge_Y)"
   ]
  },
  {
   "cell_type": "code",
   "execution_count": null,
   "metadata": {},
   "outputs": [],
   "source": []
  },
  {
   "cell_type": "code",
   "execution_count": 54,
   "metadata": {},
   "outputs": [
    {
     "name": "stdout",
     "output_type": "stream",
     "text": [
      "1253 ,  1832\n"
     ]
    }
   ],
   "source": [
    "print(challenge_X, challenge_Y)"
   ]
  },
  {
   "cell_type": "code",
   "execution_count": 51,
   "metadata": {},
   "outputs": [],
   "source": [
    "(fight_worse_X, fight_worse_Y) = m.position() #CHALLENGE\n",
    "print(fight_worse_X,', ', fight_worse_Y)"
   ]
  },
  {
   "cell_type": "code",
   "execution_count": null,
   "metadata": {},
   "outputs": [],
   "source": []
  },
  {
   "cell_type": "code",
   "execution_count": 55,
   "metadata": {},
   "outputs": [
    {
     "name": "stdout",
     "output_type": "stream",
     "text": [
      "1352 ,  1716\n"
     ]
    }
   ],
   "source": [
    "print(fight_worse_X,', ', fight_worse_Y)"
   ]
  },
  {
   "cell_type": "code",
   "execution_count": 8,
   "metadata": {},
   "outputs": [],
   "source": [
    "(beggin_battle_X, beggin_battle_Y) = m.position() #CHALLENGE\n",
    "print(beggin_battle_X,', ', beggin_battle_Y)"
   ]
  },
  {
   "cell_type": "code",
   "execution_count": null,
   "metadata": {},
   "outputs": [],
   "source": []
  },
  {
   "cell_type": "code",
   "execution_count": 9,
   "metadata": {},
   "outputs": [
    {
     "name": "stdout",
     "output_type": "stream",
     "text": [
      "1254 ,  1807\n"
     ]
    }
   ],
   "source": [
    "print(beggin_battle_X,', ', beggin_battle_Y)"
   ]
  },
  {
   "cell_type": "code",
   "execution_count": 61,
   "metadata": {},
   "outputs": [],
   "source": [
    "(next_battle_X, next_battle_Y) = m.position() #NEXT BATTLE\n",
    "print(next_battle_X,', ', next_battle_Y)"
   ]
  },
  {
   "cell_type": "code",
   "execution_count": 10,
   "metadata": {},
   "outputs": [],
   "source": []
  },
  {
   "cell_type": "code",
   "execution_count": 62,
   "metadata": {},
   "outputs": [
    {
     "name": "stdout",
     "output_type": "stream",
     "text": [
      "1251 ,  1740\n"
     ]
    }
   ],
   "source": [
    "print(next_battle_X,', ', next_battle_Y)"
   ]
  },
  {
   "cell_type": "code",
   "execution_count": 60,
   "metadata": {},
   "outputs": [],
   "source": [
    "challenge_X, challenge_Y = 1253 ,  1832\n",
    "fight_worse_X, fight_worse_Y = 1352 ,  1716\n",
    "beggin_battle_X, beggin_battle_Y = 1254 ,  1807\n",
    "next_battle_X, next_battle_Y = 1251 ,  1740"
   ]
  },
  {
   "cell_type": "markdown",
   "metadata": {},
   "source": [
    "### ]BATTLE ARENA HOME"
   ]
  },
  {
   "cell_type": "code",
   "execution_count": null,
   "metadata": {},
   "outputs": [],
   "source": [
    "challenge_X, challenge_Y = 1253 ,  1832\n",
    "fight_worse_X, fight_worse_Y = 1352 ,  1716\n",
    "beggin_battle_X, beggin_battle_Y = 1254 ,  1807\n",
    "next_battle_X, next_battle_Y = 1251 ,  1740"
   ]
  },
  {
   "cell_type": "code",
   "execution_count": 28,
   "metadata": {},
   "outputs": [
    {
     "name": "stdout",
     "output_type": "stream",
     "text": [
      "1625 947\n"
     ]
    }
   ],
   "source": [
    "(challenge_X, challenge_Y) = m.position() #CHALLENGE\n",
    "print(challenge_X, challenge_Y)"
   ]
  },
  {
   "cell_type": "code",
   "execution_count": 29,
   "metadata": {},
   "outputs": [
    {
     "name": "stdout",
     "output_type": "stream",
     "text": [
      "1787 ,  777\n"
     ]
    }
   ],
   "source": [
    "(fight_worse_X, fight_worse_Y) = m.position() #FIGHT WORSE\n",
    "print(fight_worse_X,', ', fight_worse_Y)"
   ]
  },
  {
   "cell_type": "code",
   "execution_count": 30,
   "metadata": {},
   "outputs": [
    {
     "name": "stdout",
     "output_type": "stream",
     "text": [
      "1624 ,  900\n"
     ]
    }
   ],
   "source": [
    "(beggin_battle_X, beggin_battle_Y) = m.position() #FIGHT\n",
    "print(beggin_battle_X,', ', beggin_battle_Y)"
   ]
  },
  {
   "cell_type": "code",
   "execution_count": 31,
   "metadata": {},
   "outputs": [
    {
     "name": "stdout",
     "output_type": "stream",
     "text": [
      "1627 ,  811\n"
     ]
    }
   ],
   "source": [
    "(next_battle_X, next_battle_Y) = m.position() #NEXT BATTLE\n",
    "print(next_battle_X,', ', next_battle_Y)"
   ]
  },
  {
   "cell_type": "code",
   "execution_count": null,
   "metadata": {},
   "outputs": [],
   "source": []
  },
  {
   "cell_type": "code",
   "execution_count": 33,
   "metadata": {},
   "outputs": [],
   "source": [
    "hero_trial = False"
   ]
  },
  {
   "cell_type": "code",
   "execution_count": 34,
   "metadata": {},
   "outputs": [],
   "source": [
    "start_time = 1.5"
   ]
  },
  {
   "cell_type": "code",
   "execution_count": 35,
   "metadata": {},
   "outputs": [],
   "source": [
    "battles = 16"
   ]
  },
  {
   "cell_type": "code",
   "execution_count": 36,
   "metadata": {},
   "outputs": [],
   "source": [
    "if(hero_trial == True):\n",
    "    #IF IS HERO TRIAL\n",
    "    challenge_Y = challenge_Y + 30\n",
    "    start_time = 1.5\n",
    "time.sleep(1.532131)\n",
    "m.click(challenge_X + random.randint(0,10) - 5, challenge_Y + random.randint(0,5) - 2, 1) #START\n",
    "time.sleep(start_time + random.uniform(1,2))\n",
    "for i in range(0, battles):\n",
    "    m.click(challenge_X + random.randint(0,10) - 5, challenge_Y + random.randint(0,5) - 2, 1) #CHALLENGE\n",
    "    time.sleep(start_time + random.uniform(1,2))\n",
    "\n",
    "    m.click(fight_worse_X + random.randint(0,10) - 5, fight_worse_Y + random.randint(0,5) - 2, 1) #FIGHT_WORSE\n",
    "    time.sleep(start_time*3+ random.uniform(1,2))\n",
    "\n",
    "    m.click(beggin_battle_X + random.randint(0,10) - 5, beggin_battle_Y + random.randint(0,5) - 2, 1) #BEGGIN\n",
    "    time.sleep((start_time*23)+ random.uniform(1,2))\n",
    "\n",
    "\n",
    "    m.click(next_battle_X + random.randint(0,10) - 5, next_battle_Y + random.randint(0,5) - 2, 1) #NEXT BATTLE\n",
    "    time.sleep((start_time*3)+ random.uniform(1,2))\n",
    "    \n",
    "    if(hero_trial == True):\n",
    "        #IF IS HERO TRIAL\n",
    "        time.sleep(random.uniform(0,0.1))\n",
    "        m.click(challenge_X + random.randint(0,10) - 5, challenge_Y + random.randint(0,5) - 2, 1) #CHALLENGE\n",
    "\n",
    "        time.sleep(start_time + random.uniform(1,2))\n",
    "    \n"
   ]
  },
  {
   "cell_type": "code",
   "execution_count": null,
   "metadata": {},
   "outputs": [],
   "source": []
  },
  {
   "cell_type": "code",
   "execution_count": null,
   "metadata": {},
   "outputs": [],
   "source": []
  },
  {
   "cell_type": "code",
   "execution_count": null,
   "metadata": {},
   "outputs": [],
   "source": []
  },
  {
   "cell_type": "code",
   "execution_count": 7,
   "metadata": {},
   "outputs": [
    {
     "data": {
      "text/plain": [
       "(1713, 714)"
      ]
     },
     "execution_count": 7,
     "metadata": {},
     "output_type": "execute_result"
    }
   ],
   "source": [
    "m.position() #NEXT HOME 1"
   ]
  },
  {
   "cell_type": "code",
   "execution_count": 15,
   "metadata": {},
   "outputs": [
    {
     "data": {
      "text/plain": [
       "(1850, 226)"
      ]
     },
     "execution_count": 15,
     "metadata": {},
     "output_type": "execute_result"
    }
   ],
   "source": [
    "m.position() #ADD HOME 1"
   ]
  },
  {
   "cell_type": "markdown",
   "metadata": {},
   "source": [
    "## home notebook 1 screen"
   ]
  },
  {
   "cell_type": "code",
   "execution_count": 37,
   "metadata": {},
   "outputs": [],
   "source": [
    "start_X = 1680\n",
    "start_Y = 910\n",
    "start_time = 2\n",
    "\n",
    "next_X = 1713\n",
    "next_Y = 714\n",
    "\n",
    "ad1_X = 1870\n",
    "ad1_Y = 284\n",
    "\n",
    "ad1_X = 1851\n",
    "ad1_Y = 226\n",
    "\n",
    "random_X = 0\n",
    "random_y = 0\n",
    "random_time = 0"
   ]
  },
  {
   "cell_type": "markdown",
   "metadata": {},
   "source": [
    "## work notebook 2 screen\n"
   ]
  },
  {
   "cell_type": "code",
   "execution_count": 34,
   "metadata": {},
   "outputs": [],
   "source": [
    "start_X = 1257\n",
    "start_Y = 1793 + 10 # safety buying\n",
    "start_time = 2\n",
    "\n",
    "next_X = 1314\n",
    "next_Y = 1678\n",
    "\n",
    "ad1_X = 1407\n",
    "ad1_Y = 1340\n",
    "\n",
    "random_X = 0\n",
    "random_y = 0\n",
    "random_time = 0"
   ]
  }
 ],
 "metadata": {
  "kernelspec": {
   "display_name": "Python 3",
   "language": "python",
   "name": "python3"
  },
  "language_info": {
   "name": "python",
   "version": ""
  }
 },
 "nbformat": 4,
 "nbformat_minor": 5
}