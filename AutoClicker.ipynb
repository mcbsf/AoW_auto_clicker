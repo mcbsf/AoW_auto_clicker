{
 "cells": [
  {
   "cell_type": "code",
   "execution_count": 1,
   "id": "fb21e8b2",
   "metadata": {},
   "outputs": [],
   "source": [
    "from pymouse import PyMouse\n",
    "from pykeyboard import PyKeyboard\n",
    "import time\n",
    "import random"
   ]
  },
  {
   "cell_type": "code",
   "execution_count": 2,
   "id": "7b419e91",
   "metadata": {},
   "outputs": [],
   "source": [
    "m = PyMouse()\n",
    "k = PyKeyboard()"
   ]
  },
  {
   "cell_type": "code",
   "execution_count": 4,
   "id": "5a1e0e86",
   "metadata": {},
   "outputs": [],
   "source": [
    "x_dim, y_dim = m.screen_size()"
   ]
  },
  {
   "cell_type": "code",
   "execution_count": 5,
   "id": "c79961f8",
   "metadata": {},
   "outputs": [
    {
     "name": "stdout",
     "output_type": "stream",
     "text": [
      "1600 1920\n"
     ]
    }
   ],
   "source": [
    "print(x_dim, y_dim)"
   ]
  },
  {
   "cell_type": "code",
   "execution_count": null,
   "id": "a06ffc48",
   "metadata": {},
   "outputs": [],
   "source": []
  },
  {
   "cell_type": "code",
   "execution_count": 26,
   "id": "7c1d63c3",
   "metadata": {},
   "outputs": [
    {
     "data": {
      "text/plain": [
       "(766, 233)"
      ]
     },
     "execution_count": 26,
     "metadata": {},
     "output_type": "execute_result"
    }
   ],
   "source": [
    "m.position() #START"
   ]
  },
  {
   "cell_type": "code",
   "execution_count": 6,
   "id": "e8be2b62",
   "metadata": {},
   "outputs": [
    {
     "data": {
      "text/plain": [
       "(1314, 1678)"
      ]
     },
     "execution_count": 6,
     "metadata": {},
     "output_type": "execute_result"
    }
   ],
   "source": [
    "m.position() #NEXT"
   ]
  },
  {
   "cell_type": "code",
   "execution_count": 17,
   "id": "87da3fda",
   "metadata": {},
   "outputs": [
    {
     "data": {
      "text/plain": [
       "(1407, 1340)"
      ]
     },
     "execution_count": 17,
     "metadata": {},
     "output_type": "execute_result"
    }
   ],
   "source": [
    "m.position() #AD1"
   ]
  },
  {
   "cell_type": "code",
   "execution_count": 37,
   "id": "941dec5b",
   "metadata": {},
   "outputs": [
    {
     "data": {
      "text/plain": [
       "(1407, 1341)"
      ]
     },
     "execution_count": 37,
     "metadata": {},
     "output_type": "execute_result"
    }
   ],
   "source": [
    "m.position() #AD2"
   ]
  },
  {
   "cell_type": "code",
   "execution_count": 40,
   "id": "e2ab4d90",
   "metadata": {},
   "outputs": [
    {
     "data": {
      "text/plain": [
       "(1252, 1805)"
      ]
     },
     "execution_count": 40,
     "metadata": {},
     "output_type": "execute_result"
    }
   ],
   "source": [
    "m.position() #AD2"
   ]
  },
  {
   "cell_type": "markdown",
   "id": "266b6719",
   "metadata": {},
   "source": [
    "## BATTLE ARENA WORKBOOK\n"
   ]
  },
  {
   "cell_type": "code",
   "execution_count": 50,
   "id": "e24e6d09",
   "metadata": {},
   "outputs": [],
   "source": [
    "(challenge_X, challenge_Y) = m.position() #CHALLENGE\n",
    "print(challenge_X, challenge_Y)"
   ]
  },
  {
   "cell_type": "code",
   "execution_count": null,
   "id": "b0ca108e",
   "metadata": {},
   "outputs": [],
   "source": []
  },
  {
   "cell_type": "code",
   "execution_count": 54,
   "id": "138f521c",
   "metadata": {},
   "outputs": [
    {
     "name": "stdout",
     "output_type": "stream",
     "text": [
      "1253 ,  1832\n"
     ]
    }
   ],
   "source": [
    "print(challenge_X, challenge_Y)"
   ]
  },
  {
   "cell_type": "code",
   "execution_count": 51,
   "id": "29145f1d",
   "metadata": {},
   "outputs": [],
   "source": [
    "(fight_worse_X, fight_worse_Y) = m.position() #CHALLENGE\n",
    "print(fight_worse_X,', ', fight_worse_Y)"
   ]
  },
  {
   "cell_type": "code",
   "execution_count": null,
   "id": "c0f538a3",
   "metadata": {},
   "outputs": [],
   "source": []
  },
  {
   "cell_type": "code",
   "execution_count": 55,
   "id": "8c28dc0e",
   "metadata": {},
   "outputs": [
    {
     "name": "stdout",
     "output_type": "stream",
     "text": [
      "1352 ,  1716\n"
     ]
    }
   ],
   "source": [
    "print(fight_worse_X,', ', fight_worse_Y)"
   ]
  },
  {
   "cell_type": "code",
   "execution_count": 8,
   "id": "f9ab6c37",
   "metadata": {},
   "outputs": [],
   "source": [
    "(beggin_battle_X, beggin_battle_Y) = m.position() #CHALLENGE\n",
    "print(beggin_battle_X,', ', beggin_battle_Y)"
   ]
  },
  {
   "cell_type": "code",
   "execution_count": null,
   "id": "81facf77",
   "metadata": {},
   "outputs": [],
   "source": []
  },
  {
   "cell_type": "code",
   "execution_count": 9,
   "id": "8f30cc90",
   "metadata": {},
   "outputs": [
    {
     "name": "stdout",
     "output_type": "stream",
     "text": [
      "1254 ,  1807\n"
     ]
    }
   ],
   "source": [
    "print(beggin_battle_X,', ', beggin_battle_Y)"
   ]
  },
  {
   "cell_type": "code",
   "execution_count": 61,
   "id": "5ae832ee",
   "metadata": {},
   "outputs": [],
   "source": [
    "(next_battle_X, next_battle_Y) = m.position() #NEXT BATTLE\n",
    "print(next_battle_X,', ', next_battle_Y)"
   ]
  },
  {
   "cell_type": "code",
   "execution_count": 10,
   "id": "e7bf4fbc",
   "metadata": {},
   "outputs": [],
   "source": []
  },
  {
   "cell_type": "code",
   "execution_count": 62,
   "id": "f285ffd5",
   "metadata": {},
   "outputs": [
    {
     "name": "stdout",
     "output_type": "stream",
     "text": [
      "1251 ,  1740\n"
     ]
    }
   ],
   "source": [
    "print(next_battle_X,', ', next_battle_Y)"
   ]
  },
  {
   "cell_type": "code",
   "execution_count": 60,
   "id": "e9c7ff24",
   "metadata": {},
   "outputs": [],
   "source": [
    "challenge_X, challenge_Y = 1253 ,  1832\n",
    "fight_worse_X, fight_worse_Y = 1352 ,  1716\n",
    "beggin_battle_X, beggin_battle_Y = 1254 ,  1807\n",
    "next_battle_X, next_battle_Y = 1251 ,  1740"
   ]
  },
  {
   "cell_type": "markdown",
   "id": "b14507a7",
   "metadata": {},
   "source": [
    "### ]BATTLE ARENA HOME"
   ]
  },
  {
   "cell_type": "code",
   "execution_count": null,
   "id": "29f9dc36",
   "metadata": {},
   "outputs": [],
   "source": [
    "challenge_X, challenge_Y = 1253 ,  1832\n",
    "fight_worse_X, fight_worse_Y = 1352 ,  1716\n",
    "beggin_battle_X, beggin_battle_Y = 1254 ,  1807\n",
    "next_battle_X, next_battle_Y = 1251 ,  1740"
   ]
  },
  {
   "cell_type": "code",
   "execution_count": 28,
   "id": "b41a8099",
   "metadata": {},
   "outputs": [
    {
     "name": "stdout",
     "output_type": "stream",
     "text": [
      "1625 947\n"
     ]
    }
   ],
   "source": [
    "(challenge_X, challenge_Y) = m.position() #CHALLENGE\n",
    "print(challenge_X, challenge_Y)"
   ]
  },
  {
   "cell_type": "code",
   "execution_count": 29,
   "id": "d84fe871",
   "metadata": {},
   "outputs": [
    {
     "name": "stdout",
     "output_type": "stream",
     "text": [
      "1787 ,  777\n"
     ]
    }
   ],
   "source": [
    "(fight_worse_X, fight_worse_Y) = m.position() #FIGHT WORSE\n",
    "print(fight_worse_X,', ', fight_worse_Y)"
   ]
  },
  {
   "cell_type": "code",
   "execution_count": 30,
   "id": "e65a61f5",
   "metadata": {},
   "outputs": [
    {
     "name": "stdout",
     "output_type": "stream",
     "text": [
      "1624 ,  900\n"
     ]
    }
   ],
   "source": [
    "(beggin_battle_X, beggin_battle_Y) = m.position() #FIGHT\n",
    "print(beggin_battle_X,', ', beggin_battle_Y)"
   ]
  },
  {
   "cell_type": "code",
   "execution_count": 31,
   "id": "70f8d736",
   "metadata": {},
   "outputs": [
    {
     "name": "stdout",
     "output_type": "stream",
     "text": [
      "1627 ,  811\n"
     ]
    }
   ],
   "source": [
    "(next_battle_X, next_battle_Y) = m.position() #NEXT BATTLE\n",
    "print(next_battle_X,', ', next_battle_Y)"
   ]
  },
  {
   "cell_type": "code",
   "execution_count": null,
   "id": "49e9637b",
   "metadata": {},
   "outputs": [],
   "source": []
  },
  {
   "cell_type": "code",
   "execution_count": 33,
   "id": "c5e07f2e",
   "metadata": {},
   "outputs": [],
   "source": [
    "hero_trial = False"
   ]
  },
  {
   "cell_type": "code",
   "execution_count": 34,
   "id": "cbc55a23",
   "metadata": {},
   "outputs": [],
   "source": [
    "start_time = 1.5"
   ]
  },
  {
   "cell_type": "code",
   "execution_count": 35,
   "id": "35ddf1c0",
   "metadata": {},
   "outputs": [],
   "source": [
    "battles = 16"
   ]
  },
  {
   "cell_type": "code",
   "execution_count": 36,
   "id": "3721a0cb",
   "metadata": {},
   "outputs": [],
   "source": [
    "if(hero_trial == True):\n",
    "    #IF IS HERO TRIAL\n",
    "    challenge_Y = challenge_Y + 30\n",
    "    start_time = 1.5\n",
    "time.sleep(1.532131)\n",
    "m.click(challenge_X + random.randint(0,10) - 5, challenge_Y + random.randint(0,5) - 2, 1) #START\n",
    "time.sleep(start_time + random.uniform(1,2))\n",
    "for i in range(0, battles):\n",
    "    m.click(challenge_X + random.randint(0,10) - 5, challenge_Y + random.randint(0,5) - 2, 1) #CHALLENGE\n",
    "    time.sleep(start_time + random.uniform(1,2))\n",
    "\n",
    "    m.click(fight_worse_X + random.randint(0,10) - 5, fight_worse_Y + random.randint(0,5) - 2, 1) #FIGHT_WORSE\n",
    "    time.sleep(start_time*3+ random.uniform(1,2))\n",
    "\n",
    "    m.click(beggin_battle_X + random.randint(0,10) - 5, beggin_battle_Y + random.randint(0,5) - 2, 1) #BEGGIN\n",
    "    time.sleep((start_time*23)+ random.uniform(1,2))\n",
    "\n",
    "\n",
    "    m.click(next_battle_X + random.randint(0,10) - 5, next_battle_Y + random.randint(0,5) - 2, 1) #NEXT BATTLE\n",
    "    time.sleep((start_time*3)+ random.uniform(1,2))\n",
    "    \n",
    "    if(hero_trial == True):\n",
    "        #IF IS HERO TRIAL\n",
    "        time.sleep(random.uniform(0,0.1))\n",
    "        m.click(challenge_X + random.randint(0,10) - 5, challenge_Y + random.randint(0,5) - 2, 1) #CHALLENGE\n",
    "\n",
    "        time.sleep(start_time + random.uniform(1,2))\n",
    "    \n"
   ]
  },
  {
   "cell_type": "code",
   "execution_count": null,
   "id": "a06bdc88",
   "metadata": {},
   "outputs": [],
   "source": []
  },
  {
   "cell_type": "code",
   "execution_count": null,
   "id": "4b05673f",
   "metadata": {},
   "outputs": [],
   "source": []
  },
  {
   "cell_type": "code",
   "execution_count": null,
   "id": "79299669",
   "metadata": {},
   "outputs": [],
   "source": []
  },
  {
   "cell_type": "code",
   "execution_count": 7,
   "id": "810aa8bd",
   "metadata": {},
   "outputs": [
    {
     "data": {
      "text/plain": [
       "(1713, 714)"
      ]
     },
     "execution_count": 7,
     "metadata": {},
     "output_type": "execute_result"
    }
   ],
   "source": [
    "m.position() #NEXT HOME 1"
   ]
  },
  {
   "cell_type": "code",
   "execution_count": 15,
   "id": "2615bf56",
   "metadata": {},
   "outputs": [
    {
     "data": {
      "text/plain": [
       "(1850, 226)"
      ]
     },
     "execution_count": 15,
     "metadata": {},
     "output_type": "execute_result"
    }
   ],
   "source": [
    "m.position() #ADD HOME 1"
   ]
  },
  {
   "cell_type": "markdown",
   "id": "bda6a9ba",
   "metadata": {},
   "source": [
    "## home notebook 1 screen"
   ]
  },
  {
   "cell_type": "code",
   "execution_count": 37,
   "id": "7e97f93b",
   "metadata": {},
   "outputs": [],
   "source": [
    "start_X = 1680\n",
    "start_Y = 910\n",
    "start_time = 2\n",
    "\n",
    "next_X = 1713\n",
    "next_Y = 714\n",
    "\n",
    "ad1_X = 1870\n",
    "ad1_Y = 284\n",
    "\n",
    "ad1_X = 1851\n",
    "ad1_Y = 226\n",
    "\n",
    "random_X = 0\n",
    "random_y = 0\n",
    "random_time = 0"
   ]
  },
  {
   "cell_type": "markdown",
   "id": "6d2440e4",
   "metadata": {},
   "source": [
    "## work notebook 2 screen\n"
   ]
  },
  {
   "cell_type": "code",
   "execution_count": 34,
   "id": "bdd55083",
   "metadata": {},
   "outputs": [],
   "source": [
    "start_X = 1257\n",
    "start_Y = 1793 + 10 # safety buying\n",
    "start_time = 2\n",
    "\n",
    "next_X = 1314\n",
    "next_Y = 1678\n",
    "\n",
    "ad1_X = 1407\n",
    "ad1_Y = 1340\n",
    "\n",
    "random_X = 0\n",
    "random_y = 0\n",
    "random_time = 0"
   ]
  },
  {
   "cell_type": "code",
   "execution_count": 17,
   "id": "34badc44",
   "metadata": {},
   "outputs": [],
   "source": [
    "\n",
    "    m.click(ad1_X - 5+ random.randint(1,2) - 5, ad1_Y + 5 + random.randint(1,2) - 2, 1)#CLOSE PROPAGANDA 2"
   ]
  },
  {
   "cell_type": "code",
   "execution_count": 7,
   "id": "94a4390c",
   "metadata": {},
   "outputs": [],
   "source": [
    "if(0): \n",
    "    print('hey')"
   ]
  },
  {
   "cell_type": "code",
   "execution_count": 48,
   "id": "262ffe43",
   "metadata": {},
   "outputs": [
    {
     "ename": "KeyboardInterrupt",
     "evalue": "",
     "output_type": "error",
     "traceback": [
      "\u001b[0;31m---------------------------------------------------------------------------\u001b[0m",
      "\u001b[0;31mKeyboardInterrupt\u001b[0m                         Traceback (most recent call last)",
      "\u001b[0;32m/tmp/ipykernel_62870/1773086289.py\u001b[0m in \u001b[0;36m<module>\u001b[0;34m\u001b[0m\n\u001b[1;32m     15\u001b[0m \u001b[0;34m\u001b[0m\u001b[0m\n\u001b[1;32m     16\u001b[0m     \u001b[0mm\u001b[0m\u001b[0;34m.\u001b[0m\u001b[0mclick\u001b[0m\u001b[0;34m(\u001b[0m\u001b[0mstart_X\u001b[0m \u001b[0;34m+\u001b[0m \u001b[0mrandom\u001b[0m\u001b[0;34m.\u001b[0m\u001b[0mrandint\u001b[0m\u001b[0;34m(\u001b[0m\u001b[0;36m0\u001b[0m\u001b[0;34m,\u001b[0m\u001b[0;36m10\u001b[0m\u001b[0;34m)\u001b[0m \u001b[0;34m-\u001b[0m \u001b[0;36m5\u001b[0m\u001b[0;34m,\u001b[0m \u001b[0mstart_Y\u001b[0m \u001b[0;34m+\u001b[0m \u001b[0mrandom\u001b[0m\u001b[0;34m.\u001b[0m\u001b[0mrandint\u001b[0m\u001b[0;34m(\u001b[0m\u001b[0;36m0\u001b[0m\u001b[0;34m,\u001b[0m\u001b[0;36m5\u001b[0m\u001b[0;34m)\u001b[0m \u001b[0;34m-\u001b[0m \u001b[0;36m2\u001b[0m\u001b[0;34m,\u001b[0m \u001b[0;36m1\u001b[0m\u001b[0;34m,\u001b[0m \u001b[0;36m1\u001b[0m\u001b[0;34m)\u001b[0m \u001b[0;31m#BEGiGIN BATTLE\u001b[0m\u001b[0;34m\u001b[0m\u001b[0;34m\u001b[0m\u001b[0m\n\u001b[0;32m---> 17\u001b[0;31m     \u001b[0mtime\u001b[0m\u001b[0;34m.\u001b[0m\u001b[0msleep\u001b[0m\u001b[0;34m(\u001b[0m\u001b[0mstart_time\u001b[0m\u001b[0;34m*\u001b[0m\u001b[0;36m10\u001b[0m \u001b[0;34m+\u001b[0m \u001b[0mrandom\u001b[0m\u001b[0;34m.\u001b[0m\u001b[0muniform\u001b[0m\u001b[0;34m(\u001b[0m\u001b[0;36m0\u001b[0m\u001b[0;34m,\u001b[0m\u001b[0;36m2\u001b[0m\u001b[0;34m)\u001b[0m\u001b[0;34m)\u001b[0m\u001b[0;34m\u001b[0m\u001b[0;34m\u001b[0m\u001b[0m\n\u001b[0m\u001b[1;32m     18\u001b[0m \u001b[0;34m\u001b[0m\u001b[0m\n\u001b[1;32m     19\u001b[0m     \u001b[0;31m#CLOSE PROPAGANDAS\u001b[0m\u001b[0;34m\u001b[0m\u001b[0;34m\u001b[0m\u001b[0;34m\u001b[0m\u001b[0m\n",
      "\u001b[0;31mKeyboardInterrupt\u001b[0m: "
     ]
    }
   ],
   "source": [
    "time.sleep(1.532131)\n",
    "m.click(start_X + random.randint(0,10) - 5, start_Y + random.randint(0,5) - 2, 1) #START\n",
    "time.sleep(start_time + random.uniform(0,2))\n",
    " \n",
    "while(True):\n",
    "    m.click(start_X + random.randint(0,10) - 5, start_Y + random.randint(0,5) - 2, 1) #BATTLE\n",
    "    time.sleep(start_time+ random.uniform(0,1))\n",
    "    \n",
    "    m.click(start_X + random.randint(0,10) - 5, start_Y + random.randint(0,5) - 2, 1) #BATTLE\n",
    "    time.sleep((start_time*0.5)+ random.uniform(0,1))\n",
    "    \n",
    "    m.click(start_X + random.randint(0,10) - 5, start_Y + random.randint(0,5) - 2, 1) #BATTLE\n",
    "    time.sleep(start_time+ random.uniform(0,1))\n",
    "    \n",
    "\n",
    "    m.click(start_X + random.randint(0,10) - 5, start_Y + random.randint(0,5) - 2, 1, 1) #BEGiGIN BATTLE\n",
    "    time.sleep(start_time*10 + random.uniform(0,2))\n",
    "\n",
    "    #CLOSE PROPAGANDAS\n",
    "    \n",
    "    #m.click(ad1_X+ random.randint(1,2) - 5, ad1_Y + random.randint(1,2) - 2, 1)#CLOSE PROPAGANDA 1\n",
    "    #time.sleep(random.uniform(1,2))\n",
    "    m.click(ad1_X - 5+ random.randint(1,2) - 5, ad1_Y + 5 + random.randint(1,2) - 2, 1)#CLOSE PROPAGANDA 2\n",
    "    time.sleep(start_time + random.uniform(0,1))\n",
    "    \n",
    "    #DONE\n",
    "\n",
    "    m.click(next_X+ random.randint(0,10) - 5, next_Y + random.randint(0,5) - 2, 1) #NEXT\n",
    "    time.sleep((start_time*0.5) + random.uniform(0,0.2))\n",
    "    \n",
    "    m.click(next_X+ random.randint(0,10) - 5, next_Y + random.randint(0,5) - 2, 1) #NEXT\n",
    "    time.sleep((start_time*0.5)+ random.uniform(0,2))"
   ]
  },
  {
   "cell_type": "code",
   "execution_count": null,
   "id": "413fcff2",
   "metadata": {},
   "outputs": [],
   "source": []
  },
  {
   "cell_type": "code",
   "execution_count": 103,
   "id": "a7fb4f8d",
   "metadata": {},
   "outputs": [],
   "source": []
  },
  {
   "cell_type": "code",
   "execution_count": null,
   "id": "3a2f8fa3",
   "metadata": {},
   "outputs": [],
   "source": [
    "\n",
    "time.sleep(2)\n",
    "m.click(1615, 1803, 1)"
   ]
  },
  {
   "cell_type": "code",
   "execution_count": 32,
   "id": "1e8d986c",
   "metadata": {},
   "outputs": [
    {
     "data": {
      "text/plain": [
       "'x:1713 y:910 screen:0 window:62914582\\n'"
      ]
     },
     "execution_count": 32,
     "metadata": {},
     "output_type": "execute_result"
    }
   ],
   "source": [
    "\n",
    "#start battle\n",
    "out = subprocess.run([\"xdotool\", \"getmouselocation\"], capture_output=True)\n",
    "\n",
    "out.stdout.decode(\"utf-8\")"
   ]
  },
  {
   "cell_type": "code",
   "execution_count": 33,
   "id": "d45ed0ab",
   "metadata": {},
   "outputs": [
    {
     "data": {
      "text/plain": [
       "'x:1766 y:678 screen:0 window:62914582\\n'"
      ]
     },
     "execution_count": 33,
     "metadata": {},
     "output_type": "execute_result"
    }
   ],
   "source": [
    "\n",
    "#next battle\n",
    "out = subprocess.run([\"xdotool\", \"getmouselocation\"], capture_output=True)\n",
    "\n",
    "out.stdout.decode(\"utf-8\")"
   ]
  },
  {
   "cell_type": "code",
   "execution_count": null,
   "id": "e845250b",
   "metadata": {},
   "outputs": [],
   "source": [
    "\n",
    "\n",
    "out = subprocess.run([\"xdotool\", \"getmouselocation\"], capture_output=True)\n",
    "\n",
    "out.stdout.decode(\"utf-8\")"
   ]
  },
  {
   "cell_type": "code",
   "execution_count": null,
   "id": "2cc53033",
   "metadata": {},
   "outputs": [],
   "source": [
    "\n",
    "\n",
    "out = subprocess.run([\"xdotool\", \"getmouselocation\"], capture_output=True)\n",
    "\n",
    "out.stdout.decode(\"utf-8\")"
   ]
  },
  {
   "cell_type": "code",
   "execution_count": null,
   "id": "2e915d93",
   "metadata": {},
   "outputs": [],
   "source": [
    "\n",
    "\n",
    "out = subprocess.run([\"xdotool\", \"getmouselocation\"], capture_output=True)\n",
    "\n",
    "out.stdout.decode(\"utf-8\")"
   ]
  },
  {
   "cell_type": "code",
   "execution_count": 2,
   "id": "a92a5030",
   "metadata": {},
   "outputs": [
    {
     "name": "stdout",
     "output_type": "stream",
     "text": [
      "hello\n",
      "0.0003705024719238281\n"
     ]
    }
   ],
   "source": [
    "\n",
    "start = time.time()\n",
    "print(\"hello\")\n",
    "end = time.time()\n",
    "print(end - start)"
   ]
  },
  {
   "cell_type": "code",
   "execution_count": 19,
   "id": "47d1c66f",
   "metadata": {},
   "outputs": [],
   "source": [
    "start = time.time()"
   ]
  },
  {
   "cell_type": "code",
   "execution_count": 20,
   "id": "902c2b49",
   "metadata": {},
   "outputs": [
    {
     "name": "stdout",
     "output_type": "stream",
     "text": [
      "11.243063926696777\n"
     ]
    }
   ],
   "source": [
    "end = time.time()\n",
    "final = end - start\n",
    "print(end - start)"
   ]
  },
  {
   "cell_type": "code",
   "execution_count": 51,
   "id": "7ef79d92",
   "metadata": {},
   "outputs": [
    {
     "data": {
      "text/plain": [
       "3"
      ]
     },
     "execution_count": 51,
     "metadata": {},
     "output_type": "execute_result"
    }
   ],
   "source": [
    "int(final)"
   ]
  },
  {
   "cell_type": "code",
   "execution_count": 3,
   "id": "3d37dddc",
   "metadata": {},
   "outputs": [],
   "source": [
    "\n",
    "out2 = subprocess.run(['sleep', '0.2', '&&', 'xdotool', 'mousemove', '1708', '901'], capture_output=True)\n",
    "time.sleep(2)\n",
    "out2 = subprocess.run(['sleep', '0.2', '&&','xdotool', 'click','--clearmodifiers', '1'], capture_output=True)\n"
   ]
  },
  {
   "cell_type": "code",
   "execution_count": 18,
   "id": "1669ac53",
   "metadata": {},
   "outputs": [],
   "source": [
    "time.sleep(2)\n",
    "out2 = subprocess.run(['xdotool', 'mousemove', '1706', '895', 'click', '--clearmodifiers', '2'], capture_output=False)\n",
    "time.sleep(2)\n",
    "out2 = subprocess.run(['xdotool', 'click', '--clearmodifiers', '2'], capture_output=False)"
   ]
  },
  {
   "cell_type": "code",
   "execution_count": 16,
   "id": "1c60a4fd",
   "metadata": {},
   "outputs": [],
   "source": [
    "time.sleep(2)\n",
    "out2 = subprocess.run(['xdotool', 'click', '--clearmodifiers', '3'], capture_output=False)\n",
    "time.sleep(2)\n",
    "out2 = subprocess.run(['xdotool', 'mousemove', '1706', '895', 'click', '--clearmodifiers', '3'], capture_output=False)"
   ]
  },
  {
   "cell_type": "code",
   "execution_count": null,
   "id": "610f127f",
   "metadata": {},
   "outputs": [],
   "source": []
  }
 ],
 "metadata": {
  "kernelspec": {
   "display_name": "Python 3 (ipykernel)",
   "language": "python",
   "name": "python3"
  },
  "language_info": {
   "codemirror_mode": {
    "name": "ipython",
    "version": 3
   },
   "file_extension": ".py",
   "mimetype": "text/x-python",
   "name": "python",
   "nbconvert_exporter": "python",
   "pygments_lexer": "ipython3",
   "version": "3.8.10"
  }
 },
 "nbformat": 4,
 "nbformat_minor": 5
}
