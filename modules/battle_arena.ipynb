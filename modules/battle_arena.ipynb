{
 "cells": [
  {
   "cell_type": "code",
   "execution_count": 10,
   "id": "a34ed34c",
   "metadata": {},
   "outputs": [],
   "source": [
    "from pymouse import PyMouse\n",
    "from pykeyboard import PyKeyboard\n",
    "import time\n",
    "import random\n",
    "import import_ipynb\n",
    "\n",
    "from IPython.display import clear_output\n",
    "\n",
    "\n"
   ]
  },
  {
   "cell_type": "code",
   "execution_count": 4,
   "id": "e33df0d0",
   "metadata": {},
   "outputs": [],
   "source": [
    "m = PyMouse()\n",
    "k = PyKeyboard()\n",
    "\n",
    "cbs = coord_by_step = None"
   ]
  },
  {
   "cell_type": "code",
   "execution_count": null,
   "id": "4fb98154",
   "metadata": {},
   "outputs": [],
   "source": []
  },
  {
   "cell_type": "code",
   "execution_count": null,
   "id": "9322ac83",
   "metadata": {},
   "outputs": [],
   "source": []
  },
  {
   "cell_type": "code",
   "execution_count": 5,
   "id": "8a409a30",
   "metadata": {},
   "outputs": [],
   "source": [
    "def battle(\n",
    "    hero_trial = False,\n",
    "    start_time = 1.5,\n",
    "    battles = 20,\n",
    "    computer='home',\n",
    "    extra_battle = False,\n",
    "    CC = None\n",
    "):\n",
    "    cbs = coord_by_step = CC.cbs\n",
    "    if(hero_trial == True):\n",
    "    #IF IS HERO TRIAL\n",
    "        cbs['challenge']['Y'] = cbs['challenge']['Y'] + 30\n",
    "    \n",
    "\n",
    "    for i in range(0, battles):\n",
    "        print(\"ROUND \"+str(i+1))\n",
    "        \n",
    "        #CHALLENGE\n",
    "        print('     challenging')\n",
    "        X, Y = CC.getStepCoord('challenge')\n",
    "        m.click(X, Y, 1) #START\n",
    "        time.sleep(start_time + random.uniform(1,2))\n",
    "\n",
    "        \n",
    "        #FIGHT WORSE\n",
    "        print('     fight worse')\n",
    "        X, Y = CC.getStepCoord('fight_worse')\n",
    "        m.click(X, Y, 1) \n",
    "        \n",
    "        if(extra_battle):\n",
    "\n",
    "            time.sleep(random.uniform(1,2))\n",
    "            print('     extra battle')\n",
    "            X, Y = CC.getStepCoord('extra_battle')\n",
    "            m.click(X, Y, 1) \n",
    "            time.sleep(start_time*3 + random.uniform(1,2))\n",
    "\n",
    "        else:\n",
    "            time.sleep(start_time*3 + random.uniform(1,2))\n",
    "        \n",
    "        \n",
    "        #BEGGIN BATTLE\n",
    "        print('     BEGGIN BATTLE')\n",
    "        X, Y = CC.getStepCoord('beggin_battle')\n",
    "        m.click(X, Y, 1) \n",
    "        if(hero_trial):\n",
    "            start_time -= 0.3\n",
    "        time.sleep(start_time*17 + random.uniform(1,2))\n",
    "        if(hero_trial):\n",
    "            start_time += 0.3\n",
    "        \n",
    "        \n",
    "        \n",
    "        #NEXT BATTLE\n",
    "        print('     NEXT BATTLE')\n",
    "        X, Y = CC.getStepCoord('next_battle')\n",
    "        m.click(X, Y, 1)\n",
    "        time.sleep(start_time*2 + random.uniform(1,2))\n",
    "        \n",
    "\n",
    "        clear_output(wait=False)"
   ]
  },
  {
   "cell_type": "code",
   "execution_count": 7,
   "id": "dc2abb80",
   "metadata": {},
   "outputs": [],
   "source": [
    "\n",
    "#NEXT FARM"
   ]
  },
  {
   "cell_type": "code",
   "execution_count": null,
   "id": "72c521f4",
   "metadata": {},
   "outputs": [],
   "source": []
  }
 ],
 "metadata": {
  "kernelspec": {
   "display_name": "Python 3 (ipykernel)",
   "language": "python",
   "name": "python3"
  },
  "language_info": {
   "codemirror_mode": {
    "name": "ipython",
    "version": 3
   },
   "file_extension": ".py",
   "mimetype": "text/x-python",
   "name": "python",
   "nbconvert_exporter": "python",
   "pygments_lexer": "ipython3",
   "version": "3.10.1"
  }
 },
 "nbformat": 4,
 "nbformat_minor": 5
}
