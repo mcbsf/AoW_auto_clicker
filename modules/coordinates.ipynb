{
 "cells": [
  {
   "cell_type": "code",
   "execution_count": null,
   "id": "fd7bc0b1",
   "metadata": {},
   "outputs": [],
   "source": [
    "import random"
   ]
  },
  {
   "cell_type": "code",
   "execution_count": null,
   "id": "7552dac4",
   "metadata": {},
   "outputs": [],
   "source": [
    "class CoordinatesController:\n",
    "    \n",
    "    def __init__(self, x_factor, y_factor):\n",
    "            self.x_factor = x_factor\n",
    "            self.y_factor = y_factor\n",
    "            \n",
    "    \n",
    "    def getStepCoord(self, step):\n",
    "        x_adjustment = 0\n",
    "        y_adjustment = 0\n",
    "        if(self.stage == \"battle_arena\"):\n",
    "            x_adjustment = 25\n",
    "        return int(self.cbs[step]['X']*self.x_factor) + x_adjustment + random.randint(0,10) - 5, int(self.cbs[step]['Y']*self.y_factor) + y_adjustment + random.randint(0,5) - 2\n",
    "    \n",
    "    def setCbs(self, stage):\n",
    "        self.stage = stage\n",
    "        if(stage == \"farmer\"):\n",
    "            cbs = {\n",
    "                'battle': {\n",
    "                    'X': int(1609),\n",
    "                    'Y': int(852),\n",
    "                },\n",
    "                'next_battle': {\n",
    "                    'X': int(1688),\n",
    "                    'Y': int(777),\n",
    "                },\n",
    "                'jump_lost_battle': {\n",
    "                    'X': int(1691),\n",
    "                    'Y': int(681),\n",
    "                },\n",
    "                'add1': {\n",
    "                    'X': int(1870),\n",
    "                    'Y': int(284) ,\n",
    "                },\n",
    "                'add2': {\n",
    "                    'X': int(1305),#1307 167\n",
    "                    'Y': int(165),\n",
    "                },\n",
    "                'headHuntHard': {\n",
    "                    'X': int(1245),\n",
    "                    'Y': int(685)#600,\n",
    "                },\n",
    "                'headHuntEasy': {\n",
    "                    'X': int(1240),\n",
    "                    'Y': int(498)#450,\n",
    "                }     \n",
    "            }\n",
    "                   \n",
    "\n",
    "        elif(stage == \"battle_arena\"):\n",
    "            cbs = {\n",
    "                'challenge': {\n",
    "                    'X': 1253 - 89,\n",
    "                    'Y': 1840 - 1170 + 10,\n",
    "                },\n",
    "                'fight_worse': {\n",
    "                    'X': 1352 - 89 - 15,\n",
    "                    'Y': 1725 - 1170 - 5,\n",
    "                },\n",
    "                'extra_battle': {\n",
    "                    'X': 1179,\n",
    "                    'Y': 478\n",
    "                },\n",
    "                'beggin_battle': {\n",
    "                    'X': 1254 - 89,\n",
    "                    'Y': 1815 - 1170 + 10,\n",
    "                },\n",
    "                'next_battle': {\n",
    "                    'X': 1251 - 95,\n",
    "                    'Y': 1745 - 1170,\n",
    "                }\n",
    "            }  \n",
    "\n",
    "        elif(stage == \"main\"):\n",
    "            cbs = {\n",
    "                'farmer': {\n",
    "                    'X': 1253,\n",
    "                    'Y': 1840,\n",
    "                },\n",
    "                'arena': {\n",
    "                    'X': 1352,\n",
    "                    'Y': 1725,\n",
    "                },\n",
    "                'territory': {\n",
    "                    'X': 1352,\n",
    "                    'Y': 1725,\n",
    "                },\n",
    "                'headhunt': {\n",
    "                    'X': 1253,\n",
    "                    'Y': 1840,\n",
    "                },\n",
    "                'hero_trial': {\n",
    "                    'X': 1179,\n",
    "                    'Y': 478\n",
    "                },\n",
    "                'exit': {\n",
    "                    'X': 1179,\n",
    "                    'Y': 478\n",
    "                },\n",
    "            }\n",
    "        self.cbs = cbs"
   ]
  },
  {
   "cell_type": "code",
   "execution_count": null,
   "id": "86946e3b",
   "metadata": {},
   "outputs": [],
   "source": [
    "def createCoordinatesController(x_factor = 1, y_factor = 1):\n",
    "    return CoordinatesController(x_factor, y_factor)"
   ]
  },
  {
   "cell_type": "code",
   "execution_count": null,
   "id": "b5a0f796",
   "metadata": {},
   "outputs": [],
   "source": [
    "\n",
    "#(challenge_X, challenge_Y) = m.position() #BATTLE\n",
    "#print(challenge_X, challenge_Y)"
   ]
  },
  {
   "cell_type": "code",
   "execution_count": null,
   "id": "c0c03475",
   "metadata": {},
   "outputs": [],
   "source": [
    "\n",
    "#(challenge_X, challenge_Y) = m.position() #NEXT\n",
    "#print(challenge_X, challenge_Y)"
   ]
  },
  {
   "cell_type": "markdown",
   "id": "72f0e17e",
   "metadata": {},
   "source": [
    "\n",
    "from pymouse import PyMouse\n",
    "from pykeyboard import PyKeyboard\n",
    "import time\n",
    "import random\n",
    "\n",
    "from IPython.display import clear_output\n",
    "m = PyMouse()\n",
    "k = PyKeyboard()\n",
    "\n",
    "imports()\n",
    "(challenge_X, challenge_Y) = m.position() #NEXT LOST\n",
    "print(challenge_X, challenge_Y)"
   ]
  },
  {
   "cell_type": "code",
   "execution_count": null,
   "id": "be59de75",
   "metadata": {},
   "outputs": [],
   "source": [
    "\n",
    "#(challenge_X, challenge_Y) = m.position() #CLAIM TROOP\n",
    "#print(challenge_X, challenge_Y)"
   ]
  },
  {
   "cell_type": "code",
   "execution_count": null,
   "id": "30df4549",
   "metadata": {},
   "outputs": [],
   "source": [
    "\n",
    "#(challenge_X, challenge_Y) = m.position() #CLAIM TROOP\n",
    "#print(challenge_X, challenge_Y)"
   ]
  },
  {
   "cell_type": "code",
   "execution_count": null,
   "id": "d1948048",
   "metadata": {},
   "outputs": [],
   "source": []
  }
 ],
 "metadata": {
  "kernelspec": {
   "display_name": "Python 3 (ipykernel)",
   "language": "python",
   "name": "python3"
  },
  "language_info": {
   "codemirror_mode": {
    "name": "ipython",
    "version": 3
   },
   "file_extension": ".py",
   "mimetype": "text/x-python",
   "name": "python",
   "nbconvert_exporter": "python",
   "pygments_lexer": "ipython3",
   "version": "3.10.1"
  }
 },
 "nbformat": 4,
 "nbformat_minor": 5
}
