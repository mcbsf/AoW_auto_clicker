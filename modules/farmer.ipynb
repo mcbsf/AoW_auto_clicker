{
 "cells": [
  {
   "cell_type": "code",
   "execution_count": 1,
   "id": "10b28a17",
   "metadata": {},
   "outputs": [],
   "source": [
    "from pymouse import PyMouse\n",
    "from pykeyboard import PyKeyboard\n",
    "import time\n",
    "import random\n",
    "\n",
    "from IPython.display import clear_output"
   ]
  },
  {
   "cell_type": "code",
   "execution_count": 2,
   "id": "ac32b9c3",
   "metadata": {},
   "outputs": [],
   "source": [
    "m = PyMouse()\n",
    "k = PyKeyboard()\n",
    "\n",
    "cbs = coord_by_step = None"
   ]
  },
  {
   "cell_type": "code",
   "execution_count": null,
   "id": "1b263e27",
   "metadata": {},
   "outputs": [],
   "source": []
  },
  {
   "cell_type": "code",
   "execution_count": null,
   "id": "6442706e",
   "metadata": {},
   "outputs": [],
   "source": []
  },
  {
   "cell_type": "code",
   "execution_count": 4,
   "id": "f247df7c",
   "metadata": {},
   "outputs": [],
   "source": [
    "def farm(\n",
    "    rounds = 10,\n",
    "    start_time = 2,\n",
    "    computer='home',\n",
    "    CC = None\n",
    "):\n",
    "    for i in range(0, rounds):\n",
    "        print(\"ROUND \"+str(i+1))\n",
    "        #BATTLE\n",
    "        print('     Force battle and beggining')\n",
    "        \n",
    "\n",
    "        for j in range(0,3): \n",
    "            X, Y = CC.getStepCoord('battle')   \n",
    "            m.click(X, Y, 1) \n",
    "            time.sleep(start_time*1.2+ random.uniform(0,1))\n",
    "        time.sleep(start_time*8 + random.uniform(0,2))\n",
    "\n",
    "\n",
    "        print('     Next battle')\n",
    "        #CLOSE AD\n",
    "        #X, Y = CC.getStepCoord('add2')\n",
    "        #m.click(X, Y, 1) \n",
    "        #time.sleep(start_time *0.7+ random.uniform(0,1))\n",
    "        #Next\n",
    "        X, Y = CC.getStepCoord('jump_lost_battle')\n",
    "        m.click(X, Y, 1) \n",
    "        time.sleep(0.5 + random.uniform(0,1))\n",
    "        clear_output(wait=False)\n",
    "        \n",
    "        #NEXT FARM\n",
    "        X, Y = CC.getStepCoord('next_battle')\n",
    "        m.click(X, Y, 1) \n",
    "        time.sleep(start_time *0.5+ random.uniform(0,1))\n",
    "        \n",
    "        clear_output(wait=False)"
   ]
  },
  {
   "cell_type": "code",
   "execution_count": 1,
   "id": "12e69192",
   "metadata": {},
   "outputs": [],
   "source": [
    "def headHunt(\n",
    "    rounds = 10,\n",
    "    start_time = 2,\n",
    "    computer='work',\n",
    "    headhunt_type='easy',\n",
    "    has_infinity_war=False,\n",
    "    CC = None\n",
    "):\n",
    "    hunt_parser = {\n",
    "        'easy': 'headHuntEasy',\n",
    "        'hard': 'headHuntHard'\n",
    "    }\n",
    "    hunt_level = hunt_parser[headhunt_type]\n",
    "\n",
    "    ##START\n",
    "    X, Y = CC.getStepCoord('start')\n",
    "    m.click(X, Y, 1) \n",
    "    time.sleep(random.uniform(0,1))\n",
    "    for i in range(0, rounds):\n",
    "            \n",
    "        print(\"ROUND \", int(i+1))\n",
    "        #BATTLE\n",
    "        print('     Headhunt start')    \n",
    "        X, Y = CC.getStepCoord(hunt_level) \n",
    "        \n",
    "        if(has_infinity_war==False):\n",
    "            Y -= 185\n",
    "        m.click(X, Y, 1) \n",
    "        time.sleep(start_time*2 + random.uniform(0,2))\n",
    "\n",
    "        #BATTLE\n",
    "        print('     Hunt beggining')\n",
    "        X, Y = CC.getStepCoord('start')   \n",
    "        m.click(X, Y, 1) \n",
    "        time.sleep(start_time*5 + random.uniform(0,2))\n",
    "\n",
    "        print('     Close adv. and Next battle')\n",
    "        #CLOSE AD\n",
    "        #X, Y = CC.getStepCoord('add1')\n",
    "        #m.click(X, Y, 1) \n",
    "        #time.sleep(start_time *0.7+ random.uniform(0,1))\n",
    "        \n",
    "        #Next\n",
    "        X, Y = CC.getStepCoord('jump_lost_battle')\n",
    "        m.click(X, Y, 1) \n",
    "        time.sleep(0.5 + random.uniform(0,1))\n",
    "        clear_output(wait=False)\n",
    "        \n",
    "        #Next\n",
    "        X, Y = CC.getStepCoord('next_battle')\n",
    "        m.click(X, Y, 1) \n",
    "        time.sleep(start_time *0.7+ random.uniform(0,1))\n",
    "        clear_output(wait=False)\n",
    "        \n",
    "        \n",
    "        "
   ]
  },
  {
   "cell_type": "code",
   "execution_count": null,
   "id": "60fb0c3c",
   "metadata": {},
   "outputs": [],
   "source": []
  },
  {
   "cell_type": "code",
   "execution_count": 9,
   "id": "99add5bd",
   "metadata": {},
   "outputs": [],
   "source": [
    "#(challenge_X, challenge_Y) = m.position() #OPEN TROOP\n",
    "#print(challenge_X, challenge_Y)"
   ]
  },
  {
   "cell_type": "code",
   "execution_count": 10,
   "id": "bd3fb51c",
   "metadata": {},
   "outputs": [],
   "source": [
    "#(challenge_X, challenge_Y) = m.position() #TROOP ADV\n",
    "#print(challenge_X, challenge_Y)"
   ]
  },
  {
   "cell_type": "code",
   "execution_count": 11,
   "id": "92379628",
   "metadata": {},
   "outputs": [],
   "source": [
    "#(challenge_X, challenge_Y) = m.position() #HERO OPEN\n",
    "#print(challenge_X, challenge_Y)"
   ]
  },
  {
   "cell_type": "code",
   "execution_count": 12,
   "id": "c061be31",
   "metadata": {},
   "outputs": [],
   "source": [
    "#(challenge_X, challenge_Y) = m.position() #HERO ADV\n",
    "#print(challenge_X, challenge_Y)"
   ]
  },
  {
   "cell_type": "code",
   "execution_count": 13,
   "id": "cc79dc37",
   "metadata": {},
   "outputs": [],
   "source": [
    "#(challenge_X, challenge_Y) = m.position() #CLOSE ADV\n",
    "#print(challenge_X, challenge_Y)"
   ]
  },
  {
   "cell_type": "code",
   "execution_count": 14,
   "id": "6ac11c35",
   "metadata": {},
   "outputs": [],
   "source": [
    "#(challenge_X, challenge_Y) = m.position() #CLAIM TROOP\n",
    "#print(challenge_X, challenge_Y)"
   ]
  },
  {
   "cell_type": "code",
   "execution_count": 15,
   "id": "a2051415",
   "metadata": {},
   "outputs": [],
   "source": [
    "#(sale_X, sale_Y) = m.position() #CLOSE SALE\n",
    "#print(sale_X, sale_Y)"
   ]
  },
  {
   "cell_type": "code",
   "execution_count": 16,
   "id": "30c8c54f",
   "metadata": {},
   "outputs": [],
   "source": [
    "#(sale_X, sale_Y) = m.position() #HEADHUNT EASY\n",
    "#print(sale_X, sale_Y)"
   ]
  },
  {
   "cell_type": "code",
   "execution_count": 17,
   "id": "57b56d02",
   "metadata": {},
   "outputs": [],
   "source": [
    "#m.click(1162, 615, 1)\n",
    "#m.click(1163, 615, 1)"
   ]
  },
  {
   "cell_type": "code",
   "execution_count": 18,
   "id": "b908fa64",
   "metadata": {},
   "outputs": [],
   "source": [
    "#(sale_X, sale_Y) = m.position() #HEADHUNT HARD\n",
    "#print(sale_X, sale_Y)"
   ]
  },
  {
   "cell_type": "code",
   "execution_count": 19,
   "id": "dbd3b00f",
   "metadata": {},
   "outputs": [],
   "source": [
    "#(sale_X, sale_Y) = m.position() #NEXT FARM\n",
    "#print(sale_X, sale_Y)"
   ]
  },
  {
   "cell_type": "code",
   "execution_count": 20,
   "id": "f224f74b",
   "metadata": {},
   "outputs": [],
   "source": [
    "#(challenge_X, challenge_Y) = m.position() #ADD2\n",
    "#print(challenge_X, challenge_Y)"
   ]
  },
  {
   "cell_type": "code",
   "execution_count": null,
   "id": "09ecdd8a",
   "metadata": {},
   "outputs": [],
   "source": []
  },
  {
   "cell_type": "code",
   "execution_count": 14,
   "id": "5e6e0efe",
   "metadata": {},
   "outputs": [
    {
     "ename": "IndentationError",
     "evalue": "unexpected indent (Temp/ipykernel_2452/3989513201.py, line 2)",
     "output_type": "error",
     "traceback": [
      "\u001b[1;36m  File \u001b[1;32m\"C:\\Users\\mario\\AppData\\Local\\Temp/ipykernel_2452/3989513201.py\"\u001b[1;36m, line \u001b[1;32m2\u001b[0m\n\u001b[1;33m    m.click(X, Y, 1)\u001b[0m\n\u001b[1;37m    ^\u001b[0m\n\u001b[1;31mIndentationError\u001b[0m\u001b[1;31m:\u001b[0m unexpected indent\n"
     ]
    }
   ],
   "source": []
  }
 ],
 "metadata": {
  "kernelspec": {
   "display_name": "Python 3 (ipykernel)",
   "language": "python",
   "name": "python3"
  },
  "language_info": {
   "codemirror_mode": {
    "name": "ipython",
    "version": 3
   },
   "file_extension": ".py",
   "mimetype": "text/x-python",
   "name": "python",
   "nbconvert_exporter": "python",
   "pygments_lexer": "ipython3",
   "version": "3.10.1"
  }
 },
 "nbformat": 4,
 "nbformat_minor": 5
}
