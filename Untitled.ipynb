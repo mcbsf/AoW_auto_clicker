{
 "cells": [
  {
   "cell_type": "code",
   "execution_count": 34,
   "id": "d2012a94",
   "metadata": {},
   "outputs": [],
   "source": [
    "def solution(S, C):\n",
    "    # write your code in Python 3.6\n",
    "    table_string_rows = S.split(\"\\n\")\n",
    "    \n",
    "    table_size = len(table_string_rows)\n",
    "    \n",
    "    table_header = table_string_rows[0].split(',')\n",
    "    \n",
    "    column_index = 0\n",
    "    iterations = 0\n",
    "    for column in table_header:\n",
    "        if column == C:\n",
    "            column_index=iterations\n",
    "        iterations+=1\n",
    "    print(column_index)\n",
    "    table_string_rows[0].split(',')\n",
    "    max_value = -float('inf')\n",
    "    for i in range(1, table_size):\n",
    "        print(table_string_rows[i].split(','))\n",
    "        actual_value = int(table_string_rows[i].split(',')[column_index])\n",
    "        if(max_value<actual_value):\n",
    "            max_value = actual_value\n",
    "        print(table_string_rows[i].split(',')[column_index])\n",
    "        \n",
    "    print(\"MAX\", max_value)"
   ]
  },
  {
   "cell_type": "code",
   "execution_count": 35,
   "id": "6227319a",
   "metadata": {},
   "outputs": [
    {
     "name": "stdout",
     "output_type": "stream",
     "text": [
      "0\n",
      "['2', 'mario']\n",
      "2\n",
      "['0', 'ze']\n",
      "0\n",
      "MAX 2\n"
     ]
    }
   ],
   "source": [
    "S = \"id,name\\n2,mario\\n0,ze\"\n",
    "solution(S, 'id')"
   ]
  },
  {
   "cell_type": "code",
   "execution_count": 26,
   "id": "be6f8adc",
   "metadata": {},
   "outputs": [
    {
     "data": {
      "text/plain": [
       "-inf"
      ]
     },
     "execution_count": 26,
     "metadata": {},
     "output_type": "execute_result"
    }
   ],
   "source": [
    "max_value = MAX"
   ]
  },
  {
   "cell_type": "code",
   "execution_count": 46,
   "id": "fc455cc6",
   "metadata": {},
   "outputs": [],
   "source": [
    "A = [1,2,3]\n",
    "A.remove(1)"
   ]
  },
  {
   "cell_type": "code",
   "execution_count": 47,
   "id": "7f90f3ff",
   "metadata": {},
   "outputs": [
    {
     "data": {
      "text/plain": [
       "[1, 2, 3]"
      ]
     },
     "execution_count": 47,
     "metadata": {},
     "output_type": "execute_result"
    }
   ],
   "source": [
    "[1]+A"
   ]
  },
  {
   "cell_type": "code",
   "execution_count": 116,
   "id": "34ee5972",
   "metadata": {},
   "outputs": [],
   "source": [
    "def test(A):\n",
    "    min_value = min(A)\n",
    "    in_debt = True\n",
    "    rounds = 0\n",
    "    while(in_debt):\n",
    "        actual_debt = 0\n",
    "        index = 0\n",
    "        for n in A:\n",
    "            actual_debt += n\n",
    "            \n",
    "            if(actual_debt<0):\n",
    "                print(\"DEBITO\", index, actual_debt)\n",
    "                in_debt = True\n",
    "                break\n",
    "            \n",
    "            index += 1\n",
    "            in_debt  = False\n",
    "        \n",
    "        if(in_debt):\n",
    "            \n",
    "            print(\"comparing\", A)\n",
    "            print('index_to_remove', index)\n",
    "            print()\n",
    "\n",
    "            A.remove(min(A[0:index+1]))\n",
    "        rounds += 1\n",
    "        \n",
    "    return rounds-1"
   ]
  },
  {
   "cell_type": "code",
   "execution_count": 117,
   "id": "40004cb6",
   "metadata": {},
   "outputs": [
    {
     "name": "stdout",
     "output_type": "stream",
     "text": [
      "DEBITO 2 -1\n",
      "comparing [10, -10, -1, -1, 10]\n",
      "index_to_remove 2\n",
      "\n"
     ]
    },
    {
     "data": {
      "text/plain": [
       "1"
      ]
     },
     "execution_count": 117,
     "metadata": {},
     "output_type": "execute_result"
    }
   ],
   "source": [
    "test([10, -10, -1, -1, 10])"
   ]
  },
  {
   "cell_type": "code",
   "execution_count": 118,
   "id": "1ae0f633",
   "metadata": {},
   "outputs": [
    {
     "name": "stdout",
     "output_type": "stream",
     "text": [
      "hey\n"
     ]
    }
   ],
   "source": [
    "if([[]]):\n",
    "    print(\"hey\")"
   ]
  },
  {
   "cell_type": "code",
   "execution_count": 79,
   "id": "0441bfec",
   "metadata": {},
   "outputs": [
    {
     "name": "stdout",
     "output_type": "stream",
     "text": [
      "0\n",
      "haha\n"
     ]
    }
   ],
   "source": [
    "for i in range(0,3):\n",
    "    if(True):\n",
    "        print(i)\n",
    "        break\n",
    "print('haha')"
   ]
  },
  {
   "cell_type": "code",
   "execution_count": 61,
   "id": "78e3bf9a",
   "metadata": {},
   "outputs": [
    {
     "name": "stdout",
     "output_type": "stream",
     "text": [
      "0\n"
     ]
    }
   ],
   "source": []
  },
  {
   "cell_type": "code",
   "execution_count": 95,
   "id": "0efdb3df",
   "metadata": {},
   "outputs": [],
   "source": [
    "a = [10, -3, 5]"
   ]
  },
  {
   "cell_type": "code",
   "execution_count": 96,
   "id": "3302b6cd",
   "metadata": {},
   "outputs": [],
   "source": [
    "a.remove(-3)"
   ]
  },
  {
   "cell_type": "code",
   "execution_count": 97,
   "id": "bc3c62ee",
   "metadata": {},
   "outputs": [
    {
     "name": "stdout",
     "output_type": "stream",
     "text": [
      "[10, 5]\n"
     ]
    }
   ],
   "source": [
    "print(a)"
   ]
  },
  {
   "cell_type": "code",
   "execution_count": 138,
   "id": "80dccda6",
   "metadata": {},
   "outputs": [],
   "source": [
    "def get_line(robot_direction, R, column_index, row_index, column_size, row_size):\n",
    "    answer = 0\n",
    "    print(R)\n",
    "    print()\n",
    "    if(robot_direction == 'right'):\n",
    "        if(row_index+1 <= row_size):\n",
    "            print('k', column_index, row_index)\n",
    "            if(R[column_index][row_index+1]!= \"X\"):\n",
    "                answer += 1\n",
    "                row_index += 1\n",
    "                answer = answer + get_line(robot_direction, R, column_index, row_index, column_size, row_size)\n",
    "        \n",
    "    elif(robot_direction== 'down'):\n",
    "        if(column_index+1 <= column_size):\n",
    "            if(R[column_index+1][row_index] != \"X\"):\n",
    "                answer += 1\n",
    "                row_index+=1\n",
    "                answer = answer + get_line(robot_direction, R, column_index, row_index, column_size, row_size)\n",
    "    \n",
    "    elif(robot_direction == 'left'):\n",
    "        if(row_index-1 >= 0):\n",
    "            if(R[column_index][row_index-1]!= \"X\"):\n",
    "                answer += 1\n",
    "                row_index -= 1            \n",
    "                answer = answer + get_line(robot_direction, R, column_index, row_index, column_size, row_size)\n",
    "    \n",
    "    elif(robot_direction == 'up'):\n",
    "        if(column_index-1 >= 0):\n",
    "            if(R[column_index-1][row_index]!= \"X\"):\n",
    "                answer += 1\n",
    "                column_index += 1\n",
    "                answer = answer + get_line(robot_direction, R, column_index, row_index, column_size, row_size)\n",
    "    \n",
    "    return answer"
   ]
  },
  {
   "cell_type": "code",
   "execution_count": 139,
   "id": "a5b42f92",
   "metadata": {},
   "outputs": [
    {
     "name": "stdout",
     "output_type": "stream",
     "text": [
      "[['.X'], ['XX']]\n",
      "k 0 0\n"
     ]
    },
    {
     "ename": "IndexError",
     "evalue": "list index out of range",
     "output_type": "error",
     "traceback": [
      "\u001b[0;31m---------------------------------------------------------------------------\u001b[0m",
      "\u001b[0;31mIndexError\u001b[0m                                Traceback (most recent call last)",
      "\u001b[0;32m/tmp/ipykernel_139985/994938155.py\u001b[0m in \u001b[0;36m<module>\u001b[0;34m\u001b[0m\n\u001b[0;32m----> 1\u001b[0;31m get_line('right', [\n\u001b[0m\u001b[1;32m      2\u001b[0m                     \u001b[0;34m[\u001b[0m\u001b[0;34m'.X'\u001b[0m\u001b[0;34m]\u001b[0m\u001b[0;34m,\u001b[0m\u001b[0;34m\u001b[0m\u001b[0;34m\u001b[0m\u001b[0m\n\u001b[1;32m      3\u001b[0m                     \u001b[0;34m[\u001b[0m\u001b[0;34m'XX'\u001b[0m\u001b[0;34m]\u001b[0m\u001b[0;34m\u001b[0m\u001b[0;34m\u001b[0m\u001b[0m\n\u001b[1;32m      4\u001b[0m                             ], 0, 0, 2, 2)\n",
      "\u001b[0;32m/tmp/ipykernel_139985/3892208654.py\u001b[0m in \u001b[0;36mget_line\u001b[0;34m(robot_direction, R, column_index, row_index, column_size, row_size)\u001b[0m\n\u001b[1;32m      5\u001b[0m         \u001b[0;32mif\u001b[0m\u001b[0;34m(\u001b[0m\u001b[0mrow_index\u001b[0m\u001b[0;34m+\u001b[0m\u001b[0;36m1\u001b[0m \u001b[0;34m<=\u001b[0m \u001b[0mrow_size\u001b[0m\u001b[0;34m)\u001b[0m\u001b[0;34m:\u001b[0m\u001b[0;34m\u001b[0m\u001b[0;34m\u001b[0m\u001b[0m\n\u001b[1;32m      6\u001b[0m             \u001b[0mprint\u001b[0m\u001b[0;34m(\u001b[0m\u001b[0;34m'k'\u001b[0m\u001b[0;34m,\u001b[0m \u001b[0mcolumn_index\u001b[0m\u001b[0;34m,\u001b[0m \u001b[0mrow_index\u001b[0m\u001b[0;34m)\u001b[0m\u001b[0;34m\u001b[0m\u001b[0;34m\u001b[0m\u001b[0m\n\u001b[0;32m----> 7\u001b[0;31m             \u001b[0;32mif\u001b[0m\u001b[0;34m(\u001b[0m\u001b[0mR\u001b[0m\u001b[0;34m[\u001b[0m\u001b[0mcolumn_index\u001b[0m\u001b[0;34m]\u001b[0m\u001b[0;34m[\u001b[0m\u001b[0mrow_index\u001b[0m\u001b[0;34m+\u001b[0m\u001b[0;36m1\u001b[0m\u001b[0;34m]\u001b[0m\u001b[0;34m!=\u001b[0m \u001b[0;34m\"X\"\u001b[0m\u001b[0;34m)\u001b[0m\u001b[0;34m:\u001b[0m\u001b[0;34m\u001b[0m\u001b[0;34m\u001b[0m\u001b[0m\n\u001b[0m\u001b[1;32m      8\u001b[0m                 \u001b[0manswer\u001b[0m \u001b[0;34m+=\u001b[0m \u001b[0;36m1\u001b[0m\u001b[0;34m\u001b[0m\u001b[0;34m\u001b[0m\u001b[0m\n\u001b[1;32m      9\u001b[0m                 \u001b[0mrow_index\u001b[0m \u001b[0;34m+=\u001b[0m \u001b[0;36m1\u001b[0m\u001b[0;34m\u001b[0m\u001b[0;34m\u001b[0m\u001b[0m\n",
      "\u001b[0;31mIndexError\u001b[0m: list index out of range"
     ]
    }
   ],
   "source": [
    "get_line('right', [\n",
    "                    ['.X'], \n",
    "                    ['XX']\n",
    "                            ], 0, 0, 2, 2)"
   ]
  },
  {
   "cell_type": "code",
   "execution_count": 140,
   "id": "5baff265",
   "metadata": {},
   "outputs": [],
   "source": [
    "def test1(R):\n",
    "\n",
    "    robot_direction = 'right'\n",
    "    \n",
    "\n",
    "    cleaned_squares = 0\n",
    "    if(R):\n",
    "        if(R[0]):\n",
    "            columns_size = len(R)\n",
    "            rows_size = len(R[0])\n",
    "            \n",
    "            possible_move = True\n",
    "            column_index = 0\n",
    "            row_index = 0\n",
    "            \n",
    "            while(possible_move):\n",
    "                if(R[column_index][row_index]==\"X\" or R[column_index][row_index]==\"P\"):\n",
    "                    break\n",
    "                \n",
    "                #MOVE\n",
    "                \n",
    "            return cleaned_squares\n",
    "    "
   ]
  },
  {
   "cell_type": "code",
   "execution_count": null,
   "id": "2bc42fde",
   "metadata": {},
   "outputs": [],
   "source": []
  }
 ],
 "metadata": {
  "kernelspec": {
   "display_name": "Python 3 (ipykernel)",
   "language": "python",
   "name": "python3"
  },
  "language_info": {
   "codemirror_mode": {
    "name": "ipython",
    "version": 3
   },
   "file_extension": ".py",
   "mimetype": "text/x-python",
   "name": "python",
   "nbconvert_exporter": "python",
   "pygments_lexer": "ipython3",
   "version": "3.8.10"
  }
 },
 "nbformat": 4,
 "nbformat_minor": 5
}
