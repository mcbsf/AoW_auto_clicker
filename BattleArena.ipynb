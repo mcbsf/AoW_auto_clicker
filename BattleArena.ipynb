{
 "cells": [
  {
   "cell_type": "code",
   "execution_count": 2,
   "metadata": {},
   "outputs": [],
   "source": [
    "from pymouse import PyMouse\n",
    "from pykeyboard import PyKeyboard\n",
    "import time\n",
    "import random"
   ]
  },
  {
   "cell_type": "code",
   "execution_count": 3,
   "metadata": {},
   "outputs": [],
   "source": [
    "m = PyMouse()\n",
    "k = PyKeyboard()\n",
    "\n",
    "cbs = coord_by_step = None"
   ]
  },
  {
   "cell_type": "markdown",
   "metadata": {},
   "source": [
    "### Workbook 2 screens"
   ]
  },
  {
   "cell_type": "code",
   "execution_count": 2,
   "metadata": {},
   "outputs": [],
   "source": [
    "challenge_X, challenge_Y = 1253 ,  1832\n",
    "fight_worse_X, fight_worse_Y = 1352 ,  1716\n",
    "beggin_battle_X, beggin_battle_Y = 1254 ,  1807\n",
    "next_battle_X, next_battle_Y = 1251 ,  1740"
   ]
  },
  {
   "cell_type": "code",
   "execution_count": 4,
   "metadata": {},
   "outputs": [],
   "source": [
    "work_book_coordinates = {\n",
    "    '2_screens': {\n",
    "        'challenge': {\n",
    "            'X': 1253,\n",
    "            'Y': 1832,\n",
    "        },\n",
    "        'fight_worse': {\n",
    "            'X': 1352,\n",
    "            'Y': 1716,\n",
    "        },\n",
    "        'beggin_battle': {\n",
    "            'X': 1254,\n",
    "            'Y': 1807,\n",
    "        },\n",
    "        'next_battle': {\n",
    "            'X': 1251,\n",
    "            'Y': 1740,\n",
    "        }\n",
    "    }\n",
    "}"
   ]
  },
  {
   "cell_type": "markdown",
   "metadata": {},
   "source": [
    "## homenotebook 2 screens"
   ]
  },
  {
   "cell_type": "code",
   "execution_count": null,
   "metadata": {},
   "outputs": [],
   "source": [
    "home_book_coordinates = {\n",
    "    '2_screens': {\n",
    "        'challenge': {\n",
    "            'X': 1625,\n",
    "            'Y': 947,\n",
    "        },\n",
    "        'fight_worse': {\n",
    "            'X': 1787,\n",
    "            'Y': 777,\n",
    "        },\n",
    "        'beggin_battle': {\n",
    "            'X': 1624,\n",
    "            'Y': 900,\n",
    "        },\n",
    "        'next_battle': {\n",
    "            'X': 1627,\n",
    "            'Y': 811,\n",
    "        }\n",
    "    }\n",
    "}"
   ]
  },
  {
   "cell_type": "code",
   "execution_count": 17,
   "metadata": {},
   "outputs": [
    {
     "name": "stdout",
     "output_type": "stream",
     "text": [
      "89\n",
      "1159\n"
     ]
    }
   ],
   "source": [
    "print( 1253 - 1164)\n",
    "print(1832 - 673)\n"
   ]
  },
  {
   "cell_type": "code",
   "execution_count": 45,
   "metadata": {},
   "outputs": [],
   "source": [
    "#    1623 2147\n",
    "\n",
    "#592 184\n",
    "coordinates_screens_computer = {\n",
    "    'home': {\n",
    "        1: {\n",
    "            'challenge': {\n",
    "                'X': 1625,\n",
    "                'Y': 947 ,\n",
    "            },\n",
    "            'fight_worse': {\n",
    "                'X': 1787,\n",
    "                'Y': 777,\n",
    "            },\n",
    "            'beggin_battle': {\n",
    "                'X': 1624,\n",
    "                'Y': 900 ,\n",
    "            },\n",
    "            'next_battle': {\n",
    "                'X': 1627,\n",
    "                'Y': 811 ,\n",
    "            }\n",
    "        },\n",
    "        2: {\n",
    "            'challenge': {\n",
    "                'X': 1625,\n",
    "                'Y': 947 + 1200,\n",
    "            },\n",
    "            'fight_worse': {\n",
    "                'X': 1787,\n",
    "                'Y': 777 + 1200,\n",
    "            },\n",
    "            'beggin_battle': {\n",
    "                'X': 1624,\n",
    "                'Y': 900 + 1200,\n",
    "            },\n",
    "            'next_battle': {\n",
    "                'X': 1627,\n",
    "                'Y': 811 + 1200,\n",
    "            }\n",
    "        }\n",
    "    },\n",
    "    'work': {\n",
    "        1:{\n",
    "            'challenge': {\n",
    "                'X': 1253 - 89,\n",
    "                'Y': 1832 - 1159,\n",
    "            },\n",
    "            'fight_worse': {\n",
    "                'X': 1352 - 89,\n",
    "                'Y': 1716 - 1159,\n",
    "            },\n",
    "            'beggin_battle': {\n",
    "                'X': 1254 - 89,\n",
    "                'Y': 1807 - 1159,\n",
    "            },\n",
    "            'next_battle': {\n",
    "                'X': 1251 - 89,\n",
    "                'Y': 1740 - 1159,\n",
    "            }\n",
    "        },\n",
    "        2:{\n",
    "            'challenge': {\n",
    "                'X': 1253,\n",
    "                'Y': 1832,\n",
    "            },\n",
    "            'fight_worse': {\n",
    "                'X': 1352,\n",
    "                'Y': 1716,\n",
    "            },\n",
    "            'beggin_battle': {\n",
    "                'X': 1254,\n",
    "                'Y': 1807,\n",
    "            },\n",
    "            'next_battle': {\n",
    "                'X': 1251,\n",
    "                'Y': 1740,\n",
    "            }\n",
    "        }\n",
    "    }  \n",
    "}\n"
   ]
  },
  {
   "cell_type": "code",
   "execution_count": 19,
   "metadata": {},
   "outputs": [],
   "source": [
    "def get_step_coord(coord_by_step, step):\n",
    "    \n",
    "    return coord_by_step[step]['X'] + random.randint(0,10) - 5, coord_by_step[step]['Y'] + random.randint(0,5) - 2\n",
    "    "
   ]
  },
  {
   "cell_type": "code",
   "execution_count": 20,
   "metadata": {},
   "outputs": [],
   "source": [
    "a = b = 2"
   ]
  },
  {
   "cell_type": "code",
   "execution_count": 21,
   "metadata": {},
   "outputs": [
    {
     "data": {
      "text/plain": "2"
     },
     "execution_count": 21,
     "metadata": {},
     "output_type": "execute_result"
    }
   ],
   "source": [
    "b"
   ]
  },
  {
   "cell_type": "code",
   "execution_count": 42,
   "metadata": {},
   "outputs": [],
   "source": [
    "def battle(\n",
    "    hero_trial = False,\n",
    "    start_time = 1.5,\n",
    "    battles = 20,\n",
    "    computer='home',\n",
    "    screens=1\n",
    "):\n",
    "    cbs = coord_by_step = coordinates_screens_computer[computer][screens]\n",
    "    if(hero_trial == True):\n",
    "    #IF IS HERO TRIAL\n",
    "        cbs['challenge']['Y'] = cbs['challenge']['Y'] + 30\n",
    "    \n",
    "    X, Y = get_step_coord(cbs, 'challenge')\n",
    "    m.click(X, Y, 1) #START\n",
    "    time.sleep(random.uniform(1,2))\n",
    "\n",
    "    for i in range(0, battles):\n",
    "        print(\"ROUND \"+str(i+1))\n",
    "        \n",
    "        #CHALLENGE\n",
    "        print('     challenging')\n",
    "        X, Y = get_step_coord(cbs, 'challenge')\n",
    "        m.click(X, Y, 1) #START\n",
    "        time.sleep(start_time + random.uniform(1,2))\n",
    "\n",
    "        \n",
    "        #FIGHT WORSE\n",
    "        print('     fight worse')\n",
    "        X, Y = get_step_coord(cbs, 'fight_worse')\n",
    "        m.click(X, Y, 1) \n",
    "        time.sleep(start_time*2 + random.uniform(1,2))\n",
    "        \n",
    "        \n",
    "        #BEGGIN BATTLE\n",
    "        print('     BEGGIN BATTLE')\n",
    "        X, Y = get_step_coord(cbs, 'beggin_battle')\n",
    "        m.click(X, Y, 1) \n",
    "        if(hero_trial):\n",
    "            start_time -= 0.3\n",
    "        time.sleep(start_time*15 + random.uniform(1,2))\n",
    "        if(hero_trial):\n",
    "            start_time += 0.3\n",
    "        \n",
    "        \n",
    "        \n",
    "        #NEXT BATTLE\n",
    "        print('     NEXT BATTLE')\n",
    "        X, Y = get_step_coord(cbs, 'next_battle')\n",
    "        m.click(X, Y, 1) \n",
    "        time.sleep(start_time*2 + random.uniform(1,2))\n",
    "        \n",
    "        \n",
    "        if(hero_trial == True):\n",
    "            #CHALLENGE\n",
    "            print('     challenging')\n",
    "            X, Y = get_step_coord(cbs, 'challenge')\n",
    "            m.click(X, Y, 1) #START\n",
    "            time.sleep(start_time + random.uniform(1,2))\n",
    "\n"
   ]
  },
  {
   "cell_type": "code",
   "execution_count": 46,
   "metadata": {},
   "outputs": [
    {
     "name": "stdout",
     "output_type": "stream",
     "text": [
      "ROUND 1\n",
      "     challenging\n",
      "     fight worse\n",
      "     BEGGIN BATTLE\n",
      "     NEXT BATTLE\n",
      "     challenging\n",
      "ROUND 2\n",
      "     challenging\n",
      "     fight worse\n",
      "     BEGGIN BATTLE\n",
      "     NEXT BATTLE\n",
      "     challenging\n",
      "ROUND 3\n",
      "     challenging\n",
      "     fight worse\n",
      "     BEGGIN BATTLE\n",
      "     NEXT BATTLE\n",
      "     challenging\n"
     ]
    }
   ],
   "source": [
    "battle(\n",
    "    hero_trial = True,\n",
    "    start_time = 2,\n",
    "    battles = 3,\n",
    "    computer='work',\n",
    "    screens=1\n",
    ")"
   ]
  },
  {
   "cell_type": "code",
   "execution_count": null,
   "metadata": {},
   "outputs": [],
   "source": []
  },
  {
   "cell_type": "code",
   "execution_count": null,
   "metadata": {
    "collapsed": true
   },
   "outputs": [],
   "source": []
  },
  {
   "cell_type": "code",
   "execution_count": 16,
   "metadata": {},
   "outputs": [
    {
     "name": "stdout",
     "output_type": "stream",
     "text": [
      "1164 673\n"
     ]
    }
   ],
   "source": [
    "(challenge_X, challenge_Y) = m.position() #CHALLENGE\n",
    "print(challenge_X, challenge_Y)"
   ]
  }
 ],
 "metadata": {
  "kernelspec": {
   "display_name": "Python 3",
   "language": "python",
   "name": "python3"
  },
  "language_info": {
   "codemirror_mode": {
    "name": "ipython",
    "version": 3
   },
   "file_extension": ".py",
   "mimetype": "text/x-python",
   "name": "python",
   "nbconvert_exporter": "python",
   "pygments_lexer": "ipython3",
   "version": "3.8.10"
  }
 },
 "nbformat": 4,
 "nbformat_minor": 5
}