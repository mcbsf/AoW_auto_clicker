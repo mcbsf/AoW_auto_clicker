{
 "cells": [
  {
   "cell_type": "code",
   "execution_count": 6,
   "id": "14e8af4d",
   "metadata": {},
   "outputs": [],
   "source": [
    "from pymouse import PyMouse\n",
    "from pykeyboard import PyKeyboard\n",
    "import time\n",
    "import random"
   ]
  },
  {
   "cell_type": "code",
   "execution_count": 7,
   "id": "0b35d20c",
   "metadata": {},
   "outputs": [],
   "source": [
    "m = PyMouse()\n",
    "k = PyKeyboard()\n",
    "\n",
    "cbs = coord_by_step = None"
   ]
  },
  {
   "cell_type": "markdown",
   "id": "02dbd62a",
   "metadata": {},
   "source": [
    "### Workbook 2 screens"
   ]
  },
  {
   "cell_type": "code",
   "execution_count": 2,
   "id": "4648e405",
   "metadata": {},
   "outputs": [],
   "source": [
    "challenge_X, challenge_Y = 1253 ,  1832\n",
    "fight_worse_X, fight_worse_Y = 1352 ,  1716\n",
    "beggin_battle_X, beggin_battle_Y = 1254 ,  1807\n",
    "next_battle_X, next_battle_Y = 1251 ,  1740"
   ]
  },
  {
   "cell_type": "code",
   "execution_count": 4,
   "id": "5986a834",
   "metadata": {},
   "outputs": [],
   "source": [
    "work_book_coordinates = {\n",
    "    '2_screens': {\n",
    "        'challenge': {\n",
    "            'X': 1253,\n",
    "            'Y': 1832,\n",
    "        },\n",
    "        'fight_worse': {\n",
    "            'X': 1352,\n",
    "            'Y': 1716,\n",
    "        },\n",
    "        'beggin_battle': {\n",
    "            'X': 1254,\n",
    "            'Y': 1807,\n",
    "        },\n",
    "        'next_battle': {\n",
    "            'X': 1251,\n",
    "            'Y': 1740,\n",
    "        }\n",
    "    }\n",
    "}"
   ]
  },
  {
   "cell_type": "markdown",
   "id": "fbccde69",
   "metadata": {},
   "source": [
    "## homenotebook 2 screens"
   ]
  },
  {
   "cell_type": "code",
   "execution_count": null,
   "id": "fb726ea9",
   "metadata": {},
   "outputs": [],
   "source": [
    "home_book_coordinates = {\n",
    "    '2_screens': {\n",
    "        'challenge': {\n",
    "            'X': 1625,\n",
    "            'Y': 947,\n",
    "        },\n",
    "        'fight_worse': {\n",
    "            'X': 1787,\n",
    "            'Y': 777,\n",
    "        },\n",
    "        'beggin_battle': {\n",
    "            'X': 1624,\n",
    "            'Y': 900,\n",
    "        },\n",
    "        'next_battle': {\n",
    "            'X': 1627,\n",
    "            'Y': 811,\n",
    "        }\n",
    "    }\n",
    "}"
   ]
  },
  {
   "cell_type": "code",
   "execution_count": 11,
   "id": "5707377e",
   "metadata": {},
   "outputs": [
    {
     "data": {
      "text/plain": [
       "-1200"
      ]
     },
     "execution_count": 11,
     "metadata": {},
     "output_type": "execute_result"
    }
   ],
   "source": []
  },
  {
   "cell_type": "code",
   "execution_count": 26,
   "id": "d6d9f08e",
   "metadata": {},
   "outputs": [],
   "source": [
    "#    1623 2147\n",
    "\n",
    "\n",
    "coordinates_screens_computer = {\n",
    "    'home': {\n",
    "        1: {\n",
    "            'challenge': {\n",
    "                'X': 1625,\n",
    "                'Y': 947 ,\n",
    "            },\n",
    "            'fight_worse': {\n",
    "                'X': 1787,\n",
    "                'Y': 777,\n",
    "            },\n",
    "            'beggin_battle': {\n",
    "                'X': 1624,\n",
    "                'Y': 900 ,\n",
    "            },\n",
    "            'next_battle': {\n",
    "                'X': 1627,\n",
    "                'Y': 811 ,\n",
    "            }\n",
    "        },\n",
    "        2: {\n",
    "            'challenge': {\n",
    "                'X': 1625,\n",
    "                'Y': 947 + 1200,\n",
    "            },\n",
    "            'fight_worse': {\n",
    "                'X': 1787,\n",
    "                'Y': 777 + 1200,\n",
    "            },\n",
    "            'beggin_battle': {\n",
    "                'X': 1624,\n",
    "                'Y': 900 + 1200,\n",
    "            },\n",
    "            'next_battle': {\n",
    "                'X': 1627,\n",
    "                'Y': 811 + 1200,\n",
    "            }\n",
    "        }\n",
    "    },\n",
    "    'work': {\n",
    "        2:{\n",
    "            'challenge': {\n",
    "                'X': 1253,\n",
    "                'Y': 1832,\n",
    "            },\n",
    "            'fight_worse': {\n",
    "                'X': 1352,\n",
    "                'Y': 1716,\n",
    "            },\n",
    "            'beggin_battle': {\n",
    "                'X': 1254,\n",
    "                'Y': 1807,\n",
    "            },\n",
    "            'next_battle': {\n",
    "                'X': 1251,\n",
    "                'Y': 1740,\n",
    "            }\n",
    "        }\n",
    "    }  \n",
    "}\n"
   ]
  },
  {
   "cell_type": "code",
   "execution_count": 30,
   "id": "dcdc5c6d",
   "metadata": {},
   "outputs": [],
   "source": [
    "def get_step_coord(coord_by_step, step):\n",
    "    \n",
    "    return coord_by_step[step]['X'] + random.randint(0,10) - 5, coord_by_step[step]['Y'] + random.randint(0,5) - 2\n",
    "    "
   ]
  },
  {
   "cell_type": "code",
   "execution_count": 15,
   "id": "aefe9aa2",
   "metadata": {},
   "outputs": [],
   "source": [
    "a = b = 2"
   ]
  },
  {
   "cell_type": "code",
   "execution_count": 17,
   "id": "91ec019e",
   "metadata": {},
   "outputs": [
    {
     "data": {
      "text/plain": [
       "2"
      ]
     },
     "execution_count": 17,
     "metadata": {},
     "output_type": "execute_result"
    }
   ],
   "source": [
    "b"
   ]
  },
  {
   "cell_type": "code",
   "execution_count": 33,
   "id": "7456094d",
   "metadata": {},
   "outputs": [],
   "source": [
    "def battle(\n",
    "    hero_trial = False,\n",
    "    start_time = 1.5,\n",
    "    battles = 20,\n",
    "    computer='home',\n",
    "    screens=1\n",
    "):\n",
    "    cbs = coord_by_step = coordinates_screens_computer[computer][screens]\n",
    "    if(hero_trial == True):\n",
    "    #IF IS HERO TRIAL\n",
    "        cbs[computer][screens]['challenge']['Y'] = cbs[computer][screens]['challenge']['Y'] + 30\n",
    "    \n",
    "    X, Y = get_step_coord(cbs, 'challenge')\n",
    "    m.click(X, Y, 1) #START\n",
    "    for i in range(0, battles):\n",
    "        print(\"ROUND \"+str(i))\n",
    "        \n",
    "        #CHALLENGE\n",
    "        print('     challenging')\n",
    "        X, Y = get_step_coord(cbs, 'challenge')\n",
    "        m.click(X, Y, 1) #START\n",
    "        time.sleep(start_time + random.uniform(1,2))\n",
    "\n",
    "        \n",
    "        #FIGHT WORSE\n",
    "        print('     fight worse')\n",
    "        X, Y = get_step_coord(cbs, 'fight_worse')\n",
    "        m.click(X, Y, 1) \n",
    "        time.sleep(start_time + random.uniform(1,2))\n",
    "        \n",
    "        \n",
    "        #BEGGIN BATTLE\n",
    "        print('     BEGGIN BATTLE')\n",
    "        X, Y = get_step_coord(cbs, 'beggin_battle')\n",
    "        m.click(X, Y, 1) \n",
    "        time.sleep(start_time + random.uniform(1,2))\n",
    "        \n",
    "        \n",
    "        \n",
    "        \n",
    "        #NEXT BATTLE\n",
    "        print('     BEGGIN BATTLE')\n",
    "        X, Y = get_step_coord(cbs, 'next_battle')\n",
    "        m.click(X, Y, 1) \n",
    "        time.sleep(start_time + random.uniform(1,2))\n",
    "        \n",
    "        \n",
    "        if(hero_trial == True):\n",
    "            #CHALLENGE\n",
    "            print('     challenging')\n",
    "            X, Y = get_step_coord(cbs, 'challenge')\n",
    "            m.click(X, Y, 1) #START\n",
    "            time.sleep(start_time + random.uniform(1,2))\n",
    "\n"
   ]
  },
  {
   "cell_type": "code",
   "execution_count": 36,
   "id": "3140ec7e",
   "metadata": {},
   "outputs": [
    {
     "name": "stdout",
     "output_type": "stream",
     "text": [
      "ROUND 0\n",
      "     challenging\n",
      "     fight worse\n",
      "     BEGGIN BATTLE\n",
      "     BEGGIN BATTLE\n",
      "ROUND 1\n",
      "     challenging\n",
      "     fight worse\n",
      "     BEGGIN BATTLE\n",
      "     BEGGIN BATTLE\n",
      "ROUND 2\n",
      "     challenging\n",
      "     fight worse\n",
      "     BEGGIN BATTLE\n",
      "     BEGGIN BATTLE\n",
      "ROUND 3\n",
      "     challenging\n",
      "     fight worse\n",
      "     BEGGIN BATTLE\n",
      "     BEGGIN BATTLE\n",
      "ROUND 4\n",
      "     challenging\n",
      "     fight worse\n",
      "     BEGGIN BATTLE\n",
      "     BEGGIN BATTLE\n",
      "ROUND 5\n",
      "     challenging\n",
      "     fight worse\n",
      "     BEGGIN BATTLE\n",
      "     BEGGIN BATTLE\n",
      "ROUND 6\n",
      "     challenging\n",
      "     fight worse\n",
      "     BEGGIN BATTLE\n",
      "     BEGGIN BATTLE\n",
      "ROUND 7\n",
      "     challenging\n",
      "     fight worse\n",
      "     BEGGIN BATTLE\n",
      "     BEGGIN BATTLE\n",
      "ROUND 8\n",
      "     challenging\n",
      "     fight worse\n",
      "     BEGGIN BATTLE\n",
      "     BEGGIN BATTLE\n",
      "ROUND 9\n",
      "     challenging\n",
      "     fight worse\n",
      "     BEGGIN BATTLE\n",
      "     BEGGIN BATTLE\n"
     ]
    },
    {
     "ename": "KeyboardInterrupt",
     "evalue": "",
     "output_type": "error",
     "traceback": [
      "\u001b[0;31m---------------------------------------------------------------------------\u001b[0m",
      "\u001b[0;31mKeyboardInterrupt\u001b[0m                         Traceback (most recent call last)",
      "\u001b[0;32m/tmp/ipykernel_10826/3008693948.py\u001b[0m in \u001b[0;36m<module>\u001b[0;34m\u001b[0m\n\u001b[0;32m----> 1\u001b[0;31m battle(\n\u001b[0m\u001b[1;32m      2\u001b[0m     \u001b[0mhero_trial\u001b[0m \u001b[0;34m=\u001b[0m \u001b[0;32mFalse\u001b[0m\u001b[0;34m,\u001b[0m\u001b[0;34m\u001b[0m\u001b[0;34m\u001b[0m\u001b[0m\n\u001b[1;32m      3\u001b[0m     \u001b[0mstart_time\u001b[0m \u001b[0;34m=\u001b[0m \u001b[0;36m2\u001b[0m\u001b[0;34m,\u001b[0m\u001b[0;34m\u001b[0m\u001b[0;34m\u001b[0m\u001b[0m\n\u001b[1;32m      4\u001b[0m     \u001b[0mbattles\u001b[0m \u001b[0;34m=\u001b[0m \u001b[0;36m18\u001b[0m\u001b[0;34m,\u001b[0m\u001b[0;34m\u001b[0m\u001b[0;34m\u001b[0m\u001b[0m\n\u001b[1;32m      5\u001b[0m     \u001b[0mcomputer\u001b[0m\u001b[0;34m=\u001b[0m\u001b[0;34m'home'\u001b[0m\u001b[0;34m,\u001b[0m\u001b[0;34m\u001b[0m\u001b[0;34m\u001b[0m\u001b[0m\n",
      "\u001b[0;32m/tmp/ipykernel_10826/634606888.py\u001b[0m in \u001b[0;36mbattle\u001b[0;34m(hero_trial, start_time, battles, computer, screens)\u001b[0m\n\u001b[1;32m     43\u001b[0m         \u001b[0mX\u001b[0m\u001b[0;34m,\u001b[0m \u001b[0mY\u001b[0m \u001b[0;34m=\u001b[0m \u001b[0mget_step_coord\u001b[0m\u001b[0;34m(\u001b[0m\u001b[0mcbs\u001b[0m\u001b[0;34m,\u001b[0m \u001b[0;34m'next_battle'\u001b[0m\u001b[0;34m)\u001b[0m\u001b[0;34m\u001b[0m\u001b[0;34m\u001b[0m\u001b[0m\n\u001b[1;32m     44\u001b[0m         \u001b[0mm\u001b[0m\u001b[0;34m.\u001b[0m\u001b[0mclick\u001b[0m\u001b[0;34m(\u001b[0m\u001b[0mX\u001b[0m\u001b[0;34m,\u001b[0m \u001b[0mY\u001b[0m\u001b[0;34m,\u001b[0m \u001b[0;36m1\u001b[0m\u001b[0;34m)\u001b[0m\u001b[0;34m\u001b[0m\u001b[0;34m\u001b[0m\u001b[0m\n\u001b[0;32m---> 45\u001b[0;31m         \u001b[0mtime\u001b[0m\u001b[0;34m.\u001b[0m\u001b[0msleep\u001b[0m\u001b[0;34m(\u001b[0m\u001b[0mstart_time\u001b[0m \u001b[0;34m+\u001b[0m \u001b[0mrandom\u001b[0m\u001b[0;34m.\u001b[0m\u001b[0muniform\u001b[0m\u001b[0;34m(\u001b[0m\u001b[0;36m1\u001b[0m\u001b[0;34m,\u001b[0m\u001b[0;36m2\u001b[0m\u001b[0;34m)\u001b[0m\u001b[0;34m)\u001b[0m\u001b[0;34m\u001b[0m\u001b[0;34m\u001b[0m\u001b[0m\n\u001b[0m\u001b[1;32m     46\u001b[0m \u001b[0;34m\u001b[0m\u001b[0m\n\u001b[1;32m     47\u001b[0m \u001b[0;34m\u001b[0m\u001b[0m\n",
      "\u001b[0;31mKeyboardInterrupt\u001b[0m: "
     ]
    }
   ],
   "source": [
    "battle(\n",
    "    hero_trial = False,\n",
    "    start_time = 2,\n",
    "    battles = 18,\n",
    "    computer='home',\n",
    "    screens=2\n",
    ")"
   ]
  },
  {
   "cell_type": "code",
   "execution_count": null,
   "id": "cb4adbb6",
   "metadata": {
    "collapsed": true
   },
   "outputs": [],
   "source": []
  },
  {
   "cell_type": "code",
   "execution_count": 10,
   "id": "d46a628a",
   "metadata": {},
   "outputs": [
    {
     "name": "stdout",
     "output_type": "stream",
     "text": [
      "1509 2142\n"
     ]
    }
   ],
   "source": [
    "(challenge_X, challenge_Y) = m.position() #CHALLENGE\n",
    "print(challenge_X, challenge_Y)"
   ]
  }
 ],
 "metadata": {
  "kernelspec": {
   "display_name": "Python 3 (ipykernel)",
   "language": "python",
   "name": "python3"
  },
  "language_info": {
   "codemirror_mode": {
    "name": "ipython",
    "version": 3
   },
   "file_extension": ".py",
   "mimetype": "text/x-python",
   "name": "python",
   "nbconvert_exporter": "python",
   "pygments_lexer": "ipython3",
   "version": "3.8.10"
  }
 },
 "nbformat": 4,
 "nbformat_minor": 5
}
