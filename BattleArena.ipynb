{
 "cells": [
  {
   "cell_type": "code",
   "execution_count": 1,
   "id": "a34ed34c",
   "metadata": {},
   "outputs": [],
   "source": [
    "from pymouse import PyMouse\n",
    "from pykeyboard import PyKeyboard\n",
    "import time\n",
    "import random\n",
    "\n",
    "from IPython.display import clear_output"
   ]
  },
  {
   "cell_type": "code",
   "execution_count": 2,
   "id": "e33df0d0",
   "metadata": {},
   "outputs": [],
   "source": [
    "m = PyMouse()\n",
    "k = PyKeyboard()\n",
    "\n",
    "cbs = coord_by_step = None"
   ]
  },
  {
   "cell_type": "code",
   "execution_count": 7,
   "id": "4fb98154",
   "metadata": {},
   "outputs": [],
   "source": [
    "#    1623 2147\n",
    "\n",
    "#592 184\n",
    "coordinates_screens_computer = {\n",
    "    'home': {\n",
    "        1: {\n",
    "            'challenge': {\n",
    "                'X': 1625,\n",
    "                'Y': 947 ,\n",
    "            },\n",
    "            'fight_worse': {\n",
    "                'X': 1787,\n",
    "                'Y': 777,\n",
    "            },\n",
    "            'beggin_battle': {\n",
    "                'X': 1624,\n",
    "                'Y': 900 ,\n",
    "            },\n",
    "            'next_battle': {\n",
    "                'X': 1627,\n",
    "                'Y': 811 ,\n",
    "            }\n",
    "        },\n",
    "        2: {\n",
    "            'challenge': {\n",
    "                'X': 1625,\n",
    "                'Y': 947 + 1200,\n",
    "            },\n",
    "            'fight_worse': {\n",
    "                'X': 1787,\n",
    "                'Y': 777 + 1200,\n",
    "            },\n",
    "            'beggin_battle': {\n",
    "                'X': 1624,\n",
    "                'Y': 900 + 1200,\n",
    "            },\n",
    "            'next_battle': {\n",
    "                'X': 1627,\n",
    "                'Y': 811 + 1200,\n",
    "            }\n",
    "        }\n",
    "    },\n",
    "    'work': {\n",
    "        1:{\n",
    "            'challenge': {\n",
    "                'X': 1253 - 89,\n",
    "                'Y': 1840 - 1170 + 10,\n",
    "            },\n",
    "            'fight_worse': {\n",
    "                'X': 1352 - 89 - 15,\n",
    "                'Y': 1725 - 1170 - 10,\n",
    "            },\n",
    "            'extra_battle': {\n",
    "                'X': 1179,\n",
    "                'Y': 478\n",
    "            },\n",
    "            'beggin_battle': {\n",
    "                'X': 1254 - 89,\n",
    "                'Y': 1815 - 1170 + 10,\n",
    "            },\n",
    "            'next_battle': {\n",
    "                'X': 1251 - 95,\n",
    "                'Y': 1745 - 1170,\n",
    "            }\n",
    "        },\n",
    "        2:{\n",
    "            'challenge': {\n",
    "                'X': 1253,\n",
    "                'Y': 1832,\n",
    "            },\n",
    "            'fight_worse': {\n",
    "                'X': 1352,\n",
    "                'Y': 1716,\n",
    "            },\n",
    "            'beggin_battle': {\n",
    "                'X': 1254,\n",
    "                'Y': 1807,\n",
    "            },\n",
    "            'next_battle': {\n",
    "                'X': 1251,\n",
    "                'Y': 1740,\n",
    "            }\n",
    "        }\n",
    "    }  \n",
    "}\n"
   ]
  },
  {
   "cell_type": "code",
   "execution_count": 8,
   "id": "9322ac83",
   "metadata": {},
   "outputs": [],
   "source": [
    "def get_step_coord(coord_by_step, step):\n",
    "    \n",
    "    return coord_by_step[step]['X'] + random.randint(0,10) - 5, coord_by_step[step]['Y'] + random.randint(0,5) - 2\n",
    "    "
   ]
  },
  {
   "cell_type": "code",
   "execution_count": 9,
   "id": "8a409a30",
   "metadata": {},
   "outputs": [],
   "source": [
    "def battle(\n",
    "    hero_trial = False,\n",
    "    start_time = 1.5,\n",
    "    battles = 20,\n",
    "    computer='home',\n",
    "    screens=1,\n",
    "    extra_battle = False\n",
    "):\n",
    "    cbs = coord_by_step = coordinates_screens_computer[computer][screens]\n",
    "    if(hero_trial == True):\n",
    "    #IF IS HERO TRIAL\n",
    "        cbs['challenge']['Y'] = cbs['challenge']['Y'] + 30\n",
    "    \n",
    "    X, Y = get_step_coord(cbs, 'challenge')\n",
    "    m.click(X, Y, 1) #START\n",
    "    time.sleep(random.uniform(1,2))\n",
    "\n",
    "    for i in range(0, battles):\n",
    "        print(\"ROUND \"+str(i+1))\n",
    "        \n",
    "        #CHALLENGE\n",
    "        print('     challenging')\n",
    "        X, Y = get_step_coord(cbs, 'challenge')\n",
    "        m.click(X, Y, 1) #START\n",
    "        time.sleep(start_time + random.uniform(1,2))\n",
    "\n",
    "        \n",
    "        #FIGHT WORSE\n",
    "        print('     fight worse')\n",
    "        X, Y = get_step_coord(cbs, 'fight_worse')\n",
    "        m.click(X, Y, 1) \n",
    "        \n",
    "        if(extra_battle):\n",
    "\n",
    "            time.sleep(random.uniform(1,2))\n",
    "            print('     extra battle')\n",
    "            X, Y = get_step_coord(cbs, 'extra_battle')\n",
    "            m.click(X, Y, 1) \n",
    "            time.sleep(start_time*3 + random.uniform(1,2))\n",
    "\n",
    "        else:\n",
    "            time.sleep(start_time*3 + random.uniform(1,2))\n",
    "        \n",
    "        \n",
    "        #BEGGIN BATTLE\n",
    "        print('     BEGGIN BATTLE')\n",
    "        X, Y = get_step_coord(cbs, 'beggin_battle')\n",
    "        m.click(X, Y, 1) \n",
    "        if(hero_trial):\n",
    "            start_time -= 0.3\n",
    "        time.sleep(start_time*17 + random.uniform(1,2))\n",
    "        if(hero_trial):\n",
    "            start_time += 0.3\n",
    "        \n",
    "        \n",
    "        \n",
    "        #NEXT BATTLE\n",
    "        print('     NEXT BATTLE')\n",
    "        X, Y = get_step_coord(cbs, 'next_battle')\n",
    "        m.click(X, Y, 1)\n",
    "        time.sleep(start_time*2 + random.uniform(1,2))\n",
    "        \n",
    "        \n",
    "        if(hero_trial == True):\n",
    "            #CHALLENGE\n",
    "            print('     challenging')\n",
    "            X, Y = get_step_coord(cbs, 'challenge')\n",
    "            m.click(X, Y, 1) #START\n",
    "            time.sleep(start_time + random.uniform(1,2))\n",
    "\n",
    "        clear_output(wait=False)"
   ]
  },
  {
   "cell_type": "code",
   "execution_count": 12,
   "id": "a09c207e",
   "metadata": {},
   "outputs": [],
   "source": [
    "battle(\n",
    "    hero_trial = False,\n",
    "    start_time = 3,\n",
    "    battles = 7,\n",
    "    computer='work',\n",
    "    screens=1,\n",
    "    extra_battle = False\n",
    ")"
   ]
  },
  {
   "cell_type": "code",
   "execution_count": 13,
   "id": "e81bdf6b",
   "metadata": {},
   "outputs": [],
   "source": [
    "battle(\n",
    "    hero_trial = False,\n",
    "    start_time = 3,\n",
    "    battles = 6,\n",
    "    computer='work',\n",
    "    screens=1,\n",
    "    extra_battle = True\n",
    ")"
   ]
  },
  {
   "cell_type": "code",
   "execution_count": 33,
   "id": "da98d0d1",
   "metadata": {},
   "outputs": [
    {
     "name": "stdout",
     "output_type": "stream",
     "text": [
      "1179 478\n"
     ]
    }
   ],
   "source": [
    "(extra_X, extra_Y) = m.position() #CHALLENGE\n",
    "print(extra_X, extra_Y)"
   ]
  },
  {
   "cell_type": "code",
   "execution_count": null,
   "id": "7ff60f3f",
   "metadata": {
    "collapsed": true
   },
   "outputs": [],
   "source": []
  },
  {
   "cell_type": "code",
   "execution_count": 16,
   "id": "18fe56c1",
   "metadata": {},
   "outputs": [
    {
     "name": "stdout",
     "output_type": "stream",
     "text": [
      "1164 673\n"
     ]
    }
   ],
   "source": [
    "(challenge_X, challenge_Y) = m.position() #CHALLENGE\n",
    "print(challenge_X, challenge_Y)"
   ]
  }
 ],
 "metadata": {
  "kernelspec": {
   "display_name": "Python 3 (ipykernel)",
   "language": "python",
   "name": "python3"
  },
  "language_info": {
   "codemirror_mode": {
    "name": "ipython",
    "version": 3
   },
   "file_extension": ".py",
   "mimetype": "text/x-python",
   "name": "python",
   "nbconvert_exporter": "python",
   "pygments_lexer": "ipython3",
   "version": "3.8.10"
  }
 },
 "nbformat": 4,
 "nbformat_minor": 5
}
