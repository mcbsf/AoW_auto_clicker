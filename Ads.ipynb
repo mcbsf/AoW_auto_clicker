{
 "cells": [
  {
   "cell_type": "code",
   "execution_count": 5,
   "metadata": {},
   "outputs": [],
   "source": [
    "from pymouse import PyMouse\n",
    "from pykeyboard import PyKeyboard\n",
    "import time\n",
    "import random\n",
    "\n",
    "from IPython.display import clear_output"
   ]
  },
  {
   "cell_type": "code",
   "execution_count": 6,
   "metadata": {},
   "outputs": [],
   "source": [
    "m = PyMouse()\n",
    "k = PyKeyboard()\n",
    "\n",
    "cbs = coord_by_step = None"
   ]
  },
  {
   "cell_type": "code",
   "execution_count": 29,
   "metadata": {},
   "outputs": [],
   "source": [
    "def get_step_coord(coord_by_step, step, aux = None):\n",
    "    #advertising will have lower random values to hit the \"X\"\n",
    "    \n",
    "    if(step == 'chests'):\n",
    "        print(\"#####@!#######\")\n",
    "        print(coord_by_step)\n",
    "        print()\n",
    "        print(step)\n",
    "        print(aux)\n",
    "        print()\n",
    "        print(coord_by_step[step])\n",
    "        answer = coord_by_step[step]['X'] + random.randint(0,3) - 1, coord_by_step[step]['Y'] + random.randint(0,3) - 1\n",
    "    \n",
    "    elif(step == 'troop' or step == 'hero'):\n",
    "        print(\"#####@!#######\")\n",
    "        print(coord_by_step)\n",
    "        print()\n",
    "        print(step)\n",
    "        print(aux)\n",
    "        print()\n",
    "        print(coord_by_step[step])\n",
    "        print(coord_by_step[step][aux])\n",
    "\n",
    "        print(coord_by_step[step][aux]['Y'])\n",
    "        answer = coord_by_step[step][aux]['X'] + random.randint(0,3) - 1, coord_by_step[step][aux]['Y'] + random.randint(0,3) - 1    \n",
    "    \n",
    "    else:\n",
    "        raise Exception(\"WTF MAN, WAKE UP!!!\")\n",
    "        \n",
    "    print(answer)\n",
    "    return answer"
   ]
  },
  {
   "cell_type": "code",
   "execution_count": 47,
   "metadata": {},
   "outputs": [],
   "source": [
    "#\"challenge_X, challenge_Y = 1253 ,  1832\\n\",\n",
    "    #\"fight_worse_X, fight_worse_Y = 1352 ,  1716\\n\",\n",
    "    #\"beggin_battle_X, beggin_battle_Y = 1254 ,  1807\\n\",\n",
    "    #\"next_battle_X, next_battle_Y = 1251 ,  1740\"\n",
    "#    1623 2147\n",
    "\n",
    "chest_add = {\n",
    "    'chests': {\n",
    "        'X': 1310,\n",
    "        'Y': 132\n",
    "    },\n",
    "    'troop': {\n",
    "        'open': {\n",
    "            'X': 1253,\n",
    "            'Y': 373\n",
    "        },\n",
    "        'ad': {\n",
    "            'X': 1269,\n",
    "            'Y': 343\n",
    "        },\n",
    "        'close': {\n",
    "            'X': 1333,\n",
    "            'Y': 90\n",
    "        }\n",
    "    },\n",
    "    'hero': {\n",
    "        'open': {\n",
    "            'X': 1253,\n",
    "            'Y': 566\n",
    "        },\n",
    "        'ad': {\n",
    "            'X': 1265,\n",
    "            'Y': 539\n",
    "        },\n",
    "        'close': {\n",
    "            'X': 1333,\n",
    "            'Y': 90\n",
    "        }\n",
    "    },\n",
    "    'claim':{\n",
    "        'X': 1162,\n",
    "        'Y': 615\n",
    "    }\n",
    "    \n",
    "}"
   ]
  },
  {
   "cell_type": "code",
   "execution_count": 48,
   "metadata": {},
   "outputs": [],
   "source": [
    "def speedChests(\n",
    "    rounds = 3,\n",
    "    chest_type = 'troop',\n",
    "    aux = 'ad'\n",
    "):\n",
    "    cbs = coord_by_step = chest_add\n",
    "    \n",
    "    #START\n",
    "    X, Y = get_step_coord(cbs, 'chests', 'ad')\n",
    "    m.click(X, Y, 1) \n",
    "    time.sleep(random.uniform(1,2))\n",
    "    print(\"ROUND 1\")\n",
    "    X, Y = get_step_coord(cbs, 'chests', 'ad')\n",
    "    m.click(X, Y, 1) \n",
    "    time.sleep(random.uniform(1,2))\n",
    "    for i in range(0, rounds):\n",
    "        \n",
    "        print(\"ROUND 1\")\n",
    "        #BATTLE\n",
    "        print('     Speeding ', chest_type)\n",
    "        \n",
    "\n",
    "        X, Y = get_step_coord(cbs, chest_type, 'ad')   \n",
    "        m.click(X, Y, 1) \n",
    "        time.sleep(35 + random.uniform(0,1))\n",
    "        \n",
    "        #CLOSE AD\n",
    "        X, Y = get_step_coord(cbs, chest_type, 'close')   \n",
    "        m.click(X, Y, 1) \n",
    "        time.sleep(5 + random.uniform(0,1))\n",
    "    m.click(1322, 196, 1)\n",
    "    time.sleep(2+ random.uniform(0,1))"
   ]
  },
  {
   "cell_type": "code",
   "execution_count": 50,
   "metadata": {},
   "outputs": [
    {
     "name": "stdout",
     "output_type": "stream",
     "text": [
      "#####@!#######\n",
      "{'chests': {'X': 1310, 'Y': 132}, 'troop': {'open': {'X': 1253, 'Y': 373}, 'ad': {'X': 1269, 'Y': 343}, 'close': {'X': 1333, 'Y': 90}}, 'hero': {'open': {'X': 1253, 'Y': 566}, 'ad': {'X': 1265, 'Y': 539}, 'close': {'X': 1333, 'Y': 90}}, 'claim': {'X': 1162, 'Y': 615}}\n",
      "\n",
      "chests\n",
      "ad\n",
      "\n",
      "{'X': 1310, 'Y': 132}\n",
      "(1312, 133)\n",
      "ROUND 1\n",
      "#####@!#######\n",
      "{'chests': {'X': 1310, 'Y': 132}, 'troop': {'open': {'X': 1253, 'Y': 373}, 'ad': {'X': 1269, 'Y': 343}, 'close': {'X': 1333, 'Y': 90}}, 'hero': {'open': {'X': 1253, 'Y': 566}, 'ad': {'X': 1265, 'Y': 539}, 'close': {'X': 1333, 'Y': 90}}, 'claim': {'X': 1162, 'Y': 615}}\n",
      "\n",
      "chests\n",
      "ad\n",
      "\n",
      "{'X': 1310, 'Y': 132}\n",
      "(1310, 132)\n",
      "ROUND 1\n",
      "     Speeding  hero\n",
      "#####@!#######\n",
      "{'chests': {'X': 1310, 'Y': 132}, 'troop': {'open': {'X': 1253, 'Y': 373}, 'ad': {'X': 1269, 'Y': 343}, 'close': {'X': 1333, 'Y': 90}}, 'hero': {'open': {'X': 1253, 'Y': 566}, 'ad': {'X': 1265, 'Y': 539}, 'close': {'X': 1333, 'Y': 90}}, 'claim': {'X': 1162, 'Y': 615}}\n",
      "\n",
      "hero\n",
      "ad\n",
      "\n",
      "{'open': {'X': 1253, 'Y': 566}, 'ad': {'X': 1265, 'Y': 539}, 'close': {'X': 1333, 'Y': 90}}\n",
      "{'X': 1265, 'Y': 539}\n",
      "539\n",
      "(1265, 541)\n",
      "#####@!#######\n",
      "{'chests': {'X': 1310, 'Y': 132}, 'troop': {'open': {'X': 1253, 'Y': 373}, 'ad': {'X': 1269, 'Y': 343}, 'close': {'X': 1333, 'Y': 90}}, 'hero': {'open': {'X': 1253, 'Y': 566}, 'ad': {'X': 1265, 'Y': 539}, 'close': {'X': 1333, 'Y': 90}}, 'claim': {'X': 1162, 'Y': 615}}\n",
      "\n",
      "hero\n",
      "close\n",
      "\n",
      "{'open': {'X': 1253, 'Y': 566}, 'ad': {'X': 1265, 'Y': 539}, 'close': {'X': 1333, 'Y': 90}}\n",
      "{'X': 1333, 'Y': 90}\n",
      "90\n",
      "(1333, 89)\n",
      "ROUND 1\n",
      "     Speeding  hero\n",
      "#####@!#######\n",
      "{'chests': {'X': 1310, 'Y': 132}, 'troop': {'open': {'X': 1253, 'Y': 373}, 'ad': {'X': 1269, 'Y': 343}, 'close': {'X': 1333, 'Y': 90}}, 'hero': {'open': {'X': 1253, 'Y': 566}, 'ad': {'X': 1265, 'Y': 539}, 'close': {'X': 1333, 'Y': 90}}, 'claim': {'X': 1162, 'Y': 615}}\n",
      "\n",
      "hero\n",
      "ad\n",
      "\n",
      "{'open': {'X': 1253, 'Y': 566}, 'ad': {'X': 1265, 'Y': 539}, 'close': {'X': 1333, 'Y': 90}}\n",
      "{'X': 1265, 'Y': 539}\n",
      "539\n",
      "(1266, 539)\n",
      "#####@!#######\n",
      "{'chests': {'X': 1310, 'Y': 132}, 'troop': {'open': {'X': 1253, 'Y': 373}, 'ad': {'X': 1269, 'Y': 343}, 'close': {'X': 1333, 'Y': 90}}, 'hero': {'open': {'X': 1253, 'Y': 566}, 'ad': {'X': 1265, 'Y': 539}, 'close': {'X': 1333, 'Y': 90}}, 'claim': {'X': 1162, 'Y': 615}}\n",
      "\n",
      "hero\n",
      "close\n",
      "\n",
      "{'open': {'X': 1253, 'Y': 566}, 'ad': {'X': 1265, 'Y': 539}, 'close': {'X': 1333, 'Y': 90}}\n",
      "{'X': 1333, 'Y': 90}\n",
      "90\n",
      "(1332, 92)\n"
     ]
    }
   ],
   "source": [
    "\n",
    "speedChests(rounds=2, chest_type='hero', aux='ad')"
   ]
  },
  {
   "cell_type": "code",
   "execution_count": 43,
   "metadata": {},
   "outputs": [
    {
     "name": "stdout",
     "output_type": "stream",
     "text": [
      "1333 90\n"
     ]
    }
   ],
   "source": [
    "(challenge_X, challenge_Y) = m.position() #CLOSE ADV\n",
    "print(challenge_X, challenge_Y)"
   ]
  },
  {
   "cell_type": "code",
   "execution_count": 44,
   "metadata": {},
   "outputs": [
    {
     "name": "stdout",
     "output_type": "stream",
     "text": [
      "1322 196\n"
     ]
    }
   ],
   "source": [
    "(challenge_X, challenge_Y) = m.position() #CLOSE CHESTS\n",
    "print(challenge_X, challenge_Y)"
   ]
  }
 ],
 "metadata": {
  "kernelspec": {
   "display_name": "Python 3",
   "language": "python",
   "name": "python3"
  },
  "language_info": {
   "codemirror_mode": {
    "name": "ipython",
    "version": 3
   },
   "file_extension": ".py",
   "mimetype": "text/x-python",
   "name": "python",
   "nbconvert_exporter": "python",
   "pygments_lexer": "ipython3",
   "version": "3.8.10"
  }
 },
 "nbformat": 4,
 "nbformat_minor": 5
}