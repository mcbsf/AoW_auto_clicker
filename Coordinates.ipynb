{
 "cells": [
  {
   "cell_type": "code",
   "execution_count": 1,
   "id": "fd7bc0b1",
   "metadata": {},
   "outputs": [],
   "source": [
    "def getCoordinates(stage=\"main\"):\n",
    "\n",
    "    main = {\n",
    "        'farmer': {\n",
    "            'X': 1253,\n",
    "            'Y': 1840,\n",
    "        },\n",
    "        'arena': {\n",
    "            'X': 1352,\n",
    "            'Y': 1725,\n",
    "        },\n",
    "        'territory': {\n",
    "            'X': 1352,\n",
    "            'Y': 1725,\n",
    "        },\n",
    "        'headhunt': {\n",
    "            'X': 1253,\n",
    "            'Y': 1840,\n",
    "        },\n",
    "        'hero_trial': {\n",
    "            'X': 1179,\n",
    "            'Y': 478\n",
    "        },\n",
    "        'exit': {\n",
    "            'X': 1179,\n",
    "            'Y': 478\n",
    "        },\n",
    "    }\n",
    "\n",
    "    return main"
   ]
  },
  {
   "cell_type": "code",
   "execution_count": 2,
   "id": "5de3e634",
   "metadata": {},
   "outputs": [
    {
     "data": {
      "text/plain": [
       "{'farmer': {'X': 1253, 'Y': 1840},\n",
       " 'arena': {'X': 1352, 'Y': 1725},\n",
       " 'territory': {'X': 1352, 'Y': 1725},\n",
       " 'headhunt': {'X': 1253, 'Y': 1840},\n",
       " 'hero_trial': {'X': 1179, 'Y': 478},\n",
       " 'exit': {'X': 1179, 'Y': 478}}"
      ]
     },
     "execution_count": 2,
     "metadata": {},
     "output_type": "execute_result"
    }
   ],
   "source": [
    "getCoordinates()"
   ]
  },
  {
   "cell_type": "code",
   "execution_count": null,
   "id": "b5a0f796",
   "metadata": {},
   "outputs": [],
   "source": [
    "def getStepCoord(coord_by_step, step, X_factor = 1, Y_factor = 1):\n",
    "    \n",
    "    return int(coord_by_step[step]['X']*X_factor) + random.randint(0,10) - 5, int(coord_by_step[step]['Y']*Y_factor) + random.randint(0,5) - 2\n",
    "    "
   ]
  }
 ],
 "metadata": {
  "kernelspec": {
   "display_name": "Python 3 (ipykernel)",
   "language": "python",
   "name": "python3"
  },
  "language_info": {
   "codemirror_mode": {
    "name": "ipython",
    "version": 3
   },
   "file_extension": ".py",
   "mimetype": "text/x-python",
   "name": "python",
   "nbconvert_exporter": "python",
   "pygments_lexer": "ipython3",
   "version": "3.10.1"
  }
 },
 "nbformat": 4,
 "nbformat_minor": 5
}
