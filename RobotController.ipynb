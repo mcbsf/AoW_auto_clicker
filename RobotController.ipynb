{
 "cells": [
  {
   "cell_type": "code",
   "execution_count": 1,
   "id": "3149fe9d",
   "metadata": {},
   "outputs": [
    {
     "name": "stdout",
     "output_type": "stream",
     "text": [
      "importing Jupyter notebook from BattleArena.ipynb\n",
      "importing Jupyter notebook from Farmer.ipynb\n"
     ]
    }
   ],
   "source": [
    "import import_ipynb\n",
    "import BattleArena as BA\n",
    "import Farmer as FA\n"
   ]
  },
  {
   "cell_type": "code",
   "execution_count": null,
   "id": "f3df1d01",
   "metadata": {},
   "outputs": [],
   "source": []
  },
  {
   "cell_type": "code",
   "execution_count": 2,
   "id": "e0710dcc",
   "metadata": {},
   "outputs": [],
   "source": [
    "#    1623 2147\n",
    "\n",
    "#592 184\n",
    "step_coordinates_by_computer = {\n",
    "    'work': {\n",
    "        'farmer': {\n",
    "            'X': 1253,\n",
    "            'Y': 1840,\n",
    "        },\n",
    "        'arena': {\n",
    "            'X': 1352,\n",
    "            'Y': 1725,\n",
    "        },\n",
    "        'territory': {\n",
    "            'X': 1352,\n",
    "            'Y': 1725,\n",
    "        },\n",
    "        'headhunt': {\n",
    "            'X': 1253,\n",
    "            'Y': 1840,\n",
    "        },\n",
    "        'hero_trial': {\n",
    "            'X': 1179,\n",
    "            'Y': 478\n",
    "        },\n",
    "        'exit': {\n",
    "            'X': 1179,\n",
    "            'Y': 478\n",
    "        },\n",
    "    },  \n",
    "}\n",
    "\n"
   ]
  },
  {
   "cell_type": "code",
   "execution_count": 3,
   "id": "67c0ffbd",
   "metadata": {},
   "outputs": [],
   "source": [
    "cbs = coord_by_step = step_coordinates_by_computer['work']\n"
   ]
  },
  {
   "cell_type": "code",
   "execution_count": 4,
   "id": "90619f9f",
   "metadata": {},
   "outputs": [],
   "source": [
    "def get_step_coord(coord_by_step, step, X_factor = 1, Y_factor = 1):\n",
    "    \n",
    "    return int(coord_by_step[step]['X']*X_factor) + random.randint(0,10) - 5, int(coord_by_step[step]['Y']*Y_factor) + random.randint(0,5) - 2\n",
    "    "
   ]
  },
  {
   "cell_type": "code",
   "execution_count": 5,
   "id": "c60673af",
   "metadata": {},
   "outputs": [],
   "source": [
    "territory_modules=['hero_trial', 'honor_hunting', 'headhunt']"
   ]
  },
  {
   "cell_type": "code",
   "execution_count": 6,
   "id": "1c65e6f9",
   "metadata": {},
   "outputs": [],
   "source": [
    "def goToModule(module):\n",
    "    if(module in territory_modules):\n",
    "        X, Y = get_step_coord(cbs, 'territory')\n",
    "        m.click(X, Y, 1) #START\n",
    "        time.sleep(random.uniform(1,2))\n",
    "    \n",
    "    X, Y = get_step_coord(cbs, module)\n",
    "    m.click(X, Y, 1) #START\n",
    "    time.sleep(random.uniform(1,2))"
   ]
  },
  {
   "cell_type": "code",
   "execution_count": 7,
   "id": "f0a7e8e1",
   "metadata": {},
   "outputs": [],
   "source": [
    "def exitModule():\n",
    "    X, Y = get_step_coord(cbs, 'territory')\n",
    "    m.click(X, Y, 2) #START"
   ]
  },
  {
   "cell_type": "code",
   "execution_count": 8,
   "id": "a8739e9a",
   "metadata": {},
   "outputs": [],
   "source": [
    "def runModule(module):\n",
    "    if(module == 'arena'):\n",
    "        BA.battle(\n",
    "            hero_trial = False,\n",
    "            start_time = 3,\n",
    "            battles = 10,\n",
    "            computer='work',\n",
    "            extra_battle = False\n",
    "        )\n",
    "    elif(module == 'hero_trial'):\n",
    "        BA.battle(\n",
    "            hero_trial = False,\n",
    "            start_time = 3,\n",
    "            battles = 10,\n",
    "            computer='work',\n",
    "            extra_battle = False\n",
    "        )\n",
    "    elif(module == 'headhunt'):\n",
    "        headHunt(\n",
    "            rounds=20,\n",
    "            start_time=3,\n",
    "            computer='work',\n",
    "            headhunt_type='hard'\n",
    "        )\n",
    "        headHunt(\n",
    "            rounds=20,\n",
    "            start_time=3,\n",
    "            computer='work',\n",
    "            headhunt_type='easy'\n",
    "        )\n",
    "    elif(module == 'farm'):\n",
    "        FA.farm(\n",
    "            rounds=1500,\n",
    "            start_time=2.5,\n",
    "            computer='work',\n",
    "        )\n",
    "    elif(module == 'farm'):\n",
    "        foo='bar'"
   ]
  },
  {
   "cell_type": "code",
   "execution_count": 9,
   "id": "2a5139b8",
   "metadata": {},
   "outputs": [],
   "source": [
    "modules_status = {\n",
    "    'arena': True,\n",
    "    'farm': True,\n",
    "    'headhunt': True,\n",
    "    'hero_trial': True,\n",
    "    'honor hunting': False,\n",
    "}"
   ]
  },
  {
   "cell_type": "code",
   "execution_count": 10,
   "id": "691b6629",
   "metadata": {},
   "outputs": [],
   "source": [
    "def runModules():\n",
    "    for module in modules_status:\n",
    "        if modules_status[module]:\n",
    "            goToModule(module)\n",
    "            runModule(module)\n",
    "            exitModule()"
   ]
  },
  {
   "cell_type": "code",
   "execution_count": null,
   "id": "fd9c14cc",
   "metadata": {},
   "outputs": [],
   "source": [
    "BA.battle(\n",
    "            hero_trial = False,\n",
    "            start_time = 3,\n",
    "            battles = 3,\n",
    "            computer='work',\n",
    "            extra_battle = False\n",
    "        )"
   ]
  },
  {
   "cell_type": "code",
   "execution_count": null,
   "id": "140a3c57",
   "metadata": {},
   "outputs": [],
   "source": [
    "BA.battle(\n",
    "            hero_trial = False,\n",
    "            start_time = 3,\n",
    "            battles = 20,\n",
    "            computer='work',\n",
    "            extra_battle = False\n",
    "        )"
   ]
  },
  {
   "cell_type": "code",
   "execution_count": 14,
   "id": "f56729c6",
   "metadata": {},
   "outputs": [
    {
     "name": "stdout",
     "output_type": "stream",
     "text": [
      "ROUND 67\n",
      "     Force battle and beggining\n"
     ]
    },
    {
     "ename": "KeyboardInterrupt",
     "evalue": "",
     "output_type": "error",
     "traceback": [
      "\u001b[0;31m---------------------------------------------------------------------------\u001b[0m",
      "\u001b[0;31mKeyboardInterrupt\u001b[0m                         Traceback (most recent call last)",
      "\u001b[0;32m/tmp/ipykernel_55062/3227669259.py\u001b[0m in \u001b[0;36m<module>\u001b[0;34m\u001b[0m\n\u001b[0;32m----> 1\u001b[0;31m FA.farm(\n\u001b[0m\u001b[1;32m      2\u001b[0m             \u001b[0mrounds\u001b[0m\u001b[0;34m=\u001b[0m\u001b[0;36m1500\u001b[0m\u001b[0;34m,\u001b[0m\u001b[0;34m\u001b[0m\u001b[0;34m\u001b[0m\u001b[0m\n\u001b[1;32m      3\u001b[0m             \u001b[0mstart_time\u001b[0m\u001b[0;34m=\u001b[0m\u001b[0;36m2.5\u001b[0m\u001b[0;34m,\u001b[0m\u001b[0;34m\u001b[0m\u001b[0;34m\u001b[0m\u001b[0m\n\u001b[1;32m      4\u001b[0m             \u001b[0mcomputer\u001b[0m\u001b[0;34m=\u001b[0m\u001b[0;34m'work'\u001b[0m\u001b[0;34m,\u001b[0m\u001b[0;34m\u001b[0m\u001b[0;34m\u001b[0m\u001b[0m\n\u001b[1;32m      5\u001b[0m         )\n",
      "\u001b[0;32m~/projects/AoW_auto_clicker/Farmer.ipynb\u001b[0m in \u001b[0;36mfarm\u001b[0;34m(rounds, start_time, computer)\u001b[0m\n",
      "\u001b[0;31mKeyboardInterrupt\u001b[0m: "
     ]
    }
   ],
   "source": [
    "FA.farm(\n",
    "            rounds=1500,\n",
    "            start_time=2.5,\n",
    "            computer='work',\n",
    "        )"
   ]
  },
  {
   "cell_type": "code",
   "execution_count": 12,
   "id": "6a73444a",
   "metadata": {
    "collapsed": true
   },
   "outputs": [],
   "source": [
    "FA.headHunt(\n",
    "            rounds=20,\n",
    "            start_time=3,\n",
    "            computer='work',\n",
    "            headhunt_type='hard'\n",
    "        )\n",
    "FA.headHunt(\n",
    "            rounds=20,\n",
    "            start_time=3,\n",
    "            computer='work',\n",
    "            headhunt_type='easy'\n",
    "        )"
   ]
  },
  {
   "cell_type": "code",
   "execution_count": null,
   "id": "6140c1e9",
   "metadata": {},
   "outputs": [],
   "source": []
  }
 ],
 "metadata": {
  "kernelspec": {
   "display_name": "Python 3 (ipykernel)",
   "language": "python",
   "name": "python3"
  },
  "language_info": {
   "codemirror_mode": {
    "name": "ipython",
    "version": 3
   },
   "file_extension": ".py",
   "mimetype": "text/x-python",
   "name": "python",
   "nbconvert_exporter": "python",
   "pygments_lexer": "ipython3",
   "version": "3.8.10"
  }
 },
 "nbformat": 4,
 "nbformat_minor": 5
}
