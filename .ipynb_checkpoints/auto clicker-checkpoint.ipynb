{
 "cells": [
  {
   "cell_type": "code",
   "execution_count": 2,
   "id": "3274dcad",
   "metadata": {},
   "outputs": [],
   "source": [
    "from pymouse import PyMouse\n",
    "from pykeyboard import PyKeyboard\n",
    "import time\n",
    "import random"
   ]
  },
  {
   "cell_type": "code",
   "execution_count": 3,
   "id": "fd7d6ba4",
   "metadata": {},
   "outputs": [],
   "source": [
    "m = PyMouse()\n",
    "k = PyKeyboard()"
   ]
  },
  {
   "cell_type": "code",
   "execution_count": 6,
   "id": "5dc0c055",
   "metadata": {},
   "outputs": [],
   "source": [
    "x_dim, y_dim = m.screen_size()"
   ]
  },
  {
   "cell_type": "code",
   "execution_count": 7,
   "id": "2aa0d63c",
   "metadata": {},
   "outputs": [
    {
     "name": "stdout",
     "output_type": "stream",
     "text": [
      "1746 2100\n"
     ]
    }
   ],
   "source": [
    "print(x_dim, y_dim)"
   ]
  },
  {
   "cell_type": "code",
   "execution_count": null,
   "id": "9d178e39",
   "metadata": {},
   "outputs": [],
   "source": []
  },
  {
   "cell_type": "code",
   "execution_count": 33,
   "id": "a9f23e04",
   "metadata": {},
   "outputs": [
    {
     "data": {
      "text/plain": [
       "(1558, 1985)"
      ]
     },
     "execution_count": 33,
     "metadata": {},
     "output_type": "execute_result"
    }
   ],
   "source": [
    "m.position() #START\n",
    "time.sleep(2)\n",
    "m.position() #BATTLE"
   ]
  },
  {
   "cell_type": "code",
   "execution_count": 4,
   "id": "345aadb4",
   "metadata": {},
   "outputs": [
    {
     "data": {
      "text/plain": [
       "(1133, 1817)"
      ]
     },
     "execution_count": 4,
     "metadata": {},
     "output_type": "execute_result"
    }
   ],
   "source": [
    "m.position() #START"
   ]
  },
  {
   "cell_type": "code",
   "execution_count": 9,
   "id": "b653a0f2",
   "metadata": {},
   "outputs": [
    {
     "data": {
      "text/plain": [
       "(1263, 1382)"
      ]
     },
     "execution_count": 9,
     "metadata": {},
     "output_type": "execute_result"
    }
   ],
   "source": [
    "m.position() #NEXT"
   ]
  },
  {
   "cell_type": "code",
   "execution_count": null,
   "id": "e8471f89",
   "metadata": {},
   "outputs": [],
   "source": []
  },
  {
   "cell_type": "code",
   "execution_count": 49,
   "id": "76d05d27",
   "metadata": {},
   "outputs": [],
   "source": []
  },
  {
   "cell_type": "code",
   "execution_count": 95,
   "id": "efc9f160",
   "metadata": {},
   "outputs": [
    {
     "data": {
      "text/plain": [
       "0"
      ]
     },
     "execution_count": 95,
     "metadata": {},
     "output_type": "execute_result"
    }
   ],
   "source": [
    "random.uniform(0,3)"
   ]
  },
  {
   "cell_type": "code",
   "execution_count": null,
   "id": "69d2947f",
   "metadata": {},
   "outputs": [],
   "source": [
    "random.i"
   ]
  },
  {
   "cell_type": "code",
   "execution_count": 5,
   "id": "4307cfd7",
   "metadata": {},
   "outputs": [],
   "source": [
    "start_X = 1133\n",
    "start_Y = 1810\n",
    "start_time = 2\n",
    "\n",
    "random_X = 0\n",
    "random_y = 0\n",
    "random_time = 0"
   ]
  },
  {
   "cell_type": "code",
   "execution_count": 6,
   "id": "d8b5294d",
   "metadata": {},
   "outputs": [
    {
     "data": {
      "text/plain": [
       "1"
      ]
     },
     "execution_count": 6,
     "metadata": {},
     "output_type": "execute_result"
    }
   ],
   "source": [
    "random.randint(0,1)"
   ]
  },
  {
   "cell_type": "code",
   "execution_count": 7,
   "id": "38e0e543",
   "metadata": {},
   "outputs": [],
   "source": [
    "if(0): \n",
    "    print('hey')"
   ]
  },
  {
   "cell_type": "code",
   "execution_count": 10,
   "id": "c5f158e0",
   "metadata": {},
   "outputs": [
    {
     "ename": "KeyboardInterrupt",
     "evalue": "",
     "output_type": "error",
     "traceback": [
      "\u001b[0;31m---------------------------------------------------------------------------\u001b[0m",
      "\u001b[0;31mKeyboardInterrupt\u001b[0m                         Traceback (most recent call last)",
      "\u001b[0;32m/tmp/ipykernel_28333/1410989920.py\u001b[0m in \u001b[0;36m<module>\u001b[0;34m\u001b[0m\n\u001b[1;32m     16\u001b[0m \u001b[0;34m\u001b[0m\u001b[0m\n\u001b[1;32m     17\u001b[0m     \u001b[0mm\u001b[0m\u001b[0;34m.\u001b[0m\u001b[0mclick\u001b[0m\u001b[0;34m(\u001b[0m\u001b[0mstart_X\u001b[0m \u001b[0;34m+\u001b[0m \u001b[0mrandom\u001b[0m\u001b[0;34m.\u001b[0m\u001b[0mrandint\u001b[0m\u001b[0;34m(\u001b[0m\u001b[0;36m0\u001b[0m\u001b[0;34m,\u001b[0m\u001b[0;36m10\u001b[0m\u001b[0;34m)\u001b[0m \u001b[0;34m-\u001b[0m \u001b[0;36m5\u001b[0m\u001b[0;34m,\u001b[0m \u001b[0mstart_Y\u001b[0m \u001b[0;34m+\u001b[0m \u001b[0mrandom\u001b[0m\u001b[0;34m.\u001b[0m\u001b[0mrandint\u001b[0m\u001b[0;34m(\u001b[0m\u001b[0;36m0\u001b[0m\u001b[0;34m,\u001b[0m\u001b[0;36m5\u001b[0m\u001b[0;34m)\u001b[0m \u001b[0;34m-\u001b[0m \u001b[0;36m2\u001b[0m\u001b[0;34m,\u001b[0m \u001b[0;36m1\u001b[0m\u001b[0;34m,\u001b[0m \u001b[0;36m1\u001b[0m\u001b[0;34m)\u001b[0m \u001b[0;31m#BEGGIN BATTLE\u001b[0m\u001b[0;34m\u001b[0m\u001b[0;34m\u001b[0m\u001b[0m\n\u001b[0;32m---> 18\u001b[0;31m     \u001b[0mtime\u001b[0m\u001b[0;34m.\u001b[0m\u001b[0msleep\u001b[0m\u001b[0;34m(\u001b[0m\u001b[0;36m15\u001b[0m \u001b[0;34m+\u001b[0m \u001b[0mrandom\u001b[0m\u001b[0;34m.\u001b[0m\u001b[0muniform\u001b[0m\u001b[0;34m(\u001b[0m\u001b[0;36m0\u001b[0m\u001b[0;34m,\u001b[0m\u001b[0;36m2\u001b[0m\u001b[0;34m)\u001b[0m\u001b[0;34m)\u001b[0m\u001b[0;34m\u001b[0m\u001b[0;34m\u001b[0m\u001b[0m\n\u001b[0m\u001b[1;32m     19\u001b[0m \u001b[0;34m\u001b[0m\u001b[0m\n\u001b[1;32m     20\u001b[0m     \u001b[0mm\u001b[0m\u001b[0;34m.\u001b[0m\u001b[0mclick\u001b[0m\u001b[0;34m(\u001b[0m\u001b[0;36m1262\u001b[0m\u001b[0;34m+\u001b[0m \u001b[0mrandom\u001b[0m\u001b[0;34m.\u001b[0m\u001b[0mrandint\u001b[0m\u001b[0;34m(\u001b[0m\u001b[0;36m1\u001b[0m\u001b[0;34m,\u001b[0m\u001b[0;36m2\u001b[0m\u001b[0;34m)\u001b[0m \u001b[0;34m-\u001b[0m \u001b[0;36m5\u001b[0m\u001b[0;34m,\u001b[0m \u001b[0;36m1381\u001b[0m \u001b[0;34m+\u001b[0m \u001b[0mrandom\u001b[0m\u001b[0;34m.\u001b[0m\u001b[0mrandint\u001b[0m\u001b[0;34m(\u001b[0m\u001b[0;36m1\u001b[0m\u001b[0;34m,\u001b[0m\u001b[0;36m2\u001b[0m\u001b[0;34m)\u001b[0m \u001b[0;34m-\u001b[0m \u001b[0;36m2\u001b[0m\u001b[0;34m,\u001b[0m \u001b[0;36m1\u001b[0m\u001b[0;34m)\u001b[0m\u001b[0;31m#CLOSE PROPAGANDA\u001b[0m\u001b[0;34m\u001b[0m\u001b[0;34m\u001b[0m\u001b[0m\n",
      "\u001b[0;31mKeyboardInterrupt\u001b[0m: "
     ]
    }
   ],
   "source": [
    "time.sleep(1.532131)\n",
    "m.click(start_X + random.randint(0,10) - 5, start_Y + random.randint(0,5) - 2, 1) #START\n",
    "time.sleep(start_time + random.uniform(0,2))\n",
    "\n",
    "\n",
    "while(True):\n",
    "    m.click(start_X + random.randint(0,10) - 5, start_Y + random.randint(0,5) - 2, 1) #BATTLE\n",
    "    time.sleep(1+ random.uniform(0,1))\n",
    "    \n",
    "    m.click(start_X + random.randint(0,10) - 5, start_Y + random.randint(0,5) - 2, 1) #BATTLE\n",
    "    time.sleep(1+ random.uniform(0,1))\n",
    "    \n",
    "    m.click(start_X + random.randint(0,10) - 5, start_Y + random.randint(0,5) - 2, 1) #BATTLE\n",
    "    time.sleep(1+ random.uniform(0,1))\n",
    "    \n",
    "\n",
    "    m.click(start_X + random.randint(0,10) - 5, start_Y + random.randint(0,5) - 2, 1, 1) #BEGGIN BATTLE\n",
    "    time.sleep(15 + random.uniform(0,2))\n",
    "\n",
    "    m.click(1262+ random.randint(1,2) - 5, 1381 + random.randint(1,2) - 2, 1)#CLOSE PROPAGANDA\n",
    "    time.sleep(1+ random.uniform(0,1))\n",
    "    \n",
    "    \n",
    "    m.click(1213+ random.randint(0,10) - 5, 1643 + random.randint(0,5) - 2, 1) #NEXT\n",
    "    if(random.randint(0,3)):\n",
    "        (1263, 1382)\n",
    "        time.sleep(start_time+ random.uniform(0,0.2))\n",
    "        m.click(1213+ random.randint(0,10) - 5, 1643 + random.randint(0,5) - 2, 1) #NEXT\n",
    "        time.sleep(start_time+ random.uniform(0,2))"
   ]
  },
  {
   "cell_type": "code",
   "execution_count": 103,
   "id": "8a64b293",
   "metadata": {},
   "outputs": [],
   "source": []
  },
  {
   "cell_type": "code",
   "execution_count": null,
   "id": "209737f6",
   "metadata": {},
   "outputs": [],
   "source": [
    "\n",
    "time.sleep(2)\n",
    "m.click(1615, 1803, 1)"
   ]
  },
  {
   "cell_type": "code",
   "execution_count": 32,
   "id": "038fd6fa",
   "metadata": {},
   "outputs": [
    {
     "data": {
      "text/plain": [
       "'x:1713 y:910 screen:0 window:62914582\\n'"
      ]
     },
     "execution_count": 32,
     "metadata": {},
     "output_type": "execute_result"
    }
   ],
   "source": [
    "\n",
    "#start battle\n",
    "out = subprocess.run([\"xdotool\", \"getmouselocation\"], capture_output=True)\n",
    "\n",
    "out.stdout.decode(\"utf-8\")"
   ]
  },
  {
   "cell_type": "code",
   "execution_count": 33,
   "id": "bd295230",
   "metadata": {},
   "outputs": [
    {
     "data": {
      "text/plain": [
       "'x:1766 y:678 screen:0 window:62914582\\n'"
      ]
     },
     "execution_count": 33,
     "metadata": {},
     "output_type": "execute_result"
    }
   ],
   "source": [
    "\n",
    "#next battle\n",
    "out = subprocess.run([\"xdotool\", \"getmouselocation\"], capture_output=True)\n",
    "\n",
    "out.stdout.decode(\"utf-8\")"
   ]
  },
  {
   "cell_type": "code",
   "execution_count": null,
   "id": "e8e81a34",
   "metadata": {},
   "outputs": [],
   "source": [
    "\n",
    "\n",
    "out = subprocess.run([\"xdotool\", \"getmouselocation\"], capture_output=True)\n",
    "\n",
    "out.stdout.decode(\"utf-8\")"
   ]
  },
  {
   "cell_type": "code",
   "execution_count": null,
   "id": "278554ef",
   "metadata": {},
   "outputs": [],
   "source": [
    "\n",
    "\n",
    "out = subprocess.run([\"xdotool\", \"getmouselocation\"], capture_output=True)\n",
    "\n",
    "out.stdout.decode(\"utf-8\")"
   ]
  },
  {
   "cell_type": "code",
   "execution_count": null,
   "id": "19e3050f",
   "metadata": {},
   "outputs": [],
   "source": [
    "\n",
    "\n",
    "out = subprocess.run([\"xdotool\", \"getmouselocation\"], capture_output=True)\n",
    "\n",
    "out.stdout.decode(\"utf-8\")"
   ]
  },
  {
   "cell_type": "code",
   "execution_count": 2,
   "id": "e45021d2",
   "metadata": {},
   "outputs": [
    {
     "name": "stdout",
     "output_type": "stream",
     "text": [
      "hello\n",
      "0.0003705024719238281\n"
     ]
    }
   ],
   "source": [
    "\n",
    "start = time.time()\n",
    "print(\"hello\")\n",
    "end = time.time()\n",
    "print(end - start)"
   ]
  },
  {
   "cell_type": "code",
   "execution_count": 19,
   "id": "4795922e",
   "metadata": {},
   "outputs": [],
   "source": [
    "start = time.time()"
   ]
  },
  {
   "cell_type": "code",
   "execution_count": 20,
   "id": "691bd895",
   "metadata": {},
   "outputs": [
    {
     "name": "stdout",
     "output_type": "stream",
     "text": [
      "11.243063926696777\n"
     ]
    }
   ],
   "source": [
    "end = time.time()\n",
    "final = end - start\n",
    "print(end - start)"
   ]
  },
  {
   "cell_type": "code",
   "execution_count": 51,
   "id": "281d818f",
   "metadata": {},
   "outputs": [
    {
     "data": {
      "text/plain": [
       "3"
      ]
     },
     "execution_count": 51,
     "metadata": {},
     "output_type": "execute_result"
    }
   ],
   "source": [
    "int(final)"
   ]
  },
  {
   "cell_type": "code",
   "execution_count": 3,
   "id": "784e1812",
   "metadata": {},
   "outputs": [],
   "source": [
    "\n",
    "out2 = subprocess.run(['sleep', '0.2', '&&', 'xdotool', 'mousemove', '1708', '901'], capture_output=True)\n",
    "time.sleep(2)\n",
    "out2 = subprocess.run(['sleep', '0.2', '&&','xdotool', 'click','--clearmodifiers', '1'], capture_output=True)\n"
   ]
  },
  {
   "cell_type": "code",
   "execution_count": 18,
   "id": "8c6877f4",
   "metadata": {},
   "outputs": [],
   "source": [
    "time.sleep(2)\n",
    "out2 = subprocess.run(['xdotool', 'mousemove', '1706', '895', 'click', '--clearmodifiers', '2'], capture_output=False)\n",
    "time.sleep(2)\n",
    "out2 = subprocess.run(['xdotool', 'click', '--clearmodifiers', '2'], capture_output=False)"
   ]
  },
  {
   "cell_type": "code",
   "execution_count": 16,
   "id": "5fd6efa4",
   "metadata": {},
   "outputs": [],
   "source": [
    "time.sleep(2)\n",
    "out2 = subprocess.run(['xdotool', 'click', '--clearmodifiers', '3'], capture_output=False)\n",
    "time.sleep(2)\n",
    "out2 = subprocess.run(['xdotool', 'mousemove', '1706', '895', 'click', '--clearmodifiers', '3'], capture_output=False)"
   ]
  },
  {
   "cell_type": "code",
   "execution_count": null,
   "id": "10685663",
   "metadata": {},
   "outputs": [],
   "source": []
  }
 ],
 "metadata": {
  "kernelspec": {
   "display_name": "Python 3",
   "language": "python",
   "name": "python3"
  },
  "language_info": {
   "codemirror_mode": {
    "name": "ipython",
    "version": 3
   },
   "file_extension": ".py",
   "mimetype": "text/x-python",
   "name": "python",
   "nbconvert_exporter": "python",
   "pygments_lexer": "ipython3",
   "version": "3.8.10"
  }
 },
 "nbformat": 4,
 "nbformat_minor": 5
}
