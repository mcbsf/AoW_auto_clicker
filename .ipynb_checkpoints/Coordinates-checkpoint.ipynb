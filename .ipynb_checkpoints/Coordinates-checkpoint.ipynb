{
 "cells": [
  {
   "cell_type": "code",
   "execution_count": 1,
   "id": "2855235a",
   "metadata": {},
   "outputs": [],
   "source": [
    "def getCoordinates(stage=\"main\"):\n",
    "\n",
    "    main = {\n",
    "        'farmer': {\n",
    "            'X': 1253,\n",
    "            'Y': 1840,\n",
    "        },\n",
    "        'arena': {\n",
    "            'X': 1352,\n",
    "            'Y': 1725,\n",
    "        },\n",
    "        'territory': {\n",
    "            'X': 1352,\n",
    "            'Y': 1725,\n",
    "        },\n",
    "        'headhunt': {\n",
    "            'X': 1253,\n",
    "            'Y': 1840,\n",
    "        },\n",
    "        'hero_trial': {\n",
    "            'X': 1179,\n",
    "            'Y': 478\n",
    "        },\n",
    "        'exit': {\n",
    "            'X': 1179,\n",
    "            'Y': 478\n",
    "        },\n",
    "    }\n",
    "\n",
    "    return main"
   ]
  },
  {
   "cell_type": "code",
   "execution_count": null,
   "id": "ca4cb9af",
   "metadata": {},
   "outputs": [],
   "source": []
  }
 ],
 "metadata": {
  "kernelspec": {
   "display_name": "Python 3 (ipykernel)",
   "language": "python",
   "name": "python3"
  },
  "language_info": {
   "codemirror_mode": {
    "name": "ipython",
    "version": 3
   },
   "file_extension": ".py",
   "mimetype": "text/x-python",
   "name": "python",
   "nbconvert_exporter": "python",
   "pygments_lexer": "ipython3",
   "version": "3.10.1"
  }
 },
 "nbformat": 4,
 "nbformat_minor": 5
}
