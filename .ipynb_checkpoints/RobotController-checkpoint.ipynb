{
 "cells": [
  {
   "cell_type": "code",
   "execution_count": null,
   "id": "75c9658f",
   "metadata": {},
   "outputs": [],
   "source": [
    "import import_ipynb\n",
    "import BattleArena as BA\n",
    "import Farmer as FA\n"
   ]
  },
  {
   "cell_type": "code",
   "execution_count": null,
   "id": "027bcf32",
   "metadata": {},
   "outputs": [],
   "source": []
  },
  {
   "cell_type": "code",
   "execution_count": null,
   "id": "159996a4",
   "metadata": {},
   "outputs": [],
   "source": [
    "#    1623 2147\n",
    "\n",
    "#592 184\n",
    "coordinates_screens_computer = {\n",
    "    'work': {\n",
    "        'farmer': {\n",
    "            'X': 1253,\n",
    "            'Y': 1840,\n",
    "        },\n",
    "        'arena': {\n",
    "            'X': 1352,\n",
    "            'Y': 1725,\n",
    "        },\n",
    "        'territory': {\n",
    "            'X': 1352,\n",
    "            'Y': 1725,\n",
    "        },\n",
    "        'headhunt': {\n",
    "            'X': 1253,\n",
    "            'Y': 1840,\n",
    "        },\n",
    "        'hero_trial': {\n",
    "            'X': 1179,\n",
    "            'Y': 478\n",
    "        },\n",
    "        'exit': {\n",
    "            'X': 1179,\n",
    "            'Y': 478\n",
    "        },\n",
    "    },  \n",
    "}\n",
    "\n"
   ]
  },
  {
   "cell_type": "code",
   "execution_count": null,
   "id": "35cbf43c",
   "metadata": {},
   "outputs": [],
   "source": [
    "cbs = coord_by_step = coordinates_by_step_by_computer[computer][screens]\n"
   ]
  },
  {
   "cell_type": "code",
   "execution_count": null,
   "id": "5e27d371",
   "metadata": {},
   "outputs": [],
   "source": [
    "def get_step_coord(coord_by_step, step, X_factor = 1, Y_factor = 1):\n",
    "    \n",
    "    return int(coord_by_step[step]['X']*X_factor) + random.randint(0,10) - 5, int(coord_by_step[step]['Y']*Y_factor) + random.randint(0,5) - 2\n",
    "    "
   ]
  },
  {
   "cell_type": "code",
   "execution_count": 2,
   "id": "b30a82f3",
   "metadata": {},
   "outputs": [],
   "source": [
    "territory_modules=['hero_trial', 'honor_hunting', 'headhunt']"
   ]
  },
  {
   "cell_type": "code",
   "execution_count": null,
   "id": "894569a3",
   "metadata": {},
   "outputs": [],
   "source": [
    "def goToModule(module):\n",
    "    if(module in territory_modules):\n",
    "        X, Y = get_step_coord(cbs, 'territory')\n",
    "        m.click(X, Y, 1) #START\n",
    "        time.sleep(random.uniform(1,2))\n",
    "    \n",
    "    X, Y = get_step_coord(cbs, module)\n",
    "    m.click(X, Y, 1) #START\n",
    "    time.sleep(random.uniform(1,2))"
   ]
  },
  {
   "cell_type": "code",
   "execution_count": null,
   "id": "80d622bd",
   "metadata": {},
   "outputs": [],
   "source": [
    "def exitModule():\n",
    "    X, Y = get_step_coord(cbs, 'territory')\n",
    "    m.click(X, Y, 2) #START"
   ]
  },
  {
   "cell_type": "code",
   "execution_count": null,
   "id": "41fb5f2a",
   "metadata": {},
   "outputs": [],
   "source": [
    "def runModule(module):\n",
    "    if(module == 'arena'):\n",
    "        BA.battle(\n",
    "            hero_trial = False,\n",
    "            start_time = 3,\n",
    "            battles = 10,\n",
    "            computer='work',\n",
    "            screens=1,\n",
    "            extra_battle = False\n",
    "        )\n",
    "    elif(module == 'hero_trial'):\n",
    "        BA.battle(\n",
    "            hero_trial = False,\n",
    "            start_time = 3,\n",
    "            battles = 10,\n",
    "            computer='work',\n",
    "            screens=1,\n",
    "            extra_battle = False\n",
    "        )\n",
    "    elif(module == 'headhunt'):\n",
    "        headHunt(\n",
    "            rounds=20,\n",
    "            start_time=3,\n",
    "            computer='work',\n",
    "            screens=1,\n",
    "            headhunt_type='hard'\n",
    "        )\n",
    "        headHunt(\n",
    "            rounds=20,\n",
    "            start_time=3,\n",
    "            computer='work',\n",
    "            screens=1,\n",
    "            headhunt_type='easy'\n",
    "        )\n",
    "    elif(module == 'farm'):\n",
    "        farm(\n",
    "            rounds=1500,\n",
    "            start_time=2.5,\n",
    "            computer='work',\n",
    "            screens=1\n",
    "        )\n",
    "    elif(module == 'farm'):"
   ]
  },
  {
   "cell_type": "code",
   "execution_count": 3,
   "id": "3d2e04cf",
   "metadata": {},
   "outputs": [],
   "source": [
    "modules_status = {\n",
    "    'arena': True,\n",
    "    'farm': True,\n",
    "    'headhunt': True,\n",
    "    'hero_trial': True,\n",
    "    'honor hunting': False,\n",
    "}"
   ]
  },
  {
   "cell_type": "code",
   "execution_count": null,
   "id": "50cedd92",
   "metadata": {},
   "outputs": [],
   "source": [
    "def runModules():\n",
    "    for module in modules_status:\n",
    "        if modules_status[module]:\n",
    "            goToModule(module)\n",
    "            runModule(module)\n",
    "            exitModule()"
   ]
  }
 ],
 "metadata": {
  "kernelspec": {
   "display_name": "Python 3 (ipykernel)",
   "language": "python",
   "name": "python3"
  },
  "language_info": {
   "codemirror_mode": {
    "name": "ipython",
    "version": 3
   },
   "file_extension": ".py",
   "mimetype": "text/x-python",
   "name": "python",
   "nbconvert_exporter": "python",
   "pygments_lexer": "ipython3",
   "version": "3.8.10"
  }
 },
 "nbformat": 4,
 "nbformat_minor": 5
}
