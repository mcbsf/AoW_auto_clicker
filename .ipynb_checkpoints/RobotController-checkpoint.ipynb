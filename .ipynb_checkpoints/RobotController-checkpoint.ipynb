{
 "cells": [
  {
   "cell_type": "code",
   "execution_count": 7,
   "id": "4e879764",
   "metadata": {},
   "outputs": [],
   "source": [
    "import import_ipynb\n",
    "import BattleArena as BA\n",
    "import Farmer as FA\n",
    "import Coordinates as CO"
   ]
  },
  {
   "cell_type": "code",
   "execution_count": null,
   "id": "c9a1f882",
   "metadata": {},
   "outputs": [],
   "source": []
  },
  {
   "cell_type": "code",
   "execution_count": 10,
   "id": "8554cfcf",
   "metadata": {},
   "outputs": [
    {
     "ename": "AttributeError",
     "evalue": "module 'Coordinates' has no attribute 'getCoordinates'",
     "output_type": "error",
     "traceback": [
      "\u001b[1;31m---------------------------------------------------------------------------\u001b[0m",
      "\u001b[1;31mAttributeError\u001b[0m                            Traceback (most recent call last)",
      "\u001b[1;32m~\\AppData\\Local\\Temp/ipykernel_13188/1555835894.py\u001b[0m in \u001b[0;36m<module>\u001b[1;34m\u001b[0m\n\u001b[0;32m      3\u001b[0m \u001b[1;31m#592 184\u001b[0m\u001b[1;33m\u001b[0m\u001b[1;33m\u001b[0m\u001b[0m\n\u001b[0;32m      4\u001b[0m step_coordinates_by_computer = {\n\u001b[1;32m----> 5\u001b[1;33m     \u001b[1;34m'work'\u001b[0m\u001b[1;33m:\u001b[0m \u001b[0mCO\u001b[0m\u001b[1;33m.\u001b[0m\u001b[0mgetCoordinates\u001b[0m\u001b[1;33m(\u001b[0m\u001b[0mstage\u001b[0m\u001b[1;33m=\u001b[0m\u001b[1;34m'main'\u001b[0m\u001b[1;33m)\u001b[0m\u001b[1;33m\u001b[0m\u001b[1;33m\u001b[0m\u001b[0m\n\u001b[0m\u001b[0;32m      6\u001b[0m }\n\u001b[0;32m      7\u001b[0m \u001b[1;33m\u001b[0m\u001b[0m\n",
      "\u001b[1;31mAttributeError\u001b[0m: module 'Coordinates' has no attribute 'getCoordinates'"
     ]
    }
   ],
   "source": [
    "#    1623 2147\n",
    "\n",
    "#592 184\n",
    "step_coordinates_by_computer = {\n",
    "    'work': CO.getCoordinates(stage='main')  \n",
    "}\n",
    "\n"
   ]
  },
  {
   "cell_type": "code",
   "execution_count": 3,
   "id": "6d450b35",
   "metadata": {},
   "outputs": [],
   "source": [
    "cbs = coord_by_step = step_coordinates_by_computer['work']\n"
   ]
  },
  {
   "cell_type": "code",
   "execution_count": 4,
   "id": "ecca618d",
   "metadata": {},
   "outputs": [],
   "source": [
    "def get_step_coord(coord_by_step, step, X_factor = 1, Y_factor = 1):\n",
    "    \n",
    "    return int(coord_by_step[step]['X']*X_factor) + random.randint(0,10) - 5, int(coord_by_step[step]['Y']*Y_factor) + random.randint(0,5) - 2\n",
    "    "
   ]
  },
  {
   "cell_type": "code",
   "execution_count": 5,
   "id": "36388664",
   "metadata": {},
   "outputs": [],
   "source": [
    "territory_modules=['hero_trial', 'honor_hunting', 'headhunt']"
   ]
  },
  {
   "cell_type": "code",
   "execution_count": 6,
   "id": "3a864ba7",
   "metadata": {},
   "outputs": [],
   "source": [
    "def goToModule(module):\n",
    "    if(module in territory_modules):\n",
    "        X, Y = get_step_coord(cbs, 'territory')\n",
    "        m.click(X, Y, 1) #START\n",
    "        time.sleep(random.uniform(1,2))\n",
    "    \n",
    "    X, Y = get_step_coord(cbs, module)\n",
    "    m.click(X, Y, 1) #START\n",
    "    time.sleep(random.uniform(1,2))"
   ]
  },
  {
   "cell_type": "code",
   "execution_count": 7,
   "id": "a341bf6d",
   "metadata": {},
   "outputs": [],
   "source": [
    "def exitModule():\n",
    "    X, Y = get_step_coord(cbs, 'territory')\n",
    "    m.click(X, Y, 2) #START"
   ]
  },
  {
   "cell_type": "code",
   "execution_count": 8,
   "id": "99d03f58",
   "metadata": {},
   "outputs": [],
   "source": [
    "def runModule(module):\n",
    "    if(module == 'arena'):\n",
    "        BA.battle(\n",
    "            hero_trial = False,\n",
    "            start_time = 3,\n",
    "            battles = 10,\n",
    "            computer='work',\n",
    "            extra_battle = False\n",
    "        )\n",
    "    elif(module == 'hero_trial'):\n",
    "        BA.battle(\n",
    "            hero_trial = False,\n",
    "            start_time = 3,\n",
    "            battles = 10,\n",
    "            computer='work',\n",
    "            extra_battle = False\n",
    "        )\n",
    "    elif(module == 'headhunt'):\n",
    "        headHunt(\n",
    "            rounds=20,\n",
    "            start_time=3,\n",
    "            computer='work',\n",
    "            headhunt_type='hard'\n",
    "        )\n",
    "        headHunt(\n",
    "            rounds=20,\n",
    "            start_time=3,\n",
    "            computer='work',\n",
    "            headhunt_type='easy'\n",
    "        )\n",
    "    elif(module == 'farm'):\n",
    "        FA.farm(\n",
    "            rounds=1500,\n",
    "            start_time=2.5,\n",
    "            computer='work',\n",
    "        )\n",
    "    elif(module == 'farm'):\n",
    "        foo='bar'"
   ]
  },
  {
   "cell_type": "code",
   "execution_count": 9,
   "id": "46d72d03",
   "metadata": {},
   "outputs": [],
   "source": [
    "modules_status = {\n",
    "    'arena': True,\n",
    "    'farm': True,\n",
    "    'headhunt': True,\n",
    "    'hero_trial': True,\n",
    "    'honor hunting': False,\n",
    "}"
   ]
  },
  {
   "cell_type": "code",
   "execution_count": 10,
   "id": "7f631107",
   "metadata": {},
   "outputs": [],
   "source": [
    "def runModules():\n",
    "    for module in modules_status:\n",
    "        if modules_status[module]:\n",
    "            goToModule(module)\n",
    "            runModule(module)\n",
    "            exitModule()"
   ]
  },
  {
   "cell_type": "code",
   "execution_count": 17,
   "id": "4880c1df",
   "metadata": {
    "scrolled": true
   },
   "outputs": [],
   "source": [
    "BA.battle(\n",
    "            hero_trial = False,\n",
    "            start_time = 3,\n",
    "            battles = 7,\n",
    "            computer='work',\n",
    "            extra_battle = False\n",
    "        )"
   ]
  },
  {
   "cell_type": "code",
   "execution_count": 12,
   "id": "70d97aef",
   "metadata": {},
   "outputs": [],
   "source": [
    "BA.battle(\n",
    "            hero_trial = False,\n",
    "            start_time = 3,\n",
    "            battles = 5,\n",
    "            computer='work',\n",
    "            extra_battle = True\n",
    "        )"
   ]
  },
  {
   "cell_type": "code",
   "execution_count": null,
   "id": "cc757980",
   "metadata": {},
   "outputs": [],
   "source": [
    "BA.battle(\n",
    "            hero_trial = True,\n",
    "            start_time = 3,\n",
    "            battles = 10,\n",
    "            computer='work',\n",
    "            extra_battle = False\n",
    "        )"
   ]
  },
  {
   "cell_type": "code",
   "execution_count": 19,
   "id": "c70a69d4",
   "metadata": {
    "scrolled": true
   },
   "outputs": [
    {
     "name": "stdout",
     "output_type": "stream",
     "text": [
      "ROUND 743\n",
      "     Force battle and beggining\n"
     ]
    },
    {
     "ename": "KeyboardInterrupt",
     "evalue": "",
     "output_type": "error",
     "traceback": [
      "\u001b[0;31m---------------------------------------------------------------------------\u001b[0m",
      "\u001b[0;31mKeyboardInterrupt\u001b[0m                         Traceback (most recent call last)",
      "\u001b[0;32m/tmp/ipykernel_289645/3227669259.py\u001b[0m in \u001b[0;36m<module>\u001b[0;34m\u001b[0m\n\u001b[0;32m----> 1\u001b[0;31m FA.farm(\n\u001b[0m\u001b[1;32m      2\u001b[0m             \u001b[0mrounds\u001b[0m\u001b[0;34m=\u001b[0m\u001b[0;36m1500\u001b[0m\u001b[0;34m,\u001b[0m\u001b[0;34m\u001b[0m\u001b[0;34m\u001b[0m\u001b[0m\n\u001b[1;32m      3\u001b[0m             \u001b[0mstart_time\u001b[0m\u001b[0;34m=\u001b[0m\u001b[0;36m2.5\u001b[0m\u001b[0;34m,\u001b[0m\u001b[0;34m\u001b[0m\u001b[0;34m\u001b[0m\u001b[0m\n\u001b[1;32m      4\u001b[0m             \u001b[0mcomputer\u001b[0m\u001b[0;34m=\u001b[0m\u001b[0;34m'work'\u001b[0m\u001b[0;34m,\u001b[0m\u001b[0;34m\u001b[0m\u001b[0;34m\u001b[0m\u001b[0m\n\u001b[1;32m      5\u001b[0m         )\n",
      "\u001b[0;32m~/projects/games/AoW_auto_clicker/Farmer.ipynb\u001b[0m in \u001b[0;36mfarm\u001b[0;34m(rounds, start_time, computer)\u001b[0m\n",
      "\u001b[0;31mKeyboardInterrupt\u001b[0m: "
     ]
    }
   ],
   "source": [
    "FA.farm(\n",
    "            rounds=1500,\n",
    "            start_time=2.5,\n",
    "            computer='work',\n",
    "        )"
   ]
  },
  {
   "cell_type": "code",
   "execution_count": 18,
   "id": "b00cbff9",
   "metadata": {},
   "outputs": [],
   "source": [
    "FA.headHunt(\n",
    "            rounds=20,\n",
    "            start_time=3,\n",
    "            computer='work',\n",
    "            headhunt_type='hard',\n",
    "            has_infinity_war=True\n",
    "        )\n",
    "FA.headHunt(\n",
    "            rounds=20,\n",
    "            start_time=3,\n",
    "            computer='work',\n",
    "            headhunt_type='easy',\n",
    "            has_infinity_war=True\n",
    "        )"
   ]
  },
  {
   "cell_type": "code",
   "execution_count": null,
   "id": "0c5b0ceb",
   "metadata": {},
   "outputs": [],
   "source": [
    "FA.headHunt(\n",
    "            rounds=20,\n",
    "            start_time=3,\n",
    "            computer='work',\n",
    "            headhunt_type='easy'\n",
    "        )"
   ]
  },
  {
   "cell_type": "code",
   "execution_count": null,
   "id": "629de81b",
   "metadata": {},
   "outputs": [],
   "source": [
    "recruiting.process@bairesdev.com jobs@bairesdev.com\n"
   ]
  },
  {
   "cell_type": "markdown",
   "id": "e8972ece",
   "metadata": {},
   "source": [
    "Papel toalha(2 rolos)\n",
    "Papel higienico(12)\n",
    "água sanitaria(4l)\n",
    "desinfetante(2l)\n",
    "detergente 3\n",
    "sabão em po bentivi(2kg)\n",
    "\n",
    "açucareiro(recipiente de açucar)\n",
    "\n",
    "molho de tomate(1l)\n",
    "oregano\n",
    "2 azeites(500ml cada)\n",
    "1 kg de açucar\n",
    "\n",
    "4 café\n",
    "4 flocão coringa\n",
    "6 caixas de leite\n",
    "\n",
    "1 manteiga 500g\n",
    "requeijão\n",
    "\n",
    "calabresa perdigão (2kg+-)\n",
    "mortadela confiança/perdião(3kg)\n",
    "\n",
    "2 filé suino\n",
    "bandeijas de peito de frango(2 kg)\n",
    "coxa/sobrecoxa(1 kg)\n",
    "1 pacote de FILÉ tilapia(800g)\n",
    "\n",
    "1 cará médio\n",
    "\n",
    "2 tapiocas\n",
    "\n",
    "breboto\n",
    "\n",
    "2 coca zero 2l\n",
    "\n",
    "\n",
    "\n"
   ]
  }
 ],
 "metadata": {
  "kernelspec": {
   "display_name": "Python 3 (ipykernel)",
   "language": "python",
   "name": "python3"
  },
  "language_info": {
   "codemirror_mode": {
    "name": "ipython",
    "version": 3
   },
   "file_extension": ".py",
   "mimetype": "text/x-python",
   "name": "python",
   "nbconvert_exporter": "python",
   "pygments_lexer": "ipython3",
   "version": "3.10.1"
  }
 },
 "nbformat": 4,
 "nbformat_minor": 5
}
