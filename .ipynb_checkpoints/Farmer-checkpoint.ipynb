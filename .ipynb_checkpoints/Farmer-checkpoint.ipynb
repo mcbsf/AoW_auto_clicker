{
 "cells": [
  {
   "cell_type": "code",
   "execution_count": 1,
   "id": "10b28a17",
   "metadata": {},
   "outputs": [],
   "source": [
    "from pymouse import PyMouse\n",
    "from pykeyboard import PyKeyboard\n",
    "import time\n",
    "import random\n",
    "\n",
    "from IPython.display import clear_output"
   ]
  },
  {
   "cell_type": "code",
   "execution_count": 2,
   "id": "ac32b9c3",
   "metadata": {},
   "outputs": [],
   "source": [
    "m = PyMouse()\n",
    "k = PyKeyboard()\n",
    "\n",
    "cbs = coord_by_step = None"
   ]
  },
  {
   "cell_type": "code",
   "execution_count": 8,
   "id": "1b263e27",
   "metadata": {},
   "outputs": [],
   "source": [
    "#\"challenge_X, challenge_Y = 1253 ,  1832\\n\",\n",
    "    #\"fight_worse_X, fight_worse_Y = 1352 ,  1716\\n\",\n",
    "    #\"beggin_battle_X, beggin_battle_Y = 1254 ,  1807\\n\",\n",
    "    #\"next_battle_X, next_battle_Y = 1251 ,  1740\"\n",
    "#    1623 2147\n",
    "\n",
    "\n",
    "coordinates_screens_computer = {\n",
    "    'home': {\n",
    "        1: {\n",
    "            'start': {\n",
    "                'X': 1680,\n",
    "                'Y': 910 ,\n",
    "            },\n",
    "            'next_battle': {\n",
    "                'X': 1713,\n",
    "                'Y': 714,\n",
    "            },\n",
    "            'add1': {\n",
    "                'X': 1870,\n",
    "                'Y': 284 ,\n",
    "            },\n",
    "            'add2': {\n",
    "                'X': 1851,\n",
    "                'Y': 226 ,\n",
    "            }\n",
    "        },\n",
    "        2: {\n",
    "            'start': {\n",
    "                'X': 1625,\n",
    "                'Y': 910 + 1200,\n",
    "            },\n",
    "            'next_battle': {\n",
    "                'X': 1787,\n",
    "                'Y': 714 + 1200,\n",
    "            },\n",
    "            '226': {\n",
    "                'X': 1624,\n",
    "                'Y': 284 + 1200,\n",
    "            },\n",
    "            'add2': {\n",
    "                'X': 1627,\n",
    "                'Y': 226 + 1200,\n",
    "            }\n",
    "        }\n",
    "    },\n",
    "    'work': {\n",
    "        2:{\n",
    "            'challenge': {\n",
    "                'X': 1253,\n",
    "                'Y': 1832,\n",
    "            },\n",
    "            'fight_worse': {\n",
    "                'X': 1352,\n",
    "                'Y': 1716,\n",
    "            },\n",
    "            'beggin_battle': {\n",
    "                'X': 1254,\n",
    "                'Y': 1807,\n",
    "            },\n",
    "            'next_battle': {\n",
    "                'X': 1251,\n",
    "                'Y': 1740,\n",
    "            }\n",
    "        },\n",
    "        1: {\n",
    "            'start': {\n",
    "                'X': int(1680*0.7),\n",
    "                'Y': int(910*0.7) + 6,\n",
    "            },\n",
    "            'next_battle': {\n",
    "                'X': int(1723*0.7),\n",
    "                'Y': int(714*0.7) + 6,\n",
    "            },\n",
    "            'add1': {\n",
    "                'X': int(1870*0.7),\n",
    "                'Y': int(284*0.7) ,\n",
    "            },\n",
    "            'add2': {\n",
    "                'X': int(1851*0.7),\n",
    "                'Y': int(226*0.7),\n",
    "            },\n",
    "            'headHuntHard': {\n",
    "                'X': int(1260),\n",
    "                'Y': int(500),\n",
    "            },\n",
    "            'headHuntEasy': {\n",
    "                'X': int(1260),\n",
    "                'Y': int(315),\n",
    "            }\n",
    "        },          \n",
    "    }\n",
    "}\n"
   ]
  },
  {
   "cell_type": "code",
   "execution_count": 9,
   "id": "6442706e",
   "metadata": {},
   "outputs": [],
   "source": [
    "def get_step_coord(coord_by_step, step):\n",
    "    #advertising will have lower random values to hit the \"X\"\n",
    "    if(step != \"add1\" and step != \"add2\"):\n",
    "        answer =  coord_by_step[step]['X'] + random.randint(0,10) - 5, coord_by_step[step]['Y'] + random.randint(0,5) - 2\n",
    "    \n",
    "    elif(step == \"add1\" or step == \"add2\"):\n",
    "        answer = coord_by_step[step]['X'] + random.randint(0,3) - 1, coord_by_step[step]['Y'] + random.randint(0,3) - 1\n",
    "    else:\n",
    "        raise Exception(\"WTF MAN, WAKE UP!!!\")\n",
    "        \n",
    "    return answer"
   ]
  },
  {
   "cell_type": "code",
   "execution_count": 10,
   "id": "f247df7c",
   "metadata": {},
   "outputs": [],
   "source": [
    "def farm(\n",
    "    rounds = 10,\n",
    "    start_time = 2,\n",
    "    computer='home',\n",
    "    screens=1\n",
    "):\n",
    "    cbs = coord_by_step = coordinates_screens_computer[computer][screens]\n",
    "    \n",
    "    #START\n",
    "    X, Y = get_step_coord(cbs, 'start')\n",
    "    m.click(X, Y, 1) \n",
    "    time.sleep(random.uniform(0,1))\n",
    "    print(\"ROUND 1\")\n",
    "    for i in range(0, rounds):\n",
    "        \n",
    "        #BATTLE\n",
    "        print('     Force battle and beggining')\n",
    "        \n",
    "\n",
    "        for j in range(0,4): \n",
    "            X, Y = get_step_coord(cbs, 'start')   \n",
    "            m.click(X, Y, 1) \n",
    "            time.sleep(start_time *0.7+ random.uniform(0,1))\n",
    "        time.sleep(start_time*8 + random.uniform(0,2))\n",
    "\n",
    "\n",
    "        print('     Close adv. and Next battle')\n",
    "        #CLOSE AD\n",
    "        X, Y = get_step_coord(cbs, 'add2')\n",
    "        m.click(X, Y, 1) \n",
    "        time.sleep(start_time *0.7+ random.uniform(0,1))\n",
    "\n",
    "        #Next\n",
    "        X, Y = get_step_coord(cbs, 'next_battle')\n",
    "        m.click(X, Y, 1) \n",
    "        time.sleep(start_time *0.7+ random.uniform(0,1))\n",
    "        clear_output(wait=False)\n",
    "        print(\"ROUND \"+str(i+2))"
   ]
  },
  {
   "cell_type": "code",
   "execution_count": null,
   "id": "1a99db6c",
   "metadata": {},
   "outputs": [
    {
     "name": "stdout",
     "output_type": "stream",
     "text": [
      "ROUND 28\n",
      "     Force battle and beggining\n"
     ]
    }
   ],
   "source": [
    "farm(\n",
    "    rounds=300,\n",
    "    start_time=2.5,\n",
    "    computer='work',\n",
    "    screens=1\n",
    ")"
   ]
  },
  {
   "cell_type": "code",
   "execution_count": null,
   "id": "c5579f7b",
   "metadata": {},
   "outputs": [],
   "source": []
  },
  {
   "cell_type": "code",
   "execution_count": 11,
   "id": "12e69192",
   "metadata": {},
   "outputs": [],
   "source": [
    "def headHunt(\n",
    "    rounds = 10,\n",
    "    start_time = 2,\n",
    "    computer='work',\n",
    "    screens=1,\n",
    "    headhunt_type='easy'\n",
    "):\n",
    "    hunt_parser = {\n",
    "        'easy': 'headHuntEasy',\n",
    "        'hard': 'headHuntHard'\n",
    "    }\n",
    "    hunt_level = hunt_parser[headhunt_type]\n",
    "\n",
    "    cbs = coord_by_step = coordinates_screens_computer[computer][screens]\n",
    "    \n",
    "    ##START\n",
    "    X, Y = get_step_coord(cbs, 'start')\n",
    "    m.click(X, Y, 1) \n",
    "    time.sleep(random.uniform(0,1))\n",
    "    for i in range(0, rounds):\n",
    "            \n",
    "        print(\"ROUND \", int(i+1))\n",
    "        #BATTLE\n",
    "        print('     Headhunt start')    \n",
    "        X, Y = get_step_coord(cbs, hunt_level)   \n",
    "        m.click(X, Y, 1) \n",
    "        time.sleep(start_time*3 + random.uniform(0,2))\n",
    "\n",
    "        #BATTLE\n",
    "        print('     Hunt beggining')\n",
    "        X, Y = get_step_coord(cbs, 'start')   \n",
    "        m.click(X, Y, 1) \n",
    "        time.sleep(start_time*5 + random.uniform(0,2))\n",
    "\n",
    "\n",
    "\n",
    "\n",
    "        print('     Close adv. and Next battle')\n",
    "        #CLOSE AD\n",
    "        X, Y = get_step_coord(cbs, 'add2')\n",
    "        m.click(X, Y, 1) \n",
    "        time.sleep(start_time *0.7+ random.uniform(0,1))\n",
    "\n",
    "        #Next\n",
    "        X, Y = get_step_coord(cbs, 'next_battle')\n",
    "        m.click(X, Y, 1) \n",
    "        time.sleep(start_time *0.7+ random.uniform(0,1))\n",
    "        clear_output(wait=False)"
   ]
  },
  {
   "cell_type": "code",
   "execution_count": 12,
   "id": "7625bb1e",
   "metadata": {},
   "outputs": [
    {
     "name": "stdout",
     "output_type": "stream",
     "text": [
      "ROUND  1\n",
      "     Headhunt start\n",
      "     Hunt beggining\n"
     ]
    },
    {
     "ename": "KeyboardInterrupt",
     "evalue": "",
     "output_type": "error",
     "traceback": [
      "\u001b[0;31m---------------------------------------------------------------------------\u001b[0m",
      "\u001b[0;31mKeyboardInterrupt\u001b[0m                         Traceback (most recent call last)",
      "\u001b[0;32m/tmp/ipykernel_57103/250923881.py\u001b[0m in \u001b[0;36m<module>\u001b[0;34m\u001b[0m\n\u001b[0;32m----> 1\u001b[0;31m headHunt(\n\u001b[0m\u001b[1;32m      2\u001b[0m     \u001b[0mrounds\u001b[0m\u001b[0;34m=\u001b[0m\u001b[0;36m20\u001b[0m\u001b[0;34m,\u001b[0m\u001b[0;34m\u001b[0m\u001b[0;34m\u001b[0m\u001b[0m\n\u001b[1;32m      3\u001b[0m     \u001b[0mstart_time\u001b[0m\u001b[0;34m=\u001b[0m\u001b[0;36m2.5\u001b[0m\u001b[0;34m,\u001b[0m\u001b[0;34m\u001b[0m\u001b[0;34m\u001b[0m\u001b[0m\n\u001b[1;32m      4\u001b[0m     \u001b[0mcomputer\u001b[0m\u001b[0;34m=\u001b[0m\u001b[0;34m'work'\u001b[0m\u001b[0;34m,\u001b[0m\u001b[0;34m\u001b[0m\u001b[0;34m\u001b[0m\u001b[0m\n\u001b[1;32m      5\u001b[0m     \u001b[0mscreens\u001b[0m\u001b[0;34m=\u001b[0m\u001b[0;36m1\u001b[0m\u001b[0;34m,\u001b[0m\u001b[0;34m\u001b[0m\u001b[0;34m\u001b[0m\u001b[0m\n",
      "\u001b[0;32m/tmp/ipykernel_57103/4175113542.py\u001b[0m in \u001b[0;36mheadHunt\u001b[0;34m(rounds, start_time, computer, screens, headhunt_type)\u001b[0m\n\u001b[1;32m     31\u001b[0m         \u001b[0mX\u001b[0m\u001b[0;34m,\u001b[0m \u001b[0mY\u001b[0m \u001b[0;34m=\u001b[0m \u001b[0mget_step_coord\u001b[0m\u001b[0;34m(\u001b[0m\u001b[0mcbs\u001b[0m\u001b[0;34m,\u001b[0m \u001b[0;34m'start'\u001b[0m\u001b[0;34m)\u001b[0m\u001b[0;34m\u001b[0m\u001b[0;34m\u001b[0m\u001b[0m\n\u001b[1;32m     32\u001b[0m         \u001b[0mm\u001b[0m\u001b[0;34m.\u001b[0m\u001b[0mclick\u001b[0m\u001b[0;34m(\u001b[0m\u001b[0mX\u001b[0m\u001b[0;34m,\u001b[0m \u001b[0mY\u001b[0m\u001b[0;34m,\u001b[0m \u001b[0;36m1\u001b[0m\u001b[0;34m)\u001b[0m\u001b[0;34m\u001b[0m\u001b[0;34m\u001b[0m\u001b[0m\n\u001b[0;32m---> 33\u001b[0;31m         \u001b[0mtime\u001b[0m\u001b[0;34m.\u001b[0m\u001b[0msleep\u001b[0m\u001b[0;34m(\u001b[0m\u001b[0mstart_time\u001b[0m\u001b[0;34m*\u001b[0m\u001b[0;36m8\u001b[0m \u001b[0;34m+\u001b[0m \u001b[0mrandom\u001b[0m\u001b[0;34m.\u001b[0m\u001b[0muniform\u001b[0m\u001b[0;34m(\u001b[0m\u001b[0;36m0\u001b[0m\u001b[0;34m,\u001b[0m\u001b[0;36m2\u001b[0m\u001b[0;34m)\u001b[0m\u001b[0;34m)\u001b[0m\u001b[0;34m\u001b[0m\u001b[0;34m\u001b[0m\u001b[0m\n\u001b[0m\u001b[1;32m     34\u001b[0m \u001b[0;34m\u001b[0m\u001b[0m\n\u001b[1;32m     35\u001b[0m \u001b[0;34m\u001b[0m\u001b[0m\n",
      "\u001b[0;31mKeyboardInterrupt\u001b[0m: "
     ]
    }
   ],
   "source": [
    "headHunt(\n",
    "    rounds=20,\n",
    "    start_time=2.5,\n",
    "    computer='work',\n",
    "    screens=1,\n",
    "    headhunt_type='hard'\n",
    ")\n",
    "headHunt(\n",
    "    rounds=19,\n",
    "    start_time=2.5,\n",
    "    computer='work',\n",
    "    screens=1,\n",
    "    headhunt_type='easy'\n",
    ")"
   ]
  },
  {
   "cell_type": "code",
   "execution_count": 59,
   "id": "99add5bd",
   "metadata": {},
   "outputs": [
    {
     "name": "stdout",
     "output_type": "stream",
     "text": [
      "1253 373\n"
     ]
    }
   ],
   "source": [
    "(challenge_X, challenge_Y) = m.position() #OPEN TROOP\n",
    "print(challenge_X, challenge_Y)"
   ]
  },
  {
   "cell_type": "code",
   "execution_count": 67,
   "id": "bd3fb51c",
   "metadata": {},
   "outputs": [
    {
     "name": "stdout",
     "output_type": "stream",
     "text": [
      "1269 343\n"
     ]
    }
   ],
   "source": [
    "(challenge_X, challenge_Y) = m.position() #TROOP ADV\n",
    "print(challenge_X, challenge_Y)"
   ]
  },
  {
   "cell_type": "code",
   "execution_count": 93,
   "id": "92379628",
   "metadata": {},
   "outputs": [
    {
     "name": "stdout",
     "output_type": "stream",
     "text": [
      "1258 566\n"
     ]
    }
   ],
   "source": [
    "(challenge_X, challenge_Y) = m.position() #HERO OPEN\n",
    "print(challenge_X, challenge_Y)"
   ]
  },
  {
   "cell_type": "code",
   "execution_count": 60,
   "id": "c061be31",
   "metadata": {},
   "outputs": [
    {
     "name": "stdout",
     "output_type": "stream",
     "text": [
      "1265 539\n"
     ]
    }
   ],
   "source": [
    "(challenge_X, challenge_Y) = m.position() #HERO ADV\n",
    "print(challenge_X, challenge_Y)"
   ]
  },
  {
   "cell_type": "code",
   "execution_count": 61,
   "id": "cc79dc37",
   "metadata": {},
   "outputs": [
    {
     "name": "stdout",
     "output_type": "stream",
     "text": [
      "1003 104\n"
     ]
    }
   ],
   "source": [
    "(challenge_X, challenge_Y) = m.position() #CLOSE ADV\n",
    "print(challenge_X, challenge_Y)"
   ]
  },
  {
   "cell_type": "code",
   "execution_count": 65,
   "id": "6ac11c35",
   "metadata": {},
   "outputs": [
    {
     "name": "stdout",
     "output_type": "stream",
     "text": [
      "1162 615\n"
     ]
    }
   ],
   "source": [
    "(challenge_X, challenge_Y) = m.position() #CLAIM TROOP\n",
    "print(challenge_X, challenge_Y)"
   ]
  },
  {
   "cell_type": "code",
   "execution_count": null,
   "id": "a2051415",
   "metadata": {},
   "outputs": [],
   "source": []
  },
  {
   "cell_type": "code",
   "execution_count": null,
   "id": "30c8c54f",
   "metadata": {},
   "outputs": [],
   "source": []
  },
  {
   "cell_type": "code",
   "execution_count": 66,
   "id": "57b56d02",
   "metadata": {},
   "outputs": [],
   "source": [
    "m.click(1162, 615, 1)\n",
    "m.click(1163, 615, 1)"
   ]
  },
  {
   "cell_type": "code",
   "execution_count": null,
   "id": "b908fa64",
   "metadata": {},
   "outputs": [],
   "source": []
  }
 ],
 "metadata": {
  "kernelspec": {
   "display_name": "Python 3 (ipykernel)",
   "language": "python",
   "name": "python3"
  },
  "language_info": {
   "codemirror_mode": {
    "name": "ipython",
    "version": 3
   },
   "file_extension": ".py",
   "mimetype": "text/x-python",
   "name": "python",
   "nbconvert_exporter": "python",
   "pygments_lexer": "ipython3",
   "version": "3.8.10"
  }
 },
 "nbformat": 4,
 "nbformat_minor": 5
}
