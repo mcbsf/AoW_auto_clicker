{
 "cells": [
  {
   "cell_type": "code",
   "execution_count": 6,
   "id": "b04c890d",
   "metadata": {},
   "outputs": [],
   "source": [
    "from pymouse import PyMouse\n",
    "from pykeyboard import PyKeyboard\n",
    "import time\n",
    "import random\n",
    "\n",
    "from IPython.display import clear_output"
   ]
  },
  {
   "cell_type": "code",
   "execution_count": 7,
   "id": "8679d6d2",
   "metadata": {},
   "outputs": [],
   "source": [
    "m = PyMouse()\n",
    "k = PyKeyboard()\n",
    "\n",
    "cbs = coord_by_step = None"
   ]
  },
  {
   "cell_type": "code",
   "execution_count": 8,
   "id": "1b9d7f64",
   "metadata": {},
   "outputs": [],
   "source": [
    "def get_step_coord(coord_by_step, step, aux = None):\n",
    "    #advertising will have lower random values to hit the \"X\"\n",
    "    \n",
    "    if(step == 'chests'):\n",
    "        answer = coord_by_step[step]['X'] + random.randint(0,3) - 1, coord_by_step[step]['Y'] + random.randint(0,3) - 1\n",
    "    \n",
    "    elif(step == 'troop' or step == 'hero'):\n",
    "        answer = coord_by_step[step][aux]['X'] + random.randint(0,3) - 1, coord_by_step[step][aux]['Y'] + random.randint(0,3) - 1    \n",
    "    \n",
    "    else:\n",
    "        raise Exception(\"WTF MAN, WAKE UP!!!\")\n",
    "        \n",
    "    return answer"
   ]
  },
  {
   "cell_type": "code",
   "execution_count": 9,
   "id": "86daa44b",
   "metadata": {},
   "outputs": [],
   "source": [
    "#\"challenge_X, challenge_Y = 1253 ,  1832\\n\",\n",
    "    #\"fight_worse_X, fight_worse_Y = 1352 ,  1716\\n\",\n",
    "    #\"beggin_battle_X, beggin_battle_Y = 1254 ,  1807\\n\",\n",
    "    #\"next_battle_X, next_battle_Y = 1251 ,  1740\"\n",
    "#    1623 2147\n",
    "\n",
    "chest_add = {\n",
    "    'chests': {\n",
    "        'X': 1310,\n",
    "        'Y': 132\n",
    "    },\n",
    "    'troop': {\n",
    "        'open': {\n",
    "            'X': 1253,\n",
    "            'Y': 373\n",
    "        },\n",
    "        'ad': {\n",
    "            'X': 1269,\n",
    "            'Y': 343\n",
    "        },\n",
    "        'close': {\n",
    "            'X': 1333,\n",
    "            'Y': 90\n",
    "        }\n",
    "    },\n",
    "    'hero': {\n",
    "        'open': {\n",
    "            'X': 1253,\n",
    "            'Y': 566\n",
    "        },\n",
    "        'ad': {\n",
    "            'X': 1265,\n",
    "            'Y': 539\n",
    "        },\n",
    "        'close': {\n",
    "            'X': 1333,\n",
    "            'Y': 90\n",
    "        }\n",
    "    },\n",
    "    'claim':{\n",
    "        'X': 1162,\n",
    "        'Y': 615\n",
    "    }\n",
    "    \n",
    "}"
   ]
  },
  {
   "cell_type": "code",
   "execution_count": 23,
   "id": "c706f2db",
   "metadata": {},
   "outputs": [],
   "source": [
    "def speedChests(\n",
    "    rounds = 3,\n",
    "    chest_type = 'troop',\n",
    "    aux = 'ad'\n",
    "):\n",
    "    cbs = coord_by_step = chest_add\n",
    "    \n",
    "    #START\n",
    "    X, Y = get_step_coord(cbs, 'chests', 'ad')\n",
    "    m.click(X, Y, 1) \n",
    "    time.sleep(random.uniform(1,2))\n",
    "    print(\" --- START --- \")\n",
    "    print()\n",
    "    X, Y = get_step_coord(cbs, 'chests', 'ad')\n",
    "    m.click(X, Y, 1) \n",
    "    time.sleep(random.uniform(1,2))\n",
    "    for i in range(0, rounds):\n",
    "        \n",
    "        print(\"ROUND \", i + 1)\n",
    "        #BATTLE\n",
    "        print('     Speeding ', chest_type)\n",
    "        \n",
    "        X, Y = get_step_coord(cbs, chest_type, 'ad')   \n",
    "        m.click(X, Y, 1) \n",
    "        time.sleep(40 + random.uniform(0,1))\n",
    "        \n",
    "        #CLOSE AD\n",
    "        \n",
    "        print('     Close ', chest_type)\n",
    "        X, Y = get_step_coord(cbs, chest_type, 'close')   \n",
    "        m.click(X, Y, 1) \n",
    "        time.sleep(10 + random.uniform(0,1))\n",
    "    m.click(1322, 196, 1)\n",
    "    time.sleep(2+ random.uniform(0,1))"
   ]
  },
  {
   "cell_type": "code",
   "execution_count": 24,
   "id": "85079db6",
   "metadata": {},
   "outputs": [
    {
     "name": "stdout",
     "output_type": "stream",
     "text": [
      " --- START --- \n",
      "\n",
      "ROUND  1\n",
      "     Speeding  troop\n",
      "     Close  troop\n",
      "ROUND  2\n",
      "     Speeding  troop\n",
      "     Close  troop\n",
      "ROUND  3\n",
      "     Speeding  troop\n",
      "     Close  troop\n",
      " --- START --- \n",
      "\n",
      "ROUND  1\n",
      "     Speeding  hero\n",
      "     Close  hero\n",
      "ROUND  2\n",
      "     Speeding  hero\n",
      "     Close  hero\n",
      "ROUND  3\n",
      "     Speeding  hero\n",
      "     Close  hero\n"
     ]
    }
   ],
   "source": [
    "\n",
    "speedChests(rounds=3, chest_type='troop', aux='ad')\n",
    "speedChests(rounds=3, chest_type='hero', aux='ad')"
   ]
  },
  {
   "cell_type": "code",
   "execution_count": 43,
   "id": "0887c398",
   "metadata": {},
   "outputs": [
    {
     "name": "stdout",
     "output_type": "stream",
     "text": [
      "1333 90\n"
     ]
    }
   ],
   "source": [
    "(challenge_X, challenge_Y) = m.position() #CLOSE ADV\n",
    "print(challenge_X, challenge_Y)"
   ]
  },
  {
   "cell_type": "code",
   "execution_count": 44,
   "id": "4113f203",
   "metadata": {},
   "outputs": [
    {
     "name": "stdout",
     "output_type": "stream",
     "text": [
      "1322 196\n"
     ]
    }
   ],
   "source": [
    "(challenge_X, challenge_Y) = m.position() #CLOSE CHESTS\n",
    "print(challenge_X, challenge_Y)"
   ]
  }
 ],
 "metadata": {
  "kernelspec": {
   "display_name": "Python 3 (ipykernel)",
   "language": "python",
   "name": "python3"
  },
  "language_info": {
   "codemirror_mode": {
    "name": "ipython",
    "version": 3
   },
   "file_extension": ".py",
   "mimetype": "text/x-python",
   "name": "python",
   "nbconvert_exporter": "python",
   "pygments_lexer": "ipython3",
   "version": "3.10.1"
  }
 },
 "nbformat": 4,
 "nbformat_minor": 5
}
