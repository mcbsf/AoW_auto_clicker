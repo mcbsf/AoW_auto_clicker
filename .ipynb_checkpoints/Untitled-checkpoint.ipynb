{
 "cells": [
  {
   "cell_type": "code",
   "execution_count": 34,
   "id": "07a0f281",
   "metadata": {},
   "outputs": [],
   "source": [
    "def solution(S, C):\n",
    "    # write your code in Python 3.6\n",
    "    table_string_rows = S.split(\"\\n\")\n",
    "    \n",
    "    table_size = len(table_string_rows)\n",
    "    \n",
    "    table_header = table_string_rows[0].split(',')\n",
    "    \n",
    "    column_index = 0\n",
    "    iterations = 0\n",
    "    for column in table_header:\n",
    "        if column == C:\n",
    "            column_index=iterations\n",
    "        iterations+=1\n",
    "    print(column_index)\n",
    "    table_string_rows[0].split(',')\n",
    "    max_value = -float('inf')\n",
    "    for i in range(1, table_size):\n",
    "        print(table_string_rows[i].split(','))\n",
    "        actual_value = int(table_string_rows[i].split(',')[column_index])\n",
    "        if(max_value<actual_value):\n",
    "            max_value = actual_value\n",
    "        print(table_string_rows[i].split(',')[column_index])\n",
    "        \n",
    "    print(\"MAX\", max_value)"
   ]
  },
  {
   "cell_type": "code",
   "execution_count": 35,
   "id": "d66e5902",
   "metadata": {},
   "outputs": [
    {
     "name": "stdout",
     "output_type": "stream",
     "text": [
      "0\n",
      "['2', 'mario']\n",
      "2\n",
      "['0', 'ze']\n",
      "0\n",
      "MAX 2\n"
     ]
    }
   ],
   "source": [
    "S = \"id,name\\n2,mario\\n0,ze\"\n",
    "solution(S, 'id')"
   ]
  },
  {
   "cell_type": "code",
   "execution_count": 26,
   "id": "376d96c5",
   "metadata": {},
   "outputs": [
    {
     "data": {
      "text/plain": [
       "-inf"
      ]
     },
     "execution_count": 26,
     "metadata": {},
     "output_type": "execute_result"
    }
   ],
   "source": [
    "max_value = MAX"
   ]
  },
  {
   "cell_type": "code",
   "execution_count": 46,
   "id": "eb846a49",
   "metadata": {},
   "outputs": [],
   "source": [
    "A = [1,2,3]\n",
    "A.remove(1)"
   ]
  },
  {
   "cell_type": "code",
   "execution_count": 47,
   "id": "69ed64f9",
   "metadata": {},
   "outputs": [
    {
     "data": {
      "text/plain": [
       "[1, 2, 3]"
      ]
     },
     "execution_count": 47,
     "metadata": {},
     "output_type": "execute_result"
    }
   ],
   "source": [
    "[1]+A"
   ]
  },
  {
   "cell_type": "code",
   "execution_count": 116,
   "id": "3ed53106",
   "metadata": {},
   "outputs": [],
   "source": [
    "def test(A):\n",
    "    min_value = min(A)\n",
    "    in_debt = True\n",
    "    rounds = 0\n",
    "    while(in_debt):\n",
    "        actual_debt = 0\n",
    "        index = 0\n",
    "        for n in A:\n",
    "            actual_debt += n\n",
    "            \n",
    "            if(actual_debt<0):\n",
    "                print(\"DEBITO\", index, actual_debt)\n",
    "                in_debt = True\n",
    "                break\n",
    "            \n",
    "            index += 1\n",
    "            in_debt  = False\n",
    "        \n",
    "        if(in_debt):\n",
    "            \n",
    "            print(\"comparing\", A)\n",
    "            print('index_to_remove', index)\n",
    "            print()\n",
    "\n",
    "            A.remove(min(A[0:index+1]))\n",
    "        rounds += 1\n",
    "        \n",
    "    return rounds-1"
   ]
  },
  {
   "cell_type": "code",
   "execution_count": 117,
   "id": "8b4991f7",
   "metadata": {},
   "outputs": [
    {
     "name": "stdout",
     "output_type": "stream",
     "text": [
      "DEBITO 2 -1\n",
      "comparing [10, -10, -1, -1, 10]\n",
      "index_to_remove 2\n",
      "\n"
     ]
    },
    {
     "data": {
      "text/plain": [
       "1"
      ]
     },
     "execution_count": 117,
     "metadata": {},
     "output_type": "execute_result"
    }
   ],
   "source": [
    "test([10, -10, -1, -1, 10])"
   ]
  },
  {
   "cell_type": "code",
   "execution_count": 118,
   "id": "9cab276c",
   "metadata": {},
   "outputs": [
    {
     "name": "stdout",
     "output_type": "stream",
     "text": [
      "hey\n"
     ]
    }
   ],
   "source": [
    "if([[]]):\n",
    "    print(\"hey\")"
   ]
  },
  {
   "cell_type": "code",
   "execution_count": 79,
   "id": "c80d79be",
   "metadata": {},
   "outputs": [
    {
     "name": "stdout",
     "output_type": "stream",
     "text": [
      "0\n",
      "haha\n"
     ]
    }
   ],
   "source": [
    "for i in range(0,3):\n",
    "    if(True):\n",
    "        print(i)\n",
    "        break\n",
    "print('haha')"
   ]
  },
  {
   "cell_type": "code",
   "execution_count": 61,
   "id": "762e0291",
   "metadata": {},
   "outputs": [
    {
     "name": "stdout",
     "output_type": "stream",
     "text": [
      "0\n"
     ]
    }
   ],
   "source": []
  },
  {
   "cell_type": "code",
   "execution_count": 95,
   "id": "287cc7ed",
   "metadata": {},
   "outputs": [],
   "source": [
    "a = [10, -3, 5]"
   ]
  },
  {
   "cell_type": "code",
   "execution_count": 96,
   "id": "c5fe1334",
   "metadata": {},
   "outputs": [],
   "source": [
    "a.remove(-3)"
   ]
  },
  {
   "cell_type": "code",
   "execution_count": 97,
   "id": "3421c50c",
   "metadata": {},
   "outputs": [
    {
     "name": "stdout",
     "output_type": "stream",
     "text": [
      "[10, 5]\n"
     ]
    }
   ],
   "source": [
    "print(a)"
   ]
  },
  {
   "cell_type": "code",
   "execution_count": null,
   "id": "14edf77e",
   "metadata": {},
   "outputs": [],
   "source": [
    "def get_line(robot_direction, R, column_index, row_index):\n",
    "    answer = 0\n",
    "    if(robot_direction: 'right'):\n",
    "        if(R[row_index][column_index+1]!= \"X\"):\n",
    "            answer += 1\n",
    "            column_index += 1\n",
    "            \n",
    "            answer = answer + get_line(robot_direction, R, column_index, row_index)\n",
    "        \n",
    "    elif(robot_direction: 'down'):\n",
    "        if(R[row_index+1][column_index]!= \"X\"):\n",
    "            answer += 1\n",
    "            row_index+=1\n",
    "            \n",
    "            answer = answer + get_line(robot_direction, R, column_index, row_index)\n",
    "    \n",
    "    elif(robot_direction: 'left'):\n",
    "        if(R[row_index][column_index-1]!= \"X\"):\n",
    "            answer += 1\n",
    "            column_index -= 1\n",
    "            \n",
    "            answer = answer + get_line(robot_direction, R, column_index, row_index)\n",
    "    \n",
    "    elif(robot_direction: 'up'):\n",
    "        if(R[row_index][column_index-1]!= \"X\"):\n",
    "            answer += 1\n",
    "            column_index -= 1\n",
    "            \n",
    "            answer = answer + get_line(robot_direction, R, column_index, row_index)\n",
    "     "
   ]
  },
  {
   "cell_type": "code",
   "execution_count": null,
   "id": "730fcf38",
   "metadata": {},
   "outputs": [],
   "source": [
    "def test1(R):\n",
    "\n",
    "    robot_direction = 'right'\n",
    "    \n",
    "\n",
    "    cleaned_squares = 0\n",
    "    if(R):\n",
    "        if(R[0]):\n",
    "            columns_size = len(R)\n",
    "            rows_size = len(R[0])\n",
    "            \n",
    "            possible_move = True\n",
    "            column_index = 0\n",
    "            row_index = 0\n",
    "            \n",
    "            while(possible_move):\n",
    "                if(R[row_index][column_index]==\"X\" or R[row_index][column_index]==\"P\"):\n",
    "                    break\n",
    "                \n",
    "                #MOVE\n",
    "                \n",
    "            return cleaned_squares\n",
    "    "
   ]
  }
 ],
 "metadata": {
  "kernelspec": {
   "display_name": "Python 3 (ipykernel)",
   "language": "python",
   "name": "python3"
  },
  "language_info": {
   "codemirror_mode": {
    "name": "ipython",
    "version": 3
   },
   "file_extension": ".py",
   "mimetype": "text/x-python",
   "name": "python",
   "nbconvert_exporter": "python",
   "pygments_lexer": "ipython3",
   "version": "3.8.10"
  }
 },
 "nbformat": 4,
 "nbformat_minor": 5
}
