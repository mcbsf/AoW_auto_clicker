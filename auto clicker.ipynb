{
 "cells": [
  {
   "cell_type": "code",
   "execution_count": 1,
   "id": "2f1288dc",
   "metadata": {},
   "outputs": [],
   "source": [
    "from pymouse import PyMouse\n",
    "from pykeyboard import PyKeyboard\n",
    "import time\n",
    "import random"
   ]
  },
  {
   "cell_type": "code",
   "execution_count": 2,
   "id": "ed50c022",
   "metadata": {},
   "outputs": [],
   "source": [
    "m = PyMouse()\n",
    "k = PyKeyboard()"
   ]
  },
  {
   "cell_type": "code",
   "execution_count": 3,
   "id": "a625a363",
   "metadata": {},
   "outputs": [],
   "source": [
    "x_dim, y_dim = m.screen_size()"
   ]
  },
  {
   "cell_type": "code",
   "execution_count": 4,
   "id": "a7ce7da5",
   "metadata": {},
   "outputs": [
    {
     "name": "stdout",
     "output_type": "stream",
     "text": [
      "1920 1080\n"
     ]
    }
   ],
   "source": [
    "print(x_dim, y_dim)"
   ]
  },
  {
   "cell_type": "code",
   "execution_count": null,
   "id": "a4a5e0f4",
   "metadata": {},
   "outputs": [],
   "source": []
  },
  {
   "cell_type": "code",
   "execution_count": 5,
   "id": "90604972",
   "metadata": {},
   "outputs": [
    {
     "data": {
      "text/plain": [
       "(1626, 895)"
      ]
     },
     "execution_count": 5,
     "metadata": {},
     "output_type": "execute_result"
    }
   ],
   "source": [
    "m.position() #START"
   ]
  },
  {
   "cell_type": "code",
   "execution_count": 7,
   "id": "acf9841e",
   "metadata": {},
   "outputs": [
    {
     "data": {
      "text/plain": [
       "(1713, 720)"
      ]
     },
     "execution_count": 7,
     "metadata": {},
     "output_type": "execute_result"
    }
   ],
   "source": [
    "m.position() #NEXT"
   ]
  },
  {
   "cell_type": "code",
   "execution_count": 17,
   "id": "68569bf9",
   "metadata": {},
   "outputs": [
    {
     "data": {
      "text/plain": [
       "(1407, 1340)"
      ]
     },
     "execution_count": 17,
     "metadata": {},
     "output_type": "execute_result"
    }
   ],
   "source": [
    "m.position() #AD1"
   ]
  },
  {
   "cell_type": "code",
   "execution_count": 37,
   "id": "7617228d",
   "metadata": {},
   "outputs": [
    {
     "data": {
      "text/plain": [
       "(1407, 1341)"
      ]
     },
     "execution_count": 37,
     "metadata": {},
     "output_type": "execute_result"
    }
   ],
   "source": [
    "m.position() #AD2"
   ]
  },
  {
   "cell_type": "code",
   "execution_count": 40,
   "id": "c1faf8ad",
   "metadata": {},
   "outputs": [
    {
     "data": {
      "text/plain": [
       "(1252, 1805)"
      ]
     },
     "execution_count": 40,
     "metadata": {},
     "output_type": "execute_result"
    }
   ],
   "source": [
    "m.position() #AD2"
   ]
  },
  {
   "cell_type": "code",
   "execution_count": 10,
   "id": "8c88846b",
   "metadata": {},
   "outputs": [
    {
     "data": {
      "text/plain": [
       "(1848, 226)"
      ]
     },
     "execution_count": 10,
     "metadata": {},
     "output_type": "execute_result"
    }
   ],
   "source": [
    "m.position() #AD3 HOME"
   ]
  },
  {
   "cell_type": "markdown",
   "id": "08f5a021",
   "metadata": {},
   "source": [
    "## BATTLE ARENA WORKBOOK\n"
   ]
  },
  {
   "cell_type": "code",
   "execution_count": 50,
   "id": "44741577",
   "metadata": {},
   "outputs": [],
   "source": [
    "(challenge_X, challenge_Y) = m.position() #CHALLENGE\n"
   ]
  },
  {
   "cell_type": "code",
   "execution_count": 54,
   "id": "e18a5631",
   "metadata": {},
   "outputs": [
    {
     "name": "stdout",
     "output_type": "stream",
     "text": [
      "1253 ,  1832\n"
     ]
    }
   ],
   "source": [
    "print(challenge_X,', ', challenge_Y)"
   ]
  },
  {
   "cell_type": "code",
   "execution_count": 51,
   "id": "827dc1d8",
   "metadata": {},
   "outputs": [],
   "source": [
    "(fight_worse_X, fight_worse_Y) = m.position() #CHALLENGE"
   ]
  },
  {
   "cell_type": "code",
   "execution_count": 55,
   "id": "bb8c3063",
   "metadata": {},
   "outputs": [
    {
     "name": "stdout",
     "output_type": "stream",
     "text": [
      "1352 ,  1716\n"
     ]
    }
   ],
   "source": [
    "print(fight_worse_X,', ', fight_worse_Y)"
   ]
  },
  {
   "cell_type": "code",
   "execution_count": 52,
   "id": "72ee289c",
   "metadata": {},
   "outputs": [],
   "source": [
    "(beggin_battle_X, beggin_battle_Y) = m.position() #CHALLENGE"
   ]
  },
  {
   "cell_type": "code",
   "execution_count": null,
   "id": "832e3a28",
   "metadata": {},
   "outputs": [],
   "source": [
    "print(beggin_battle_X,', ', beggin_battle_Y)"
   ]
  },
  {
   "cell_type": "code",
   "execution_count": 61,
   "id": "8c22b2ad",
   "metadata": {},
   "outputs": [],
   "source": [
    "(next_battle_X, next_battle_Y) = m.position() #NEXT BATTLE"
   ]
  },
  {
   "cell_type": "code",
   "execution_count": 62,
   "id": "c156c991",
   "metadata": {},
   "outputs": [
    {
     "name": "stdout",
     "output_type": "stream",
     "text": [
      "1251 ,  1740\n"
     ]
    }
   ],
   "source": [
    "print(next_battle_X,', ', next_battle_Y)"
   ]
  },
  {
   "cell_type": "code",
   "execution_count": null,
   "id": "43a24989",
   "metadata": {},
   "outputs": [],
   "source": [
    "m.position() #START\n"
   ]
  },
  {
   "cell_type": "code",
   "execution_count": null,
   "id": "08753a44",
   "metadata": {},
   "outputs": [],
   "source": []
  },
  {
   "cell_type": "code",
   "execution_count": null,
   "id": "3e10a16f",
   "metadata": {},
   "outputs": [],
   "source": []
  },
  {
   "cell_type": "code",
   "execution_count": null,
   "id": "bc0e56e4",
   "metadata": {},
   "outputs": [],
   "source": []
  },
  {
   "cell_type": "code",
   "execution_count": null,
   "id": "d7098a0a",
   "metadata": {},
   "outputs": [],
   "source": [
    "start_time = 1"
   ]
  },
  {
   "cell_type": "code",
   "execution_count": 76,
   "id": "e1651092",
   "metadata": {},
   "outputs": [],
   "source": [
    "battles = 11"
   ]
  },
  {
   "cell_type": "code",
   "execution_count": 77,
   "id": "584e505f",
   "metadata": {},
   "outputs": [
    {
     "ename": "KeyboardInterrupt",
     "evalue": "",
     "output_type": "error",
     "traceback": [
      "\u001b[0;31m---------------------------------------------------------------------------\u001b[0m",
      "\u001b[0;31mKeyboardInterrupt\u001b[0m                         Traceback (most recent call last)",
      "\u001b[0;32m/tmp/ipykernel_110551/1214904492.py\u001b[0m in \u001b[0;36m<module>\u001b[0;34m\u001b[0m\n\u001b[1;32m     10\u001b[0m \u001b[0;34m\u001b[0m\u001b[0m\n\u001b[1;32m     11\u001b[0m     \u001b[0mm\u001b[0m\u001b[0;34m.\u001b[0m\u001b[0mclick\u001b[0m\u001b[0;34m(\u001b[0m\u001b[0mbeggin_battle_X\u001b[0m \u001b[0;34m+\u001b[0m \u001b[0mrandom\u001b[0m\u001b[0;34m.\u001b[0m\u001b[0mrandint\u001b[0m\u001b[0;34m(\u001b[0m\u001b[0;36m0\u001b[0m\u001b[0;34m,\u001b[0m\u001b[0;36m10\u001b[0m\u001b[0;34m)\u001b[0m \u001b[0;34m-\u001b[0m \u001b[0;36m5\u001b[0m\u001b[0;34m,\u001b[0m \u001b[0mbeggin_battle_Y\u001b[0m \u001b[0;34m+\u001b[0m \u001b[0mrandom\u001b[0m\u001b[0;34m.\u001b[0m\u001b[0mrandint\u001b[0m\u001b[0;34m(\u001b[0m\u001b[0;36m0\u001b[0m\u001b[0;34m,\u001b[0m\u001b[0;36m5\u001b[0m\u001b[0;34m)\u001b[0m \u001b[0;34m-\u001b[0m \u001b[0;36m2\u001b[0m\u001b[0;34m,\u001b[0m \u001b[0;36m1\u001b[0m\u001b[0;34m)\u001b[0m \u001b[0;31m#BEGGIN\u001b[0m\u001b[0;34m\u001b[0m\u001b[0;34m\u001b[0m\u001b[0m\n\u001b[0;32m---> 12\u001b[0;31m     \u001b[0mtime\u001b[0m\u001b[0;34m.\u001b[0m\u001b[0msleep\u001b[0m\u001b[0;34m(\u001b[0m\u001b[0;34m(\u001b[0m\u001b[0mstart_time\u001b[0m\u001b[0;34m*\u001b[0m\u001b[0;36m20\u001b[0m\u001b[0;34m)\u001b[0m\u001b[0;34m+\u001b[0m \u001b[0mrandom\u001b[0m\u001b[0;34m.\u001b[0m\u001b[0muniform\u001b[0m\u001b[0;34m(\u001b[0m\u001b[0;36m1\u001b[0m\u001b[0;34m,\u001b[0m\u001b[0;36m2\u001b[0m\u001b[0;34m)\u001b[0m\u001b[0;34m)\u001b[0m\u001b[0;34m\u001b[0m\u001b[0;34m\u001b[0m\u001b[0m\n\u001b[0m\u001b[1;32m     13\u001b[0m \u001b[0;34m\u001b[0m\u001b[0m\n\u001b[1;32m     14\u001b[0m \u001b[0;34m\u001b[0m\u001b[0m\n",
      "\u001b[0;31mKeyboardInterrupt\u001b[0m: "
     ]
    }
   ],
   "source": [
    "time.sleep(1.532131)\n",
    "m.click(challenge_X + random.randint(0,10) - 5, challenge_Y + random.randint(0,5) - 2, 1) #START\n",
    "time.sleep(start_time + random.uniform(1,2))\n",
    "for i in range(0, battles):\n",
    "    m.click(challenge_X + random.randint(0,10) - 5, challenge_Y + random.randint(0,5) - 2, 1) #CHALLENGE\n",
    "    time.sleep(start_time + random.uniform(1,2))\n",
    "\n",
    "    m.click(fight_worse_X + random.randint(0,10) - 5, fight_worse_Y + random.randint(0,5) - 2, 1) #FIGHT_WORSE\n",
    "    time.sleep(start_time*2+ random.uniform(1,2))\n",
    "\n",
    "    m.click(beggin_battle_X + random.randint(0,10) - 5, beggin_battle_Y + random.randint(0,5) - 2, 1) #BEGGIN\n",
    "    time.sleep((start_time*20)+ random.uniform(1,2))\n",
    "\n",
    "\n",
    "    m.click(next_battle_X + random.randint(0,10) - 5, next_battle_Y + random.randint(0,5) - 2, 1) #NEXT BATTLE\n",
    "    time.sleep((start_time*2)+ random.uniform(1,2))\n",
    "\n"
   ]
  },
  {
   "cell_type": "code",
   "execution_count": null,
   "id": "5c7dd569",
   "metadata": {},
   "outputs": [],
   "source": []
  },
  {
   "cell_type": "code",
   "execution_count": null,
   "id": "df62e212",
   "metadata": {},
   "outputs": [],
   "source": []
  },
  {
   "cell_type": "code",
   "execution_count": null,
   "id": "8a0f0593",
   "metadata": {},
   "outputs": [],
   "source": []
  },
  {
   "cell_type": "code",
   "execution_count": null,
   "id": "a91334cc",
   "metadata": {},
   "outputs": [],
   "source": []
  },
  {
   "cell_type": "code",
   "execution_count": 95,
   "id": "7fa9b6f2",
   "metadata": {},
   "outputs": [
    {
     "data": {
      "text/plain": [
       "0"
      ]
     },
     "execution_count": 95,
     "metadata": {},
     "output_type": "execute_result"
    }
   ],
   "source": [
    "random.uniform(0,3)"
   ]
  },
  {
   "cell_type": "markdown",
   "id": "08d5ba6b",
   "metadata": {},
   "source": [
    "## home notebook 1 screen"
   ]
  },
  {
   "cell_type": "code",
   "execution_count": null,
   "id": "69ac7aed",
   "metadata": {},
   "outputs": [],
   "source": []
  },
  {
   "cell_type": "code",
   "execution_count": null,
   "id": "68073e0e",
   "metadata": {},
   "outputs": [],
   "source": []
  },
  {
   "cell_type": "code",
   "execution_count": null,
   "id": "7d1e5d04",
   "metadata": {},
   "outputs": [],
   "source": []
  },
  {
   "cell_type": "code",
   "execution_count": 13,
   "id": "a9326ad9",
   "metadata": {},
   "outputs": [],
   "source": [
    "start_X = 1626\n",
    "start_Y = 895 + 10\n",
    "start_time = 2\n",
    "\n",
    "next_X = 1713\n",
    "next_Y = 720\n",
    "\n",
    "ad1_X = 1848\n",
    "ad1_Y = 226\n",
    "\n",
    "random_X = 0\n",
    "random_y = 0\n",
    "random_time = 0"
   ]
  },
  {
   "cell_type": "markdown",
   "id": "9ca69bfc",
   "metadata": {},
   "source": [
    "## work notebook 2 screen\n"
   ]
  },
  {
   "cell_type": "code",
   "execution_count": 70,
   "id": "9963e81d",
   "metadata": {},
   "outputs": [],
   "source": [
    "start_X = 1257\n",
    "start_Y = 1793 + 10 # safety buying\n",
    "start_time = 2\n",
    "\n",
    "next_X = 1314\n",
    "next_Y = 1678\n",
    "\n",
    "ad1_X = 1407\n",
    "ad1_Y = 1340\n",
    "\n",
    "random_X = 0\n",
    "random_y = 0\n",
    "random_time = 0"
   ]
  },
  {
   "cell_type": "code",
   "execution_count": 6,
   "id": "03bf1ada",
   "metadata": {},
   "outputs": [
    {
     "data": {
      "text/plain": [
       "1"
      ]
     },
     "execution_count": 6,
     "metadata": {},
     "output_type": "execute_result"
    }
   ],
   "source": [
    "random.randint(0,1)"
   ]
  },
  {
   "cell_type": "code",
   "execution_count": 7,
   "id": "2faaa47c",
   "metadata": {},
   "outputs": [],
   "source": [
    "if(0): \n",
    "    print('hey')"
   ]
  },
  {
   "cell_type": "code",
   "execution_count": 18,
   "id": "f892056d",
   "metadata": {},
   "outputs": [
    {
     "ename": "KeyboardInterrupt",
     "evalue": "",
     "output_type": "error",
     "traceback": [
      "\u001b[0;31m---------------------------------------------------------------------------\u001b[0m",
      "\u001b[0;31mKeyboardInterrupt\u001b[0m                         Traceback (most recent call last)",
      "\u001b[0;32m/tmp/ipykernel_33241/1773086289.py\u001b[0m in \u001b[0;36m<module>\u001b[0;34m\u001b[0m\n\u001b[1;32m     15\u001b[0m \u001b[0;34m\u001b[0m\u001b[0m\n\u001b[1;32m     16\u001b[0m     \u001b[0mm\u001b[0m\u001b[0;34m.\u001b[0m\u001b[0mclick\u001b[0m\u001b[0;34m(\u001b[0m\u001b[0mstart_X\u001b[0m \u001b[0;34m+\u001b[0m \u001b[0mrandom\u001b[0m\u001b[0;34m.\u001b[0m\u001b[0mrandint\u001b[0m\u001b[0;34m(\u001b[0m\u001b[0;36m0\u001b[0m\u001b[0;34m,\u001b[0m\u001b[0;36m10\u001b[0m\u001b[0;34m)\u001b[0m \u001b[0;34m-\u001b[0m \u001b[0;36m5\u001b[0m\u001b[0;34m,\u001b[0m \u001b[0mstart_Y\u001b[0m \u001b[0;34m+\u001b[0m \u001b[0mrandom\u001b[0m\u001b[0;34m.\u001b[0m\u001b[0mrandint\u001b[0m\u001b[0;34m(\u001b[0m\u001b[0;36m0\u001b[0m\u001b[0;34m,\u001b[0m\u001b[0;36m5\u001b[0m\u001b[0;34m)\u001b[0m \u001b[0;34m-\u001b[0m \u001b[0;36m2\u001b[0m\u001b[0;34m,\u001b[0m \u001b[0;36m1\u001b[0m\u001b[0;34m,\u001b[0m \u001b[0;36m1\u001b[0m\u001b[0;34m)\u001b[0m \u001b[0;31m#BEGiGIN BATTLE\u001b[0m\u001b[0;34m\u001b[0m\u001b[0;34m\u001b[0m\u001b[0m\n\u001b[0;32m---> 17\u001b[0;31m     \u001b[0mtime\u001b[0m\u001b[0;34m.\u001b[0m\u001b[0msleep\u001b[0m\u001b[0;34m(\u001b[0m\u001b[0mstart_time\u001b[0m\u001b[0;34m*\u001b[0m\u001b[0;36m10\u001b[0m \u001b[0;34m+\u001b[0m \u001b[0mrandom\u001b[0m\u001b[0;34m.\u001b[0m\u001b[0muniform\u001b[0m\u001b[0;34m(\u001b[0m\u001b[0;36m0\u001b[0m\u001b[0;34m,\u001b[0m\u001b[0;36m2\u001b[0m\u001b[0;34m)\u001b[0m\u001b[0;34m)\u001b[0m\u001b[0;34m\u001b[0m\u001b[0;34m\u001b[0m\u001b[0m\n\u001b[0m\u001b[1;32m     18\u001b[0m \u001b[0;34m\u001b[0m\u001b[0m\n\u001b[1;32m     19\u001b[0m     \u001b[0;31m#CLOSE PROPAGANDAS\u001b[0m\u001b[0;34m\u001b[0m\u001b[0;34m\u001b[0m\u001b[0;34m\u001b[0m\u001b[0m\n",
      "\u001b[0;31mKeyboardInterrupt\u001b[0m: "
     ]
    }
   ],
   "source": [
    "time.sleep(1.532131)\n",
    "m.click(start_X + random.randint(0,10) - 5, start_Y + random.randint(0,5) - 2, 1) #START\n",
    "time.sleep(start_time + random.uniform(0,2))\n",
    " \n",
    "while(True):\n",
    "    m.click(start_X + random.randint(0,10) - 5, start_Y + random.randint(0,5) - 2, 1) #BATTLE\n",
    "    time.sleep(start_time+ random.uniform(0,1))\n",
    "    \n",
    "    m.click(start_X + random.randint(0,10) - 5, start_Y + random.randint(0,5) - 2, 1) #BATTLE\n",
    "    time.sleep((start_time*0.5)+ random.uniform(0,1))\n",
    "    \n",
    "    m.click(start_X + random.randint(0,10) - 5, start_Y + random.randint(0,5) - 2, 1) #BATTLE\n",
    "    time.sleep(start_time+ random.uniform(0,1))\n",
    "    \n",
    "\n",
    "    m.click(start_X + random.randint(0,10) - 5, start_Y + random.randint(0,5) - 2, 1, 1) #BEGiGIN BATTLE\n",
    "    time.sleep(start_time*10 + random.uniform(0,2))\n",
    "\n",
    "    #CLOSE PROPAGANDAS\n",
    "    \n",
    "    #m.click(ad1_X+ random.randint(1,2) - 5, ad1_Y + random.randint(1,2) - 2, 1)#CLOSE PROPAGANDA 1\n",
    "    #time.sleep(random.uniform(1,2))\n",
    "    m.click(ad1_X - 5+ random.randint(1,2) - 5, ad1_Y + 5 + random.randint(1,2) - 2, 1)#CLOSE PROPAGANDA 2\n",
    "    time.sleep(start_time + random.uniform(0,1))\n",
    "    \n",
    "    #DONE\n",
    "\n",
    "    m.click(next_X+ random.randint(0,10) - 5, next_Y + random.randint(0,5) - 2, 1) #NEXT\n",
    "    time.sleep((start_time*0.5) + random.uniform(0,0.2))\n",
    "    \n",
    "    m.click(next_X+ random.randint(0,10) - 5, next_Y + random.randint(0,5) - 2, 1) #NEXT\n",
    "    time.sleep((start_time*0.5)+ random.uniform(0,2))"
   ]
  },
  {
   "cell_type": "code",
   "execution_count": null,
   "id": "9f012587",
   "metadata": {},
   "outputs": [],
   "source": []
  },
  {
   "cell_type": "code",
   "execution_count": 103,
   "id": "baa58bdd",
   "metadata": {},
   "outputs": [],
   "source": []
  },
  {
   "cell_type": "code",
   "execution_count": null,
   "id": "71a8fb9e",
   "metadata": {},
   "outputs": [],
   "source": [
    "\n",
    "time.sleep(2)\n",
    "m.click(1615, 1803, 1)"
   ]
  },
  {
   "cell_type": "code",
   "execution_count": 32,
   "id": "3f1d29f4",
   "metadata": {},
   "outputs": [
    {
     "data": {
      "text/plain": [
       "'x:1713 y:910 screen:0 window:62914582\\n'"
      ]
     },
     "execution_count": 32,
     "metadata": {},
     "output_type": "execute_result"
    }
   ],
   "source": [
    "\n",
    "#start battle\n",
    "out = subprocess.run([\"xdotool\", \"getmouselocation\"], capture_output=True)\n",
    "\n",
    "out.stdout.decode(\"utf-8\")"
   ]
  },
  {
   "cell_type": "code",
   "execution_count": 33,
   "id": "714099ae",
   "metadata": {},
   "outputs": [
    {
     "data": {
      "text/plain": [
       "'x:1766 y:678 screen:0 window:62914582\\n'"
      ]
     },
     "execution_count": 33,
     "metadata": {},
     "output_type": "execute_result"
    }
   ],
   "source": [
    "\n",
    "#next battle\n",
    "out = subprocess.run([\"xdotool\", \"getmouselocation\"], capture_output=True)\n",
    "\n",
    "out.stdout.decode(\"utf-8\")"
   ]
  },
  {
   "cell_type": "code",
   "execution_count": null,
   "id": "db50ee5c",
   "metadata": {},
   "outputs": [],
   "source": [
    "\n",
    "\n",
    "out = subprocess.run([\"xdotool\", \"getmouselocation\"], capture_output=True)\n",
    "\n",
    "out.stdout.decode(\"utf-8\")"
   ]
  },
  {
   "cell_type": "code",
   "execution_count": null,
   "id": "3ae95682",
   "metadata": {},
   "outputs": [],
   "source": [
    "\n",
    "\n",
    "out = subprocess.run([\"xdotool\", \"getmouselocation\"], capture_output=True)\n",
    "\n",
    "out.stdout.decode(\"utf-8\")"
   ]
  },
  {
   "cell_type": "code",
   "execution_count": null,
   "id": "ff4a64c7",
   "metadata": {},
   "outputs": [],
   "source": [
    "\n",
    "\n",
    "out = subprocess.run([\"xdotool\", \"getmouselocation\"], capture_output=True)\n",
    "\n",
    "out.stdout.decode(\"utf-8\")"
   ]
  },
  {
   "cell_type": "code",
   "execution_count": 2,
   "id": "71c1d73b",
   "metadata": {},
   "outputs": [
    {
     "name": "stdout",
     "output_type": "stream",
     "text": [
      "hello\n",
      "0.0003705024719238281\n"
     ]
    }
   ],
   "source": [
    "\n",
    "start = time.time()\n",
    "print(\"hello\")\n",
    "end = time.time()\n",
    "print(end - start)"
   ]
  },
  {
   "cell_type": "code",
   "execution_count": 19,
   "id": "fc47a373",
   "metadata": {},
   "outputs": [],
   "source": [
    "start = time.time()"
   ]
  },
  {
   "cell_type": "code",
   "execution_count": 20,
   "id": "71f12dd2",
   "metadata": {},
   "outputs": [
    {
     "name": "stdout",
     "output_type": "stream",
     "text": [
      "11.243063926696777\n"
     ]
    }
   ],
   "source": [
    "end = time.time()\n",
    "final = end - start\n",
    "print(end - start)"
   ]
  },
  {
   "cell_type": "code",
   "execution_count": 51,
   "id": "f771f445",
   "metadata": {},
   "outputs": [
    {
     "data": {
      "text/plain": [
       "3"
      ]
     },
     "execution_count": 51,
     "metadata": {},
     "output_type": "execute_result"
    }
   ],
   "source": [
    "int(final)"
   ]
  },
  {
   "cell_type": "code",
   "execution_count": 3,
   "id": "854662a7",
   "metadata": {},
   "outputs": [],
   "source": [
    "\n",
    "out2 = subprocess.run(['sleep', '0.2', '&&', 'xdotool', 'mousemove', '1708', '901'], capture_output=True)\n",
    "time.sleep(2)\n",
    "out2 = subprocess.run(['sleep', '0.2', '&&','xdotool', 'click','--clearmodifiers', '1'], capture_output=True)\n"
   ]
  },
  {
   "cell_type": "code",
   "execution_count": 18,
   "id": "5ed13da4",
   "metadata": {},
   "outputs": [],
   "source": [
    "time.sleep(2)\n",
    "out2 = subprocess.run(['xdotool', 'mousemove', '1706', '895', 'click', '--clearmodifiers', '2'], capture_output=False)\n",
    "time.sleep(2)\n",
    "out2 = subprocess.run(['xdotool', 'click', '--clearmodifiers', '2'], capture_output=False)"
   ]
  },
  {
   "cell_type": "code",
   "execution_count": 16,
   "id": "d043eb7c",
   "metadata": {},
   "outputs": [],
   "source": [
    "time.sleep(2)\n",
    "out2 = subprocess.run(['xdotool', 'click', '--clearmodifiers', '3'], capture_output=False)\n",
    "time.sleep(2)\n",
    "out2 = subprocess.run(['xdotool', 'mousemove', '1706', '895', 'click', '--clearmodifiers', '3'], capture_output=False)"
   ]
  },
  {
   "cell_type": "code",
   "execution_count": null,
   "id": "8df2ae91",
   "metadata": {},
   "outputs": [],
   "source": []
  }
 ],
 "metadata": {
  "kernelspec": {
   "display_name": "Python 3 (ipykernel)",
   "language": "python",
   "name": "python3"
  },
  "language_info": {
   "codemirror_mode": {
    "name": "ipython",
    "version": 3
   },
   "file_extension": ".py",
   "mimetype": "text/x-python",
   "name": "python",
   "nbconvert_exporter": "python",
   "pygments_lexer": "ipython3",
   "version": "3.8.10"
  }
 },
 "nbformat": 4,
 "nbformat_minor": 5
}
